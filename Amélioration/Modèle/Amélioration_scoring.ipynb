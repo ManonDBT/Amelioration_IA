{
 "metadata": {
  "language_info": {
   "codemirror_mode": {
    "name": "ipython",
    "version": 3
   },
   "file_extension": ".py",
   "mimetype": "text/x-python",
   "name": "python",
   "nbconvert_exporter": "python",
   "pygments_lexer": "ipython3",
   "version": "3.8.5"
  },
  "orig_nbformat": 2,
  "kernelspec": {
   "name": "python385jvsc74a57bd0f7e0b5cc576e13448e85870bccda211fddd7659423d6acded0f9159c552ee807",
   "display_name": "Python 3.8.5 64-bit (conda)"
  }
 },
 "nbformat": 4,
 "nbformat_minor": 2,
 "cells": [
  {
   "source": [
    "#  Bibliothèque"
   ],
   "cell_type": "markdown",
   "metadata": {}
  },
  {
   "cell_type": "code",
   "execution_count": 1,
   "metadata": {},
   "outputs": [],
   "source": [
    "import numpy as np # linear algebra\n",
    "import pandas as pd # data processing, CSV file I/O (e.g. pd.read_csv)\n",
    "import math\n",
    "import re\n",
    "\n",
    "\n",
    "from sklearn.linear_model import LogisticRegression\n",
    "from sklearn import metrics\n",
    "from sklearn.model_selection import train_test_split\n",
    "from sklearn.metrics import f1_score\n",
    "from sklearn.linear_model import LogisticRegression\n",
    "from sklearn.ensemble import RandomForestClassifier\n",
    "\n",
    "\n",
    "import numpy as np\n",
    "import matplotlib.pyplot as plt\n",
    "from itertools import cycle\n",
    "\n",
    "from sklearn import svm, datasets\n",
    "from sklearn.metrics import roc_curve, auc\n",
    "from sklearn.model_selection import train_test_split\n",
    "from sklearn.preprocessing import label_binarize\n",
    "from sklearn.multiclass import OneVsRestClassifier\n",
    "from scipy import interp\n",
    "from sklearn.metrics import roc_auc_score\n",
    "\n",
    "from sklearn import tree"
   ]
  },
  {
   "source": [
    "# Fichier"
   ],
   "cell_type": "markdown",
   "metadata": {}
  },
  {
   "cell_type": "code",
   "execution_count": 80,
   "metadata": {},
   "outputs": [
    {
     "output_type": "execute_result",
     "data": {
      "text/plain": [
       "            11:14  7.2      Crime        Greg Marcks       Henry Thomas  \\\n",
       "0               9  7.1  Animation        Shane Acker        Elijah Wood   \n",
       "1              21  6.8      Crime     Robert Luketic       Jim Sturgess   \n",
       "2              31  5.1     Horror         Rob Zombie   Malcolm McDowell   \n",
       "3              42  7.5  Biography    Brian Helgeland   Chadwick Boseman   \n",
       "4             300  7.7     Action        Zack Snyder      Gerard Butler   \n",
       "...           ...  ...        ...                ...                ...   \n",
       "3126  Zoolander 2  4.7     Action        Ben Stiller        Ben Stiller   \n",
       "3127         Zoom  4.3     Action       Peter Hewitt          Tim Allen   \n",
       "3128     Zootopia  8.0  Animation         Rich Moore       Byron Howard   \n",
       "3129         Zulu  6.7      Crime  Jerï¿½ï¿½me Salle      Orlando Bloom   \n",
       "3130    Zwartboek  7.8      Drama     Paul Verhoeven  Carice van Houten   \n",
       "\n",
       "            Colin Hanks    6000000          0         0.1  Aug 12, 2005  \n",
       "0     Jennifer Connelly   30000000   31749894    48559999   Sep 9, 2009  \n",
       "1         Kate Bosworth   35000000   81159365   159846429  Mar 28, 2008  \n",
       "2         Richard Brake    1500000     779820      922727  Oct 21, 2016  \n",
       "3           T.R. Knight   31000000   95020213    97470701  Apr 12, 2013  \n",
       "4           Lena Headey   60000000  210614939   454161935   Mar 9, 2007  \n",
       "...                 ...        ...        ...         ...           ...  \n",
       "3126        Owen Wilson   50000000   28848693    55348693  Feb 12, 2016  \n",
       "3127      Courteney Cox   35000000   11989328    12506188  Aug 11, 2006  \n",
       "3128      Jason Bateman  150000000  341268248  1019429616   Mar 4, 2016  \n",
       "3129    Forest Whitaker   16000000          0     1844228  Dec 31, 2013  \n",
       "3130     Sebastian Koch   22000000    4398532    27238354   Apr 6, 2007  \n",
       "\n",
       "[3131 rows x 10 columns]"
      ],
      "text/html": "<div>\n<style scoped>\n    .dataframe tbody tr th:only-of-type {\n        vertical-align: middle;\n    }\n\n    .dataframe tbody tr th {\n        vertical-align: top;\n    }\n\n    .dataframe thead th {\n        text-align: right;\n    }\n</style>\n<table border=\"1\" class=\"dataframe\">\n  <thead>\n    <tr style=\"text-align: right;\">\n      <th></th>\n      <th>11:14</th>\n      <th>7.2</th>\n      <th>Crime</th>\n      <th>Greg Marcks</th>\n      <th>Henry Thomas</th>\n      <th>Colin Hanks</th>\n      <th>6000000</th>\n      <th>0</th>\n      <th>0.1</th>\n      <th>Aug 12, 2005</th>\n    </tr>\n  </thead>\n  <tbody>\n    <tr>\n      <th>0</th>\n      <td>9</td>\n      <td>7.1</td>\n      <td>Animation</td>\n      <td>Shane Acker</td>\n      <td>Elijah Wood</td>\n      <td>Jennifer Connelly</td>\n      <td>30000000</td>\n      <td>31749894</td>\n      <td>48559999</td>\n      <td>Sep 9, 2009</td>\n    </tr>\n    <tr>\n      <th>1</th>\n      <td>21</td>\n      <td>6.8</td>\n      <td>Crime</td>\n      <td>Robert Luketic</td>\n      <td>Jim Sturgess</td>\n      <td>Kate Bosworth</td>\n      <td>35000000</td>\n      <td>81159365</td>\n      <td>159846429</td>\n      <td>Mar 28, 2008</td>\n    </tr>\n    <tr>\n      <th>2</th>\n      <td>31</td>\n      <td>5.1</td>\n      <td>Horror</td>\n      <td>Rob Zombie</td>\n      <td>Malcolm McDowell</td>\n      <td>Richard Brake</td>\n      <td>1500000</td>\n      <td>779820</td>\n      <td>922727</td>\n      <td>Oct 21, 2016</td>\n    </tr>\n    <tr>\n      <th>3</th>\n      <td>42</td>\n      <td>7.5</td>\n      <td>Biography</td>\n      <td>Brian Helgeland</td>\n      <td>Chadwick Boseman</td>\n      <td>T.R. Knight</td>\n      <td>31000000</td>\n      <td>95020213</td>\n      <td>97470701</td>\n      <td>Apr 12, 2013</td>\n    </tr>\n    <tr>\n      <th>4</th>\n      <td>300</td>\n      <td>7.7</td>\n      <td>Action</td>\n      <td>Zack Snyder</td>\n      <td>Gerard Butler</td>\n      <td>Lena Headey</td>\n      <td>60000000</td>\n      <td>210614939</td>\n      <td>454161935</td>\n      <td>Mar 9, 2007</td>\n    </tr>\n    <tr>\n      <th>...</th>\n      <td>...</td>\n      <td>...</td>\n      <td>...</td>\n      <td>...</td>\n      <td>...</td>\n      <td>...</td>\n      <td>...</td>\n      <td>...</td>\n      <td>...</td>\n      <td>...</td>\n    </tr>\n    <tr>\n      <th>3126</th>\n      <td>Zoolander 2</td>\n      <td>4.7</td>\n      <td>Action</td>\n      <td>Ben Stiller</td>\n      <td>Ben Stiller</td>\n      <td>Owen Wilson</td>\n      <td>50000000</td>\n      <td>28848693</td>\n      <td>55348693</td>\n      <td>Feb 12, 2016</td>\n    </tr>\n    <tr>\n      <th>3127</th>\n      <td>Zoom</td>\n      <td>4.3</td>\n      <td>Action</td>\n      <td>Peter Hewitt</td>\n      <td>Tim Allen</td>\n      <td>Courteney Cox</td>\n      <td>35000000</td>\n      <td>11989328</td>\n      <td>12506188</td>\n      <td>Aug 11, 2006</td>\n    </tr>\n    <tr>\n      <th>3128</th>\n      <td>Zootopia</td>\n      <td>8.0</td>\n      <td>Animation</td>\n      <td>Rich Moore</td>\n      <td>Byron Howard</td>\n      <td>Jason Bateman</td>\n      <td>150000000</td>\n      <td>341268248</td>\n      <td>1019429616</td>\n      <td>Mar 4, 2016</td>\n    </tr>\n    <tr>\n      <th>3129</th>\n      <td>Zulu</td>\n      <td>6.7</td>\n      <td>Crime</td>\n      <td>Jerï¿½ï¿½me Salle</td>\n      <td>Orlando Bloom</td>\n      <td>Forest Whitaker</td>\n      <td>16000000</td>\n      <td>0</td>\n      <td>1844228</td>\n      <td>Dec 31, 2013</td>\n    </tr>\n    <tr>\n      <th>3130</th>\n      <td>Zwartboek</td>\n      <td>7.8</td>\n      <td>Drama</td>\n      <td>Paul Verhoeven</td>\n      <td>Carice van Houten</td>\n      <td>Sebastian Koch</td>\n      <td>22000000</td>\n      <td>4398532</td>\n      <td>27238354</td>\n      <td>Apr 6, 2007</td>\n    </tr>\n  </tbody>\n</table>\n<p>3131 rows × 10 columns</p>\n</div>"
     },
     "metadata": {},
     "execution_count": 80
    }
   ],
   "source": [
    "imdb = pd.read_csv(\"/Users/manon/Projet/Projet-SIMPLON/Amélioration/Data/movies2.csv\", encoding=\"latin-1\")\n",
    "imdb"
   ]
  },
  {
   "cell_type": "code",
   "execution_count": 81,
   "metadata": {},
   "outputs": [],
   "source": [
    "df = imdb.rename(columns = {'11:14' :'film','7.2' : 'metascore','Crime' : 'genre', 'Greg Marcks':'realisateur', \t'Henry Thomas' : 'acteur_1', 'Colin Hanks':'acteur_2, ','6000000' : 'budget',\t'0': 'votes2',\t'0.1': 'vote',\t'Aug 12, 2005': 'date'})"
   ]
  },
  {
   "cell_type": "code",
   "execution_count": 82,
   "metadata": {},
   "outputs": [
    {
     "output_type": "execute_result",
     "data": {
      "text/plain": [
       "             Film  metascore      genre        realisateur           acteur_1  \\\n",
       "0               9        7.1  Animation        Shane Acker        Elijah Wood   \n",
       "1              21        6.8      Crime     Robert Luketic       Jim Sturgess   \n",
       "2              31        5.1     Horror         Rob Zombie   Malcolm McDowell   \n",
       "3              42        7.5  Biography    Brian Helgeland   Chadwick Boseman   \n",
       "4             300        7.7     Action        Zack Snyder      Gerard Butler   \n",
       "...           ...        ...        ...                ...                ...   \n",
       "3126  Zoolander 2        4.7     Action        Ben Stiller        Ben Stiller   \n",
       "3127         Zoom        4.3     Action       Peter Hewitt          Tim Allen   \n",
       "3128     Zootopia        8.0  Animation         Rich Moore       Byron Howard   \n",
       "3129         Zulu        6.7      Crime  Jerï¿½ï¿½me Salle      Orlando Bloom   \n",
       "3130    Zwartboek        7.8      Drama     Paul Verhoeven  Carice van Houten   \n",
       "\n",
       "             acteur_2,      budget     votes2        vote          date  \n",
       "0     Jennifer Connelly   30000000   31749894    48559999   Sep 9, 2009  \n",
       "1         Kate Bosworth   35000000   81159365   159846429  Mar 28, 2008  \n",
       "2         Richard Brake    1500000     779820      922727  Oct 21, 2016  \n",
       "3           T.R. Knight   31000000   95020213    97470701  Apr 12, 2013  \n",
       "4           Lena Headey   60000000  210614939   454161935   Mar 9, 2007  \n",
       "...                 ...        ...        ...         ...           ...  \n",
       "3126        Owen Wilson   50000000   28848693    55348693  Feb 12, 2016  \n",
       "3127      Courteney Cox   35000000   11989328    12506188  Aug 11, 2006  \n",
       "3128      Jason Bateman  150000000  341268248  1019429616   Mar 4, 2016  \n",
       "3129    Forest Whitaker   16000000          0     1844228  Dec 31, 2013  \n",
       "3130     Sebastian Koch   22000000    4398532    27238354   Apr 6, 2007  \n",
       "\n",
       "[3131 rows x 10 columns]"
      ],
      "text/html": "<div>\n<style scoped>\n    .dataframe tbody tr th:only-of-type {\n        vertical-align: middle;\n    }\n\n    .dataframe tbody tr th {\n        vertical-align: top;\n    }\n\n    .dataframe thead th {\n        text-align: right;\n    }\n</style>\n<table border=\"1\" class=\"dataframe\">\n  <thead>\n    <tr style=\"text-align: right;\">\n      <th></th>\n      <th>Film</th>\n      <th>metascore</th>\n      <th>genre</th>\n      <th>realisateur</th>\n      <th>acteur_1</th>\n      <th>acteur_2,</th>\n      <th>budget</th>\n      <th>votes2</th>\n      <th>vote</th>\n      <th>date</th>\n    </tr>\n  </thead>\n  <tbody>\n    <tr>\n      <th>0</th>\n      <td>9</td>\n      <td>7.1</td>\n      <td>Animation</td>\n      <td>Shane Acker</td>\n      <td>Elijah Wood</td>\n      <td>Jennifer Connelly</td>\n      <td>30000000</td>\n      <td>31749894</td>\n      <td>48559999</td>\n      <td>Sep 9, 2009</td>\n    </tr>\n    <tr>\n      <th>1</th>\n      <td>21</td>\n      <td>6.8</td>\n      <td>Crime</td>\n      <td>Robert Luketic</td>\n      <td>Jim Sturgess</td>\n      <td>Kate Bosworth</td>\n      <td>35000000</td>\n      <td>81159365</td>\n      <td>159846429</td>\n      <td>Mar 28, 2008</td>\n    </tr>\n    <tr>\n      <th>2</th>\n      <td>31</td>\n      <td>5.1</td>\n      <td>Horror</td>\n      <td>Rob Zombie</td>\n      <td>Malcolm McDowell</td>\n      <td>Richard Brake</td>\n      <td>1500000</td>\n      <td>779820</td>\n      <td>922727</td>\n      <td>Oct 21, 2016</td>\n    </tr>\n    <tr>\n      <th>3</th>\n      <td>42</td>\n      <td>7.5</td>\n      <td>Biography</td>\n      <td>Brian Helgeland</td>\n      <td>Chadwick Boseman</td>\n      <td>T.R. Knight</td>\n      <td>31000000</td>\n      <td>95020213</td>\n      <td>97470701</td>\n      <td>Apr 12, 2013</td>\n    </tr>\n    <tr>\n      <th>4</th>\n      <td>300</td>\n      <td>7.7</td>\n      <td>Action</td>\n      <td>Zack Snyder</td>\n      <td>Gerard Butler</td>\n      <td>Lena Headey</td>\n      <td>60000000</td>\n      <td>210614939</td>\n      <td>454161935</td>\n      <td>Mar 9, 2007</td>\n    </tr>\n    <tr>\n      <th>...</th>\n      <td>...</td>\n      <td>...</td>\n      <td>...</td>\n      <td>...</td>\n      <td>...</td>\n      <td>...</td>\n      <td>...</td>\n      <td>...</td>\n      <td>...</td>\n      <td>...</td>\n    </tr>\n    <tr>\n      <th>3126</th>\n      <td>Zoolander 2</td>\n      <td>4.7</td>\n      <td>Action</td>\n      <td>Ben Stiller</td>\n      <td>Ben Stiller</td>\n      <td>Owen Wilson</td>\n      <td>50000000</td>\n      <td>28848693</td>\n      <td>55348693</td>\n      <td>Feb 12, 2016</td>\n    </tr>\n    <tr>\n      <th>3127</th>\n      <td>Zoom</td>\n      <td>4.3</td>\n      <td>Action</td>\n      <td>Peter Hewitt</td>\n      <td>Tim Allen</td>\n      <td>Courteney Cox</td>\n      <td>35000000</td>\n      <td>11989328</td>\n      <td>12506188</td>\n      <td>Aug 11, 2006</td>\n    </tr>\n    <tr>\n      <th>3128</th>\n      <td>Zootopia</td>\n      <td>8.0</td>\n      <td>Animation</td>\n      <td>Rich Moore</td>\n      <td>Byron Howard</td>\n      <td>Jason Bateman</td>\n      <td>150000000</td>\n      <td>341268248</td>\n      <td>1019429616</td>\n      <td>Mar 4, 2016</td>\n    </tr>\n    <tr>\n      <th>3129</th>\n      <td>Zulu</td>\n      <td>6.7</td>\n      <td>Crime</td>\n      <td>Jerï¿½ï¿½me Salle</td>\n      <td>Orlando Bloom</td>\n      <td>Forest Whitaker</td>\n      <td>16000000</td>\n      <td>0</td>\n      <td>1844228</td>\n      <td>Dec 31, 2013</td>\n    </tr>\n    <tr>\n      <th>3130</th>\n      <td>Zwartboek</td>\n      <td>7.8</td>\n      <td>Drama</td>\n      <td>Paul Verhoeven</td>\n      <td>Carice van Houten</td>\n      <td>Sebastian Koch</td>\n      <td>22000000</td>\n      <td>4398532</td>\n      <td>27238354</td>\n      <td>Apr 6, 2007</td>\n    </tr>\n  </tbody>\n</table>\n<p>3131 rows × 10 columns</p>\n</div>"
     },
     "metadata": {},
     "execution_count": 82
    }
   ],
   "source": [
    "df"
   ]
  },
  {
   "source": [
    "# PREPROSS"
   ],
   "cell_type": "markdown",
   "metadata": {}
  },
  {
   "cell_type": "code",
   "execution_count": 66,
   "metadata": {},
   "outputs": [],
   "source": [
    "def convert_to_int(string):\n",
    "    integer = 0\n",
    "    try:\n",
    "        integer = int(string)\n",
    "    except:\n",
    "        string = string.lower()\n",
    "        for i in string:\n",
    "            integer += ord(i)\n",
    "    return integer"
   ]
  },
  {
   "cell_type": "code",
   "execution_count": 67,
   "metadata": {},
   "outputs": [
    {
     "output_type": "stream",
     "name": "stdout",
     "text": [
      "448\n"
     ]
    }
   ],
   "source": [
    "print(convert_to_int('test'))"
   ]
  },
  {
   "cell_type": "code",
   "execution_count": 68,
   "metadata": {},
   "outputs": [],
   "source": [
    "imdb = imdb.values.tolist()\n",
    "\n",
    "X = []\n",
    "y = []\n",
    "\n",
    "\n",
    "for i in range(len(imdb)):\n",
    "    X.append([imdb[i][2], imdb[i][3], imdb[i][4], imdb[i][5]]) #Genre, directeur, Acteur 1 et Acteur 2\n",
    "    y.append(imdb[i][1]) #metascore\n",
    "\n",
    "for i in range(len(X)):\n",
    "    for x in range(len(X[i])):\n",
    "        X[i][x] = convert_to_int(X[i][x])\n",
    "\n",
    "for i in range(len(y)):\n",
    "    y[i] = int(float(y[i])*10)"
   ]
  },
  {
   "cell_type": "code",
   "execution_count": 69,
   "metadata": {},
   "outputs": [
    {
     "output_type": "stream",
     "name": "stdout",
     "text": [
      "['Drama', 'Paul Verhoeven', 'Carice van Houten', 'Sebastian Koch']\n7.8\n"
     ]
    }
   ],
   "source": [
    "print([imdb[i][2], imdb[i][3], imdb[i][4], imdb[i][5]])\n",
    "print(imdb[i][1])"
   ]
  },
  {
   "cell_type": "code",
   "execution_count": 70,
   "metadata": {},
   "outputs": [],
   "source": [
    "X = pd.DataFrame(np.array(X), columns = ['Genre', 'Realisateur', 'Acteur_1','Acteur_2'])\n",
    "y = pd.DataFrame(np.array(y), columns = ['metascore'])"
   ]
  },
  {
   "cell_type": "code",
   "execution_count": 39,
   "metadata": {},
   "outputs": [],
   "source": [
    "X = X.set_axis(['Genre', 'Realisateur', 'Acteur_1','Acteur_2'], \n",
    "                    axis='columns', inplace=True)\n",
    "y = y.set_axis(['metascore'], axis='columns', inplace=True)"
   ]
  },
  {
   "cell_type": "code",
   "execution_count": 15,
   "metadata": {},
   "outputs": [
    {
     "output_type": "stream",
     "name": "stdout",
     "text": [
      "(2191, 4) (940, 4) (2191,) (940,)\n"
     ]
    }
   ],
   "source": [
    "X_train, X_test, y_train, y_test = train_test_split (X,y, test_size = 0.3, random_state=42)\n",
    "print(np.shape(X_train), np.shape(X_test), np.shape(y_train), np.shape(y_test))"
   ]
  },
  {
   "cell_type": "code",
   "execution_count": 16,
   "metadata": {},
   "outputs": [
    {
     "output_type": "execute_result",
     "data": {
      "text/plain": [
       "DecisionTreeClassifier()"
      ]
     },
     "metadata": {},
     "execution_count": 16
    }
   ],
   "source": [
    "model = tree.DecisionTreeClassifier()\n",
    "\n",
    "\n",
    "model.fit(X_train, y_train)"
   ]
  },
  {
   "cell_type": "code",
   "execution_count": 17,
   "metadata": {},
   "outputs": [],
   "source": [
    "y_pred = model.predict(X_test)"
   ]
  },
  {
   "cell_type": "code",
   "execution_count": 18,
   "metadata": {},
   "outputs": [
    {
     "output_type": "error",
     "ename": "NameError",
     "evalue": "name 'relaisateur' is not defined",
     "traceback": [
      "\u001b[0;31m---------------------------------------------------------------------------\u001b[0m",
      "\u001b[0;31mNameError\u001b[0m                                 Traceback (most recent call last)",
      "\u001b[0;32m<ipython-input-18-0a8711a352ea>\u001b[0m in \u001b[0;36m<module>\u001b[0;34m\u001b[0m\n\u001b[1;32m      1\u001b[0m \u001b[0mrealisateur\u001b[0m \u001b[0;34m=\u001b[0m \u001b[0minput\u001b[0m\u001b[0;34m(\u001b[0m\u001b[0;34m\"Entrer le nom d'un réalisateur \"\u001b[0m\u001b[0;34m)\u001b[0m\u001b[0;34m\u001b[0m\u001b[0;34m\u001b[0m\u001b[0m\n\u001b[0;32m----> 2\u001b[0;31m \u001b[0mrelaisateur\u001b[0m \u001b[0;34m=\u001b[0m \u001b[0mrelaisateur\u001b[0m\u001b[0;34m.\u001b[0m\u001b[0mlower\u001b[0m\u001b[0;34m(\u001b[0m\u001b[0;34m)\u001b[0m\u001b[0;34m\u001b[0m\u001b[0;34m\u001b[0m\u001b[0m\n\u001b[0m\u001b[1;32m      3\u001b[0m \u001b[0mrelaisateur\u001b[0m \u001b[0;34m=\u001b[0m \u001b[0mconvert_to_int\u001b[0m\u001b[0;34m(\u001b[0m\u001b[0mrealisateur\u001b[0m\u001b[0;34m)\u001b[0m\u001b[0;34m\u001b[0m\u001b[0;34m\u001b[0m\u001b[0m\n\u001b[1;32m      4\u001b[0m \u001b[0;34m\u001b[0m\u001b[0m\n\u001b[1;32m      5\u001b[0m \u001b[0macteur_1\u001b[0m \u001b[0;34m=\u001b[0m \u001b[0minput\u001b[0m\u001b[0;34m(\u001b[0m\u001b[0;34m\"Entrer le nom d'un premier acteur \"\u001b[0m\u001b[0;34m)\u001b[0m\u001b[0;34m\u001b[0m\u001b[0;34m\u001b[0m\u001b[0m\n",
      "\u001b[0;31mNameError\u001b[0m: name 'relaisateur' is not defined"
     ]
    }
   ],
   "source": [
    "realisateur = input(\"Entrer le nom d'un réalisateur \")\n",
    "relaisateur = relaisateur.lower()\n",
    "relaisateur = convert_to_int(realisateur)\n",
    "\n",
    "acteur_1 = input(\"Entrer le nom d'un premier acteur \")\n",
    "acteur_1 = actor1.lower()\n",
    "acteur_1 = convert_to_int(acteur_2)\n",
    "\n",
    "acteur_2 = input(\"Entrer le nom d'un second acteur \")\n",
    "acteur_2 = acteur_2.lower()\n",
    "acteur_2 = convert_to_int(acteur_2)\n",
    "\n",
    "genre = input(\"Entrer le genre du film \")\n",
    "genre = genre.lower()\n",
    "genre = convert_to_int(genre)\n",
    "\n",
    "\n",
    "prediction = model.predict([[genre, acteur_1, realisateur, acteur_2]])\n",
    "\n",
    "print('le metascore du film serait :',prediction[0]/10)\n"
   ]
  },
  {
   "cell_type": "code",
   "execution_count": 152,
   "metadata": {},
   "outputs": [
    {
     "output_type": "stream",
     "name": "stdout",
     "text": [
      "Fitting 5 folds for each of 20 candidates, totalling 100 fits\n",
      "/Users/manon/opt/anaconda3/lib/python3.8/site-packages/sklearn/model_selection/_split.py:666: UserWarning: The least populated class in y has only 1 members, which is less than n_splits=5.\n",
      "  warnings.warn((\"The least populated class in y has only %d\"\n",
      "[CV 1/5] END ..criterion=gini, max_depth=2, n_estimators=100; total time=   0.4s\n",
      "[CV 2/5] END ..criterion=gini, max_depth=2, n_estimators=100; total time=   0.2s\n",
      "[CV 3/5] END ..criterion=gini, max_depth=2, n_estimators=100; total time=   0.2s\n",
      "[CV 4/5] END ..criterion=gini, max_depth=2, n_estimators=100; total time=   0.2s\n",
      "[CV 5/5] END ..criterion=gini, max_depth=2, n_estimators=100; total time=   0.2s\n",
      "[CV 1/5] END ..criterion=gini, max_depth=2, n_estimators=200; total time=   0.5s\n",
      "[CV 2/5] END ..criterion=gini, max_depth=2, n_estimators=200; total time=   0.4s\n",
      "[CV 3/5] END ..criterion=gini, max_depth=2, n_estimators=200; total time=   0.4s\n",
      "[CV 4/5] END ..criterion=gini, max_depth=2, n_estimators=200; total time=   0.4s\n",
      "[CV 5/5] END ..criterion=gini, max_depth=2, n_estimators=200; total time=   0.4s\n",
      "[CV 1/5] END ..criterion=gini, max_depth=2, n_estimators=300; total time=   0.6s\n",
      "[CV 2/5] END ..criterion=gini, max_depth=2, n_estimators=300; total time=   0.6s\n",
      "[CV 3/5] END ..criterion=gini, max_depth=2, n_estimators=300; total time=   0.6s\n",
      "[CV 4/5] END ..criterion=gini, max_depth=2, n_estimators=300; total time=   0.6s\n",
      "[CV 5/5] END ..criterion=gini, max_depth=2, n_estimators=300; total time=   0.6s\n",
      "[CV 1/5] END ..criterion=gini, max_depth=2, n_estimators=500; total time=   1.0s\n",
      "[CV 2/5] END ..criterion=gini, max_depth=2, n_estimators=500; total time=   1.0s\n",
      "[CV 3/5] END ..criterion=gini, max_depth=2, n_estimators=500; total time=   1.0s\n",
      "[CV 4/5] END ..criterion=gini, max_depth=2, n_estimators=500; total time=   1.0s\n",
      "[CV 5/5] END ..criterion=gini, max_depth=2, n_estimators=500; total time=   1.0s\n",
      "[CV 1/5] END .criterion=gini, max_depth=2, n_estimators=1000; total time=   2.2s\n",
      "[CV 2/5] END .criterion=gini, max_depth=2, n_estimators=1000; total time=   3.4s\n",
      "[CV 3/5] END .criterion=gini, max_depth=2, n_estimators=1000; total time=   3.1s\n",
      "[CV 4/5] END .criterion=gini, max_depth=2, n_estimators=1000; total time=   2.6s\n",
      "[CV 5/5] END .criterion=gini, max_depth=2, n_estimators=1000; total time=   3.1s\n",
      "[CV 1/5] END ..criterion=gini, max_depth=3, n_estimators=100; total time=   0.3s\n",
      "[CV 2/5] END ..criterion=gini, max_depth=3, n_estimators=100; total time=   0.3s\n",
      "[CV 3/5] END ..criterion=gini, max_depth=3, n_estimators=100; total time=   0.2s\n",
      "[CV 4/5] END ..criterion=gini, max_depth=3, n_estimators=100; total time=   0.2s\n",
      "[CV 5/5] END ..criterion=gini, max_depth=3, n_estimators=100; total time=   0.2s\n",
      "[CV 1/5] END ..criterion=gini, max_depth=3, n_estimators=200; total time=   0.5s\n",
      "[CV 2/5] END ..criterion=gini, max_depth=3, n_estimators=200; total time=   0.5s\n",
      "[CV 3/5] END ..criterion=gini, max_depth=3, n_estimators=200; total time=   0.5s\n",
      "[CV 4/5] END ..criterion=gini, max_depth=3, n_estimators=200; total time=   0.5s\n",
      "[CV 5/5] END ..criterion=gini, max_depth=3, n_estimators=200; total time=   0.5s\n",
      "[CV 1/5] END ..criterion=gini, max_depth=3, n_estimators=300; total time=   0.7s\n",
      "[CV 2/5] END ..criterion=gini, max_depth=3, n_estimators=300; total time=   0.7s\n",
      "[CV 3/5] END ..criterion=gini, max_depth=3, n_estimators=300; total time=   0.8s\n",
      "[CV 4/5] END ..criterion=gini, max_depth=3, n_estimators=300; total time=   0.7s\n",
      "[CV 5/5] END ..criterion=gini, max_depth=3, n_estimators=300; total time=   0.9s\n",
      "[CV 1/5] END ..criterion=gini, max_depth=3, n_estimators=500; total time=   1.1s\n",
      "[CV 2/5] END ..criterion=gini, max_depth=3, n_estimators=500; total time=   1.1s\n",
      "[CV 3/5] END ..criterion=gini, max_depth=3, n_estimators=500; total time=   1.2s\n",
      "[CV 4/5] END ..criterion=gini, max_depth=3, n_estimators=500; total time=   1.3s\n",
      "[CV 5/5] END ..criterion=gini, max_depth=3, n_estimators=500; total time=   1.3s\n",
      "[CV 1/5] END .criterion=gini, max_depth=3, n_estimators=1000; total time=   2.2s\n",
      "[CV 2/5] END .criterion=gini, max_depth=3, n_estimators=1000; total time=   2.2s\n",
      "[CV 3/5] END .criterion=gini, max_depth=3, n_estimators=1000; total time=   2.1s\n",
      "[CV 4/5] END .criterion=gini, max_depth=3, n_estimators=1000; total time=   2.1s\n",
      "[CV 5/5] END .criterion=gini, max_depth=3, n_estimators=1000; total time=   2.1s\n",
      "[CV 1/5] END criterion=entropy, max_depth=2, n_estimators=100; total time=   0.3s\n",
      "[CV 2/5] END criterion=entropy, max_depth=2, n_estimators=100; total time=   0.3s\n",
      "[CV 3/5] END criterion=entropy, max_depth=2, n_estimators=100; total time=   0.3s\n",
      "[CV 4/5] END criterion=entropy, max_depth=2, n_estimators=100; total time=   0.3s\n",
      "[CV 5/5] END criterion=entropy, max_depth=2, n_estimators=100; total time=   0.3s\n",
      "[CV 1/5] END criterion=entropy, max_depth=2, n_estimators=200; total time=   0.7s\n",
      "[CV 2/5] END criterion=entropy, max_depth=2, n_estimators=200; total time=   0.7s\n",
      "[CV 3/5] END criterion=entropy, max_depth=2, n_estimators=200; total time=   0.7s\n",
      "[CV 4/5] END criterion=entropy, max_depth=2, n_estimators=200; total time=   0.7s\n",
      "[CV 5/5] END criterion=entropy, max_depth=2, n_estimators=200; total time=   0.7s\n",
      "[CV 1/5] END criterion=entropy, max_depth=2, n_estimators=300; total time=   1.0s\n",
      "[CV 2/5] END criterion=entropy, max_depth=2, n_estimators=300; total time=   1.0s\n",
      "[CV 3/5] END criterion=entropy, max_depth=2, n_estimators=300; total time=   1.1s\n",
      "[CV 4/5] END criterion=entropy, max_depth=2, n_estimators=300; total time=   1.3s\n",
      "[CV 5/5] END criterion=entropy, max_depth=2, n_estimators=300; total time=   1.0s\n",
      "[CV 1/5] END criterion=entropy, max_depth=2, n_estimators=500; total time=   1.7s\n",
      "[CV 2/5] END criterion=entropy, max_depth=2, n_estimators=500; total time=   1.7s\n",
      "[CV 3/5] END criterion=entropy, max_depth=2, n_estimators=500; total time=   2.0s\n",
      "[CV 4/5] END criterion=entropy, max_depth=2, n_estimators=500; total time=   1.7s\n",
      "[CV 5/5] END criterion=entropy, max_depth=2, n_estimators=500; total time=   1.7s\n",
      "[CV 1/5] END criterion=entropy, max_depth=2, n_estimators=1000; total time=   4.5s\n",
      "[CV 2/5] END criterion=entropy, max_depth=2, n_estimators=1000; total time=   3.6s\n",
      "[CV 3/5] END criterion=entropy, max_depth=2, n_estimators=1000; total time=   4.7s\n",
      "[CV 4/5] END criterion=entropy, max_depth=2, n_estimators=1000; total time=   3.8s\n",
      "[CV 5/5] END criterion=entropy, max_depth=2, n_estimators=1000; total time=   3.3s\n",
      "[CV 1/5] END criterion=entropy, max_depth=3, n_estimators=100; total time=   0.5s\n",
      "[CV 2/5] END criterion=entropy, max_depth=3, n_estimators=100; total time=   0.5s\n",
      "[CV 3/5] END criterion=entropy, max_depth=3, n_estimators=100; total time=   0.5s\n",
      "[CV 4/5] END criterion=entropy, max_depth=3, n_estimators=100; total time=   0.5s\n",
      "[CV 5/5] END criterion=entropy, max_depth=3, n_estimators=100; total time=   0.5s\n",
      "[CV 1/5] END criterion=entropy, max_depth=3, n_estimators=200; total time=   1.1s\n",
      "[CV 2/5] END criterion=entropy, max_depth=3, n_estimators=200; total time=   1.1s\n",
      "[CV 3/5] END criterion=entropy, max_depth=3, n_estimators=200; total time=   0.9s\n",
      "[CV 4/5] END criterion=entropy, max_depth=3, n_estimators=200; total time=   0.9s\n",
      "[CV 5/5] END criterion=entropy, max_depth=3, n_estimators=200; total time=   0.9s\n",
      "[CV 1/5] END criterion=entropy, max_depth=3, n_estimators=300; total time=   1.3s\n",
      "[CV 2/5] END criterion=entropy, max_depth=3, n_estimators=300; total time=   1.3s\n",
      "[CV 3/5] END criterion=entropy, max_depth=3, n_estimators=300; total time=   1.4s\n",
      "[CV 4/5] END criterion=entropy, max_depth=3, n_estimators=300; total time=   2.0s\n",
      "[CV 5/5] END criterion=entropy, max_depth=3, n_estimators=300; total time=   2.0s\n",
      "[CV 1/5] END criterion=entropy, max_depth=3, n_estimators=500; total time=   2.5s\n",
      "[CV 2/5] END criterion=entropy, max_depth=3, n_estimators=500; total time=   2.7s\n",
      "[CV 3/5] END criterion=entropy, max_depth=3, n_estimators=500; total time=   2.7s\n",
      "[CV 4/5] END criterion=entropy, max_depth=3, n_estimators=500; total time=   2.4s\n",
      "[CV 5/5] END criterion=entropy, max_depth=3, n_estimators=500; total time=   2.5s\n",
      "[CV 1/5] END criterion=entropy, max_depth=3, n_estimators=1000; total time=   5.1s\n",
      "[CV 2/5] END criterion=entropy, max_depth=3, n_estimators=1000; total time=   4.7s\n",
      "[CV 3/5] END criterion=entropy, max_depth=3, n_estimators=1000; total time=   4.4s\n",
      "[CV 4/5] END criterion=entropy, max_depth=3, n_estimators=1000; total time=   4.5s\n",
      "[CV 5/5] END criterion=entropy, max_depth=3, n_estimators=1000; total time=   4.5s\n"
     ]
    }
   ],
   "source": [
    "\n",
    "# GridSearchCV\n",
    "from sklearn.model_selection import GridSearchCV\n",
    " \n",
    "#Random Forest (Bagging of multiple Decision Trees)\n",
    "from sklearn.ensemble import RandomForestClassifier\n",
    "RF = RandomForestClassifier()\n",
    " \n",
    "# Parameters to try\n",
    "Parameter_Trials={'n_estimators':[100,200,300,500,1000],\n",
    "                  'criterion':['gini','entropy'],\n",
    "                  'max_depth': [2,3]}\n",
    " \n",
    "Grid_Search = GridSearchCV(RF, Parameter_Trials, cv=5, n_jobs=1, verbose=5)\n",
    "GridSearchResults=Grid_Search.fit(X_train,y_train)"
   ]
  },
  {
   "cell_type": "code",
   "execution_count": 154,
   "metadata": {},
   "outputs": [
    {
     "output_type": "stream",
     "name": "stdout",
     "text": [
      "{'criterion': 'gini', 'max_depth': 2, 'n_estimators': 1000}\n"
     ]
    },
    {
     "output_type": "execute_result",
     "data": {
      "text/plain": [
       "[{'criterion': 'gini', 'max_depth': 2, 'n_estimators': 100},\n",
       " {'criterion': 'gini', 'max_depth': 2, 'n_estimators': 200},\n",
       " {'criterion': 'gini', 'max_depth': 2, 'n_estimators': 300},\n",
       " {'criterion': 'gini', 'max_depth': 2, 'n_estimators': 500},\n",
       " {'criterion': 'gini', 'max_depth': 2, 'n_estimators': 1000},\n",
       " {'criterion': 'gini', 'max_depth': 3, 'n_estimators': 100},\n",
       " {'criterion': 'gini', 'max_depth': 3, 'n_estimators': 200},\n",
       " {'criterion': 'gini', 'max_depth': 3, 'n_estimators': 300},\n",
       " {'criterion': 'gini', 'max_depth': 3, 'n_estimators': 500},\n",
       " {'criterion': 'gini', 'max_depth': 3, 'n_estimators': 1000},\n",
       " {'criterion': 'entropy', 'max_depth': 2, 'n_estimators': 100},\n",
       " {'criterion': 'entropy', 'max_depth': 2, 'n_estimators': 200},\n",
       " {'criterion': 'entropy', 'max_depth': 2, 'n_estimators': 300},\n",
       " {'criterion': 'entropy', 'max_depth': 2, 'n_estimators': 500},\n",
       " {'criterion': 'entropy', 'max_depth': 2, 'n_estimators': 1000},\n",
       " {'criterion': 'entropy', 'max_depth': 3, 'n_estimators': 100},\n",
       " {'criterion': 'entropy', 'max_depth': 3, 'n_estimators': 200},\n",
       " {'criterion': 'entropy', 'max_depth': 3, 'n_estimators': 300},\n",
       " {'criterion': 'entropy', 'max_depth': 3, 'n_estimators': 500},\n",
       " {'criterion': 'entropy', 'max_depth': 3, 'n_estimators': 1000}]"
      ]
     },
     "metadata": {},
     "execution_count": 154
    }
   ],
   "source": [
    "\n",
    "# Fetching the best hyperparameters\n",
    "print(GridSearchResults.best_params_)\n",
    "\n",
    "# Looking at all the parameter combinations tried by GridSearch\n",
    "GridSearchResults.cv_results_['params']\n"
   ]
  },
  {
   "cell_type": "code",
   "execution_count": 159,
   "metadata": {},
   "outputs": [
    {
     "output_type": "stream",
     "name": "stdout",
     "text": [
      "Fitting 5 folds for each of 12 candidates, totalling 60 fits\n",
      "[CV 1/5] END criterion=gini, max_features=auto, splitter=best; total time=   0.0s\n",
      "[CV 2/5] END criterion=gini, max_features=auto, splitter=best; total time=   0.0s\n",
      "[CV 3/5] END criterion=gini, max_features=auto, splitter=best; total time=   0.0s\n",
      "[CV 4/5] END criterion=gini, max_features=auto, splitter=best; total time=   0.0s\n",
      "[CV 5/5] END criterion=gini, max_features=auto, splitter=best; total time=   0.0s\n",
      "[CV 1/5] END criterion=gini, max_features=auto, splitter=random; total time=   0.0s\n",
      "[CV 2/5] END criterion=gini, max_features=auto, splitter=random; total time=   0.0s\n",
      "[CV 3/5] END criterion=gini, max_features=auto, splitter=random; total time=   0.0s\n",
      "[CV 4/5] END criterion=gini, max_features=auto, splitter=random; total time=   0.0s\n",
      "[CV 5/5] END criterion=gini, max_features=auto, splitter=random; total time=   0.0s\n",
      "[CV 1/5] END criterion=gini, max_features=sqrt, splitter=best; total time=   0.0s\n",
      "[CV 2/5] END criterion=gini, max_features=sqrt, splitter=best; total time=   0.0s\n",
      "[CV 3/5] END criterion=gini, max_features=sqrt, splitter=best; total time=   0.0s\n",
      "/Users/manon/opt/anaconda3/lib/python3.8/site-packages/sklearn/model_selection/_split.py:666: UserWarning: The least populated class in y has only 1 members, which is less than n_splits=5.\n",
      "  warnings.warn((\"The least populated class in y has only %d\"\n",
      "[CV 4/5] END criterion=gini, max_features=sqrt, splitter=best; total time=   0.0s\n",
      "[CV 5/5] END criterion=gini, max_features=sqrt, splitter=best; total time=   0.0s\n",
      "[CV 1/5] END criterion=gini, max_features=sqrt, splitter=random; total time=   0.0s\n",
      "[CV 2/5] END criterion=gini, max_features=sqrt, splitter=random; total time=   0.0s\n",
      "[CV 3/5] END criterion=gini, max_features=sqrt, splitter=random; total time=   0.0s\n",
      "[CV 4/5] END criterion=gini, max_features=sqrt, splitter=random; total time=   0.0s\n",
      "[CV 5/5] END criterion=gini, max_features=sqrt, splitter=random; total time=   0.0s\n",
      "[CV 1/5] END criterion=gini, max_features=log2, splitter=best; total time=   0.0s\n",
      "[CV 2/5] END criterion=gini, max_features=log2, splitter=best; total time=   0.0s\n",
      "[CV 3/5] END criterion=gini, max_features=log2, splitter=best; total time=   0.0s\n",
      "[CV 4/5] END criterion=gini, max_features=log2, splitter=best; total time=   0.0s\n",
      "[CV 5/5] END criterion=gini, max_features=log2, splitter=best; total time=   0.0s\n",
      "[CV 1/5] END criterion=gini, max_features=log2, splitter=random; total time=   0.0s\n",
      "[CV 2/5] END criterion=gini, max_features=log2, splitter=random; total time=   0.0s\n",
      "[CV 3/5] END criterion=gini, max_features=log2, splitter=random; total time=   0.0s\n",
      "[CV 4/5] END criterion=gini, max_features=log2, splitter=random; total time=   0.0s\n",
      "[CV 5/5] END criterion=gini, max_features=log2, splitter=random; total time=   0.0s\n",
      "[CV 1/5] END criterion=entropy, max_features=auto, splitter=best; total time=   0.0s\n",
      "[CV 2/5] END criterion=entropy, max_features=auto, splitter=best; total time=   0.0s\n",
      "[CV 3/5] END criterion=entropy, max_features=auto, splitter=best; total time=   0.0s\n",
      "[CV 4/5] END criterion=entropy, max_features=auto, splitter=best; total time=   0.0s\n",
      "[CV 5/5] END criterion=entropy, max_features=auto, splitter=best; total time=   0.0s\n",
      "[CV 1/5] END criterion=entropy, max_features=auto, splitter=random; total time=   0.0s\n",
      "[CV 2/5] END criterion=entropy, max_features=auto, splitter=random; total time=   0.0s\n",
      "[CV 3/5] END criterion=entropy, max_features=auto, splitter=random; total time=   0.0s\n",
      "[CV 4/5] END criterion=entropy, max_features=auto, splitter=random; total time=   0.0s\n",
      "[CV 5/5] END criterion=entropy, max_features=auto, splitter=random; total time=   0.0s\n",
      "[CV 1/5] END criterion=entropy, max_features=sqrt, splitter=best; total time=   0.0s\n",
      "[CV 2/5] END criterion=entropy, max_features=sqrt, splitter=best; total time=   0.0s\n",
      "[CV 3/5] END criterion=entropy, max_features=sqrt, splitter=best; total time=   0.0s\n",
      "[CV 4/5] END criterion=entropy, max_features=sqrt, splitter=best; total time=   0.0s\n",
      "[CV 5/5] END criterion=entropy, max_features=sqrt, splitter=best; total time=   0.0s\n",
      "[CV 1/5] END criterion=entropy, max_features=sqrt, splitter=random; total time=   0.0s\n",
      "[CV 2/5] END criterion=entropy, max_features=sqrt, splitter=random; total time=   0.0s\n",
      "[CV 3/5] END criterion=entropy, max_features=sqrt, splitter=random; total time=   0.0s\n",
      "[CV 4/5] END criterion=entropy, max_features=sqrt, splitter=random; total time=   0.0s\n",
      "[CV 5/5] END criterion=entropy, max_features=sqrt, splitter=random; total time=   0.0s\n",
      "[CV 1/5] END criterion=entropy, max_features=log2, splitter=best; total time=   0.0s\n",
      "[CV 2/5] END criterion=entropy, max_features=log2, splitter=best; total time=   0.0s\n",
      "[CV 3/5] END criterion=entropy, max_features=log2, splitter=best; total time=   0.0s\n",
      "[CV 4/5] END criterion=entropy, max_features=log2, splitter=best; total time=   0.0s\n",
      "[CV 5/5] END criterion=entropy, max_features=log2, splitter=best; total time=   0.0s\n",
      "[CV 1/5] END criterion=entropy, max_features=log2, splitter=random; total time=   0.0s\n",
      "[CV 2/5] END criterion=entropy, max_features=log2, splitter=random; total time=   0.0s\n",
      "[CV 3/5] END criterion=entropy, max_features=log2, splitter=random; total time=   0.0s\n",
      "[CV 4/5] END criterion=entropy, max_features=log2, splitter=random; total time=   0.0s\n",
      "[CV 5/5] END criterion=entropy, max_features=log2, splitter=random; total time=   0.0s\n"
     ]
    }
   ],
   "source": [
    "\n",
    "# GridSearchCV\n",
    "from sklearn.model_selection import GridSearchCV\n",
    " \n",
    "#Random Forest (Bagging of multiple Decision Trees)\n",
    "from sklearn.ensemble import RandomForestClassifier\n",
    "DTC = tree.DecisionTreeClassifier()\n",
    " \n",
    "# Parameters to try\n",
    "Parameter_Trials={'max_features':['auto', 'sqrt', 'log2'],\n",
    "                  'criterion':['gini','entropy'],\n",
    "                  'splitter': ['best', 'random']}\n",
    " \n",
    "Grid_Search = GridSearchCV(DTC, Parameter_Trials, cv=5, n_jobs=1, verbose=5)\n",
    "GridSearchResults=Grid_Search.fit(X_train,y_train)"
   ]
  },
  {
   "cell_type": "code",
   "execution_count": 160,
   "metadata": {},
   "outputs": [
    {
     "output_type": "stream",
     "name": "stdout",
     "text": [
      "{'criterion': 'gini', 'max_features': 'auto', 'splitter': 'random'}\n"
     ]
    },
    {
     "output_type": "execute_result",
     "data": {
      "text/plain": [
       "[{'criterion': 'gini', 'max_features': 'auto', 'splitter': 'best'},\n",
       " {'criterion': 'gini', 'max_features': 'auto', 'splitter': 'random'},\n",
       " {'criterion': 'gini', 'max_features': 'sqrt', 'splitter': 'best'},\n",
       " {'criterion': 'gini', 'max_features': 'sqrt', 'splitter': 'random'},\n",
       " {'criterion': 'gini', 'max_features': 'log2', 'splitter': 'best'},\n",
       " {'criterion': 'gini', 'max_features': 'log2', 'splitter': 'random'},\n",
       " {'criterion': 'entropy', 'max_features': 'auto', 'splitter': 'best'},\n",
       " {'criterion': 'entropy', 'max_features': 'auto', 'splitter': 'random'},\n",
       " {'criterion': 'entropy', 'max_features': 'sqrt', 'splitter': 'best'},\n",
       " {'criterion': 'entropy', 'max_features': 'sqrt', 'splitter': 'random'},\n",
       " {'criterion': 'entropy', 'max_features': 'log2', 'splitter': 'best'},\n",
       " {'criterion': 'entropy', 'max_features': 'log2', 'splitter': 'random'}]"
      ]
     },
     "metadata": {},
     "execution_count": 160
    }
   ],
   "source": [
    "\n",
    "# Fetching the best hyperparameters\n",
    "print(GridSearchResults.best_params_)\n",
    "\n",
    "# Looking at all the parameter combinations tried by GridSearch\n",
    "GridSearchResults.cv_results_['params']\n"
   ]
  },
  {
   "cell_type": "code",
   "execution_count": null,
   "metadata": {},
   "outputs": [],
   "source": [
    "def convert_to_int(string):\n",
    "    integer = 0\n",
    "    try:\n",
    "        integer = int(string)\n",
    "    except:\n",
    "        string = string.lower()\n",
    "        for i in string:\n",
    "            integer += ord(i)\n",
    "    return integer\n",
    "\n",
    "\n",
    "imdb = imdb.values.tolist()\n",
    "\n",
    "\n",
    "X = []\n",
    "y = []\n",
    "\n",
    "\n",
    "for i in range(len(imdb)):\n",
    "    X.append([imdb[i][2], imdb[i][3], imdb[i][4], imdb[i][5]]) #Genre, directeur, Acteur 1 et Acteur 2\n",
    "    y.append(imdb[i][1]) #metascore\n",
    "\n",
    "for i in range(len(X)):\n",
    "    for x in range(len(X[i])):\n",
    "        X[i][x] = convert_to_int(X[i][x])\n",
    "\n",
    "for i in range(len(y)):\n",
    "    y[i] = int(float(y[i])*10)\n",
    "\n",
    "X = pd.DataFrame(X)\n",
    "y = pd.DataFrame(y)\n",
    "\n",
    "X = pd.DataFrame(np.array(X), columns = ['Genre', 'Realisateur', 'Acteur_1','Acteur_2'])\n",
    "y = pd.DataFrame(np.array(y), columns = ['metascore'])"
   ]
  }
 ]
}