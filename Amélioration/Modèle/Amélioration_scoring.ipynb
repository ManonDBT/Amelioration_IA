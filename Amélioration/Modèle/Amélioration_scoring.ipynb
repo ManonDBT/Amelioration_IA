{
 "metadata": {
  "language_info": {
   "codemirror_mode": {
    "name": "ipython",
    "version": 3
   },
   "file_extension": ".py",
   "mimetype": "text/x-python",
   "name": "python",
   "nbconvert_exporter": "python",
   "pygments_lexer": "ipython3",
   "version": "3.8.5"
  },
  "orig_nbformat": 2,
  "kernelspec": {
   "name": "python385jvsc74a57bd0f7e0b5cc576e13448e85870bccda211fddd7659423d6acded0f9159c552ee807",
   "display_name": "Python 3.8.5 64-bit (conda)"
  }
 },
 "nbformat": 4,
 "nbformat_minor": 2,
 "cells": [
  {
   "source": [
    "#  Bibliothèque"
   ],
   "cell_type": "markdown",
   "metadata": {}
  },
  {
   "cell_type": "code",
   "execution_count": 1,
   "metadata": {},
   "outputs": [],
   "source": [
    "import numpy as np # linear algebra\n",
    "import pandas as pd # data processing, CSV file I/O (e.g. pd.read_csv)\n",
    "import math\n",
    "import re\n",
    "\n",
    "\n",
    "from sklearn.linear_model import LogisticRegression\n",
    "from sklearn import metrics\n",
    "from sklearn.model_selection import train_test_split\n",
    "from sklearn.metrics import f1_score\n",
    "from sklearn.linear_model import LogisticRegression\n",
    "from sklearn.ensemble import RandomForestClassifier\n",
    "\n",
    "\n",
    "\n",
    "import numpy as np\n",
    "import matplotlib.pyplot as plt\n",
    "from itertools import cycle\n",
    "\n",
    "from sklearn import svm, datasets\n",
    "from sklearn.metrics import roc_curve, auc\n",
    "from sklearn.model_selection import train_test_split\n",
    "from sklearn.preprocessing import label_binarize\n",
    "from sklearn.multiclass import OneVsRestClassifier\n",
    "from scipy import interp\n",
    "from sklearn.metrics import roc_auc_score\n",
    "\n",
    "from sklearn import tree"
   ]
  },
  {
   "source": [
    "# Fichier"
   ],
   "cell_type": "markdown",
   "metadata": {}
  },
  {
   "cell_type": "code",
   "execution_count": 2,
   "metadata": {},
   "outputs": [
    {
     "output_type": "execute_result",
     "data": {
      "text/plain": [
       "            11:14  7.2      Crime        Greg Marcks       Henry Thomas  \\\n",
       "0               9  7.1  Animation        Shane Acker        Elijah Wood   \n",
       "1              21  6.8      Crime     Robert Luketic       Jim Sturgess   \n",
       "2              31  5.1     Horror         Rob Zombie   Malcolm McDowell   \n",
       "3              42  7.5  Biography    Brian Helgeland   Chadwick Boseman   \n",
       "4             300  7.7     Action        Zack Snyder      Gerard Butler   \n",
       "...           ...  ...        ...                ...                ...   \n",
       "3126  Zoolander 2  4.7     Action        Ben Stiller        Ben Stiller   \n",
       "3127         Zoom  4.3     Action       Peter Hewitt          Tim Allen   \n",
       "3128     Zootopia  8.0  Animation         Rich Moore       Byron Howard   \n",
       "3129         Zulu  6.7      Crime  Jerï¿½ï¿½me Salle      Orlando Bloom   \n",
       "3130    Zwartboek  7.8      Drama     Paul Verhoeven  Carice van Houten   \n",
       "\n",
       "            Colin Hanks    6000000          0         0.1  Aug 12, 2005  \n",
       "0     Jennifer Connelly   30000000   31749894    48559999   Sep 9, 2009  \n",
       "1         Kate Bosworth   35000000   81159365   159846429  Mar 28, 2008  \n",
       "2         Richard Brake    1500000     779820      922727  Oct 21, 2016  \n",
       "3           T.R. Knight   31000000   95020213    97470701  Apr 12, 2013  \n",
       "4           Lena Headey   60000000  210614939   454161935   Mar 9, 2007  \n",
       "...                 ...        ...        ...         ...           ...  \n",
       "3126        Owen Wilson   50000000   28848693    55348693  Feb 12, 2016  \n",
       "3127      Courteney Cox   35000000   11989328    12506188  Aug 11, 2006  \n",
       "3128      Jason Bateman  150000000  341268248  1019429616   Mar 4, 2016  \n",
       "3129    Forest Whitaker   16000000          0     1844228  Dec 31, 2013  \n",
       "3130     Sebastian Koch   22000000    4398532    27238354   Apr 6, 2007  \n",
       "\n",
       "[3131 rows x 10 columns]"
      ],
      "text/html": "<div>\n<style scoped>\n    .dataframe tbody tr th:only-of-type {\n        vertical-align: middle;\n    }\n\n    .dataframe tbody tr th {\n        vertical-align: top;\n    }\n\n    .dataframe thead th {\n        text-align: right;\n    }\n</style>\n<table border=\"1\" class=\"dataframe\">\n  <thead>\n    <tr style=\"text-align: right;\">\n      <th></th>\n      <th>11:14</th>\n      <th>7.2</th>\n      <th>Crime</th>\n      <th>Greg Marcks</th>\n      <th>Henry Thomas</th>\n      <th>Colin Hanks</th>\n      <th>6000000</th>\n      <th>0</th>\n      <th>0.1</th>\n      <th>Aug 12, 2005</th>\n    </tr>\n  </thead>\n  <tbody>\n    <tr>\n      <th>0</th>\n      <td>9</td>\n      <td>7.1</td>\n      <td>Animation</td>\n      <td>Shane Acker</td>\n      <td>Elijah Wood</td>\n      <td>Jennifer Connelly</td>\n      <td>30000000</td>\n      <td>31749894</td>\n      <td>48559999</td>\n      <td>Sep 9, 2009</td>\n    </tr>\n    <tr>\n      <th>1</th>\n      <td>21</td>\n      <td>6.8</td>\n      <td>Crime</td>\n      <td>Robert Luketic</td>\n      <td>Jim Sturgess</td>\n      <td>Kate Bosworth</td>\n      <td>35000000</td>\n      <td>81159365</td>\n      <td>159846429</td>\n      <td>Mar 28, 2008</td>\n    </tr>\n    <tr>\n      <th>2</th>\n      <td>31</td>\n      <td>5.1</td>\n      <td>Horror</td>\n      <td>Rob Zombie</td>\n      <td>Malcolm McDowell</td>\n      <td>Richard Brake</td>\n      <td>1500000</td>\n      <td>779820</td>\n      <td>922727</td>\n      <td>Oct 21, 2016</td>\n    </tr>\n    <tr>\n      <th>3</th>\n      <td>42</td>\n      <td>7.5</td>\n      <td>Biography</td>\n      <td>Brian Helgeland</td>\n      <td>Chadwick Boseman</td>\n      <td>T.R. Knight</td>\n      <td>31000000</td>\n      <td>95020213</td>\n      <td>97470701</td>\n      <td>Apr 12, 2013</td>\n    </tr>\n    <tr>\n      <th>4</th>\n      <td>300</td>\n      <td>7.7</td>\n      <td>Action</td>\n      <td>Zack Snyder</td>\n      <td>Gerard Butler</td>\n      <td>Lena Headey</td>\n      <td>60000000</td>\n      <td>210614939</td>\n      <td>454161935</td>\n      <td>Mar 9, 2007</td>\n    </tr>\n    <tr>\n      <th>...</th>\n      <td>...</td>\n      <td>...</td>\n      <td>...</td>\n      <td>...</td>\n      <td>...</td>\n      <td>...</td>\n      <td>...</td>\n      <td>...</td>\n      <td>...</td>\n      <td>...</td>\n    </tr>\n    <tr>\n      <th>3126</th>\n      <td>Zoolander 2</td>\n      <td>4.7</td>\n      <td>Action</td>\n      <td>Ben Stiller</td>\n      <td>Ben Stiller</td>\n      <td>Owen Wilson</td>\n      <td>50000000</td>\n      <td>28848693</td>\n      <td>55348693</td>\n      <td>Feb 12, 2016</td>\n    </tr>\n    <tr>\n      <th>3127</th>\n      <td>Zoom</td>\n      <td>4.3</td>\n      <td>Action</td>\n      <td>Peter Hewitt</td>\n      <td>Tim Allen</td>\n      <td>Courteney Cox</td>\n      <td>35000000</td>\n      <td>11989328</td>\n      <td>12506188</td>\n      <td>Aug 11, 2006</td>\n    </tr>\n    <tr>\n      <th>3128</th>\n      <td>Zootopia</td>\n      <td>8.0</td>\n      <td>Animation</td>\n      <td>Rich Moore</td>\n      <td>Byron Howard</td>\n      <td>Jason Bateman</td>\n      <td>150000000</td>\n      <td>341268248</td>\n      <td>1019429616</td>\n      <td>Mar 4, 2016</td>\n    </tr>\n    <tr>\n      <th>3129</th>\n      <td>Zulu</td>\n      <td>6.7</td>\n      <td>Crime</td>\n      <td>Jerï¿½ï¿½me Salle</td>\n      <td>Orlando Bloom</td>\n      <td>Forest Whitaker</td>\n      <td>16000000</td>\n      <td>0</td>\n      <td>1844228</td>\n      <td>Dec 31, 2013</td>\n    </tr>\n    <tr>\n      <th>3130</th>\n      <td>Zwartboek</td>\n      <td>7.8</td>\n      <td>Drama</td>\n      <td>Paul Verhoeven</td>\n      <td>Carice van Houten</td>\n      <td>Sebastian Koch</td>\n      <td>22000000</td>\n      <td>4398532</td>\n      <td>27238354</td>\n      <td>Apr 6, 2007</td>\n    </tr>\n  </tbody>\n</table>\n<p>3131 rows × 10 columns</p>\n</div>"
     },
     "metadata": {},
     "execution_count": 2
    }
   ],
   "source": [
    "imdb = pd.read_csv(\"/Users/manon/Projet/Projet-SIMPLON/Amélioration/Data/movies2.csv\", encoding=\"latin-1\")\n",
    "imdb"
   ]
  },
  {
   "cell_type": "code",
   "execution_count": 3,
   "metadata": {},
   "outputs": [],
   "source": [
    "df = imdb.rename(columns = {'11:14' :'film','7.2' : 'metascore','Crime' : 'genre', 'Greg Marcks':'realisateur', \t'Henry Thomas' : 'acteur_1', 'Colin Hanks':'acteur_2' ,'6000000' : 'budget',\t'0': 'votes2',\t'0.1': 'vote',\t'Aug 12, 2005': 'date'})"
   ]
  },
  {
   "source": [
    "# Visualisation"
   ],
   "cell_type": "markdown",
   "metadata": {}
  },
  {
   "cell_type": "code",
   "execution_count": 4,
   "metadata": {},
   "outputs": [
    {
     "output_type": "execute_result",
     "data": {
      "text/plain": [
       "array(['Animation', 'Crime', 'Horror', 'Biography', 'Action', 'Fantasy',\n",
       "       'Drama', 'Comedy', 'Adventure', 'Mystery', 'Family', 'Romance',\n",
       "       'Music', 'Sci-Fi'], dtype=object)"
      ]
     },
     "metadata": {},
     "execution_count": 4
    }
   ],
   "source": [
    "df['genre'].unique()"
   ]
  },
  {
   "cell_type": "code",
   "execution_count": 6,
   "metadata": {},
   "outputs": [
    {
     "output_type": "execute_result",
     "data": {
      "text/plain": [
       "Comedy       796\n",
       "Action       788\n",
       "Drama        525\n",
       "Biography    221\n",
       "Crime        209\n",
       "Animation    193\n",
       "Adventure    185\n",
       "Horror       181\n",
       "Mystery       14\n",
       "Fantasy       12\n",
       "Romance        3\n",
       "Family         2\n",
       "Music          1\n",
       "Sci-Fi         1\n",
       "Name: genre, dtype: int64"
      ]
     },
     "metadata": {},
     "execution_count": 6
    }
   ],
   "source": [
    "df['genre'].value_counts()"
   ]
  },
  {
   "cell_type": "code",
   "execution_count": 5,
   "metadata": {},
   "outputs": [
    {
     "output_type": "execute_result",
     "data": {
      "text/plain": [
       "array(['Shane Acker', 'Robert Luketic', 'Rob Zombie', ..., 'Eli Craig',\n",
       "       'Peter Hewitt', 'Jerï¿½ï¿½me Salle'], dtype=object)"
      ]
     },
     "metadata": {},
     "execution_count": 5
    }
   ],
   "source": [
    "df['realisateur'].unique()"
   ]
  },
  {
   "source": [
    "# Encodé"
   ],
   "cell_type": "markdown",
   "metadata": {}
  },
  {
   "cell_type": "code",
   "execution_count": 25,
   "metadata": {},
   "outputs": [],
   "source": [
    "colonne = ['genre','acteur_1', 'acteur_2', 'realisateur']"
   ]
  },
  {
   "cell_type": "code",
   "execution_count": 26,
   "metadata": {},
   "outputs": [],
   "source": [
    "df = pd.get_dummies(df, columns= colonne)"
   ]
  },
  {
   "cell_type": "code",
   "execution_count": 27,
   "metadata": {},
   "outputs": [
    {
     "output_type": "execute_result",
     "data": {
      "text/plain": [
       "      metascore  genre_Action  genre_Adventure  genre_Animation  \\\n",
       "0           7.1             0                0                1   \n",
       "1           6.8             0                0                0   \n",
       "2           5.1             0                0                0   \n",
       "3           7.5             0                0                0   \n",
       "4           7.7             1                0                0   \n",
       "...         ...           ...              ...              ...   \n",
       "3126        4.7             1                0                0   \n",
       "3127        4.3             1                0                0   \n",
       "3128        8.0             0                0                1   \n",
       "3129        6.7             0                0                0   \n",
       "3130        7.8             0                0                0   \n",
       "\n",
       "      genre_Biography  genre_Comedy  genre_Crime  genre_Drama  genre_Family  \\\n",
       "0                   0             0            0            0             0   \n",
       "1                   0             0            1            0             0   \n",
       "2                   0             0            0            0             0   \n",
       "3                   1             0            0            0             0   \n",
       "4                   0             0            0            0             0   \n",
       "...               ...           ...          ...          ...           ...   \n",
       "3126                0             0            0            0             0   \n",
       "3127                0             0            0            0             0   \n",
       "3128                0             0            0            0             0   \n",
       "3129                0             0            1            0             0   \n",
       "3130                0             0            0            1             0   \n",
       "\n",
       "      genre_Fantasy  ...  realisateur_Yolanda Ramke  \\\n",
       "0                 0  ...                          0   \n",
       "1                 0  ...                          0   \n",
       "2                 0  ...                          0   \n",
       "3                 0  ...                          0   \n",
       "4                 0  ...                          0   \n",
       "...             ...  ...                        ...   \n",
       "3126              0  ...                          0   \n",
       "3127              0  ...                          0   \n",
       "3128              0  ...                          0   \n",
       "3129              0  ...                          0   \n",
       "3130              0  ...                          0   \n",
       "\n",
       "      realisateur_Yorgos Lanthimos  realisateur_Yvette Kaplan  \\\n",
       "0                                0                          0   \n",
       "1                                0                          0   \n",
       "2                                0                          0   \n",
       "3                                0                          0   \n",
       "4                                0                          0   \n",
       "...                            ...                        ...   \n",
       "3126                             0                          0   \n",
       "3127                             0                          0   \n",
       "3128                             0                          0   \n",
       "3129                             0                          0   \n",
       "3130                             0                          0   \n",
       "\n",
       "      realisateur_Zach Braff  realisateur_Zack Snyder  realisateur_Zak Penn  \\\n",
       "0                          0                        0                     0   \n",
       "1                          0                        0                     0   \n",
       "2                          0                        0                     0   \n",
       "3                          0                        0                     0   \n",
       "4                          0                        1                     0   \n",
       "...                      ...                      ...                   ...   \n",
       "3126                       0                        0                     0   \n",
       "3127                       0                        0                     0   \n",
       "3128                       0                        0                     0   \n",
       "3129                       0                        0                     0   \n",
       "3130                       0                        0                     0   \n",
       "\n",
       "      realisateur_Zal Batmanglij  realisateur_ilex de la Iglesia  \\\n",
       "0                              0                               0   \n",
       "1                              0                               0   \n",
       "2                              0                               0   \n",
       "3                              0                               0   \n",
       "4                              0                               0   \n",
       "...                          ...                             ...   \n",
       "3126                           0                               0   \n",
       "3127                           0                               0   \n",
       "3128                           0                               0   \n",
       "3129                           0                               0   \n",
       "3130                           0                               0   \n",
       "\n",
       "      realisateur_none  realisateur_ï¿½ï¿½_ï¿½ï¿½_ric Warin  \n",
       "0                    0                                    0  \n",
       "1                    0                                    0  \n",
       "2                    0                                    0  \n",
       "3                    0                                    0  \n",
       "4                    0                                    0  \n",
       "...                ...                                  ...  \n",
       "3126                 0                                    0  \n",
       "3127                 0                                    0  \n",
       "3128                 0                                    0  \n",
       "3129                 0                                    0  \n",
       "3130                 0                                    0  \n",
       "\n",
       "[3131 rows x 4543 columns]"
      ],
      "text/html": "<div>\n<style scoped>\n    .dataframe tbody tr th:only-of-type {\n        vertical-align: middle;\n    }\n\n    .dataframe tbody tr th {\n        vertical-align: top;\n    }\n\n    .dataframe thead th {\n        text-align: right;\n    }\n</style>\n<table border=\"1\" class=\"dataframe\">\n  <thead>\n    <tr style=\"text-align: right;\">\n      <th></th>\n      <th>metascore</th>\n      <th>genre_Action</th>\n      <th>genre_Adventure</th>\n      <th>genre_Animation</th>\n      <th>genre_Biography</th>\n      <th>genre_Comedy</th>\n      <th>genre_Crime</th>\n      <th>genre_Drama</th>\n      <th>genre_Family</th>\n      <th>genre_Fantasy</th>\n      <th>...</th>\n      <th>realisateur_Yolanda Ramke</th>\n      <th>realisateur_Yorgos Lanthimos</th>\n      <th>realisateur_Yvette Kaplan</th>\n      <th>realisateur_Zach Braff</th>\n      <th>realisateur_Zack Snyder</th>\n      <th>realisateur_Zak Penn</th>\n      <th>realisateur_Zal Batmanglij</th>\n      <th>realisateur_ilex de la Iglesia</th>\n      <th>realisateur_none</th>\n      <th>realisateur_ï¿½ï¿½_ï¿½ï¿½_ric Warin</th>\n    </tr>\n  </thead>\n  <tbody>\n    <tr>\n      <th>0</th>\n      <td>7.1</td>\n      <td>0</td>\n      <td>0</td>\n      <td>1</td>\n      <td>0</td>\n      <td>0</td>\n      <td>0</td>\n      <td>0</td>\n      <td>0</td>\n      <td>0</td>\n      <td>...</td>\n      <td>0</td>\n      <td>0</td>\n      <td>0</td>\n      <td>0</td>\n      <td>0</td>\n      <td>0</td>\n      <td>0</td>\n      <td>0</td>\n      <td>0</td>\n      <td>0</td>\n    </tr>\n    <tr>\n      <th>1</th>\n      <td>6.8</td>\n      <td>0</td>\n      <td>0</td>\n      <td>0</td>\n      <td>0</td>\n      <td>0</td>\n      <td>1</td>\n      <td>0</td>\n      <td>0</td>\n      <td>0</td>\n      <td>...</td>\n      <td>0</td>\n      <td>0</td>\n      <td>0</td>\n      <td>0</td>\n      <td>0</td>\n      <td>0</td>\n      <td>0</td>\n      <td>0</td>\n      <td>0</td>\n      <td>0</td>\n    </tr>\n    <tr>\n      <th>2</th>\n      <td>5.1</td>\n      <td>0</td>\n      <td>0</td>\n      <td>0</td>\n      <td>0</td>\n      <td>0</td>\n      <td>0</td>\n      <td>0</td>\n      <td>0</td>\n      <td>0</td>\n      <td>...</td>\n      <td>0</td>\n      <td>0</td>\n      <td>0</td>\n      <td>0</td>\n      <td>0</td>\n      <td>0</td>\n      <td>0</td>\n      <td>0</td>\n      <td>0</td>\n      <td>0</td>\n    </tr>\n    <tr>\n      <th>3</th>\n      <td>7.5</td>\n      <td>0</td>\n      <td>0</td>\n      <td>0</td>\n      <td>1</td>\n      <td>0</td>\n      <td>0</td>\n      <td>0</td>\n      <td>0</td>\n      <td>0</td>\n      <td>...</td>\n      <td>0</td>\n      <td>0</td>\n      <td>0</td>\n      <td>0</td>\n      <td>0</td>\n      <td>0</td>\n      <td>0</td>\n      <td>0</td>\n      <td>0</td>\n      <td>0</td>\n    </tr>\n    <tr>\n      <th>4</th>\n      <td>7.7</td>\n      <td>1</td>\n      <td>0</td>\n      <td>0</td>\n      <td>0</td>\n      <td>0</td>\n      <td>0</td>\n      <td>0</td>\n      <td>0</td>\n      <td>0</td>\n      <td>...</td>\n      <td>0</td>\n      <td>0</td>\n      <td>0</td>\n      <td>0</td>\n      <td>1</td>\n      <td>0</td>\n      <td>0</td>\n      <td>0</td>\n      <td>0</td>\n      <td>0</td>\n    </tr>\n    <tr>\n      <th>...</th>\n      <td>...</td>\n      <td>...</td>\n      <td>...</td>\n      <td>...</td>\n      <td>...</td>\n      <td>...</td>\n      <td>...</td>\n      <td>...</td>\n      <td>...</td>\n      <td>...</td>\n      <td>...</td>\n      <td>...</td>\n      <td>...</td>\n      <td>...</td>\n      <td>...</td>\n      <td>...</td>\n      <td>...</td>\n      <td>...</td>\n      <td>...</td>\n      <td>...</td>\n      <td>...</td>\n    </tr>\n    <tr>\n      <th>3126</th>\n      <td>4.7</td>\n      <td>1</td>\n      <td>0</td>\n      <td>0</td>\n      <td>0</td>\n      <td>0</td>\n      <td>0</td>\n      <td>0</td>\n      <td>0</td>\n      <td>0</td>\n      <td>...</td>\n      <td>0</td>\n      <td>0</td>\n      <td>0</td>\n      <td>0</td>\n      <td>0</td>\n      <td>0</td>\n      <td>0</td>\n      <td>0</td>\n      <td>0</td>\n      <td>0</td>\n    </tr>\n    <tr>\n      <th>3127</th>\n      <td>4.3</td>\n      <td>1</td>\n      <td>0</td>\n      <td>0</td>\n      <td>0</td>\n      <td>0</td>\n      <td>0</td>\n      <td>0</td>\n      <td>0</td>\n      <td>0</td>\n      <td>...</td>\n      <td>0</td>\n      <td>0</td>\n      <td>0</td>\n      <td>0</td>\n      <td>0</td>\n      <td>0</td>\n      <td>0</td>\n      <td>0</td>\n      <td>0</td>\n      <td>0</td>\n    </tr>\n    <tr>\n      <th>3128</th>\n      <td>8.0</td>\n      <td>0</td>\n      <td>0</td>\n      <td>1</td>\n      <td>0</td>\n      <td>0</td>\n      <td>0</td>\n      <td>0</td>\n      <td>0</td>\n      <td>0</td>\n      <td>...</td>\n      <td>0</td>\n      <td>0</td>\n      <td>0</td>\n      <td>0</td>\n      <td>0</td>\n      <td>0</td>\n      <td>0</td>\n      <td>0</td>\n      <td>0</td>\n      <td>0</td>\n    </tr>\n    <tr>\n      <th>3129</th>\n      <td>6.7</td>\n      <td>0</td>\n      <td>0</td>\n      <td>0</td>\n      <td>0</td>\n      <td>0</td>\n      <td>1</td>\n      <td>0</td>\n      <td>0</td>\n      <td>0</td>\n      <td>...</td>\n      <td>0</td>\n      <td>0</td>\n      <td>0</td>\n      <td>0</td>\n      <td>0</td>\n      <td>0</td>\n      <td>0</td>\n      <td>0</td>\n      <td>0</td>\n      <td>0</td>\n    </tr>\n    <tr>\n      <th>3130</th>\n      <td>7.8</td>\n      <td>0</td>\n      <td>0</td>\n      <td>0</td>\n      <td>0</td>\n      <td>0</td>\n      <td>0</td>\n      <td>1</td>\n      <td>0</td>\n      <td>0</td>\n      <td>...</td>\n      <td>0</td>\n      <td>0</td>\n      <td>0</td>\n      <td>0</td>\n      <td>0</td>\n      <td>0</td>\n      <td>0</td>\n      <td>0</td>\n      <td>0</td>\n      <td>0</td>\n    </tr>\n  </tbody>\n</table>\n<p>3131 rows × 4543 columns</p>\n</div>"
     },
     "metadata": {},
     "execution_count": 27
    }
   ],
   "source": [
    "df.drop(columns= ['film', 'budget', 'votes2', 'vote', 'date'], axis = 1 )"
   ]
  },
  {
   "cell_type": "code",
   "execution_count": 31,
   "metadata": {},
   "outputs": [],
   "source": [
    "df['metascore'] = df['metascore'].astype(float)"
   ]
  },
  {
   "source": [
    "# PREPROSS"
   ],
   "cell_type": "markdown",
   "metadata": {}
  },
  {
   "cell_type": "code",
   "execution_count": 20,
   "metadata": {},
   "outputs": [],
   "source": [
    "def convert_to_int(string):\n",
    "    integer = 0\n",
    "    try:\n",
    "        integer = int(string)\n",
    "    except:\n",
    "        string = string.lower()\n",
    "        for i in string:\n",
    "            integer += ord(i)\n",
    "    return integer"
   ]
  },
  {
   "cell_type": "code",
   "execution_count": 13,
   "metadata": {},
   "outputs": [
    {
     "output_type": "stream",
     "name": "stdout",
     "text": [
      "448\n"
     ]
    }
   ],
   "source": [
    "print(convert_to_int('test'))"
   ]
  },
  {
   "cell_type": "code",
   "execution_count": 29,
   "metadata": {},
   "outputs": [],
   "source": [
    "imdb = imdb.values.tolist()\n",
    "\n",
    "X = []\n",
    "y = []\n",
    "\n",
    "\n",
    "for i in range(len(imdb)):\n",
    "    X.append([imdb[i][2], imdb[i][3], imdb[i][4], imdb[i][5]]) #Genre, directeur, Acteur 1 et Acteur 2\n",
    "    y.append(imdb[i][1]) #metascore\n",
    "\n",
    "for i in range(len(X)):\n",
    "    for x in range(len(X[i])):\n",
    "        X[i][x] = convert_to_int(X[i][x])\n",
    "\n",
    "for i in range(len(y)):\n",
    "    y[i] = int(float(y[i])*10)"
   ]
  },
  {
   "cell_type": "code",
   "execution_count": 30,
   "metadata": {},
   "outputs": [
    {
     "output_type": "stream",
     "name": "stdout",
     "text": [
      "['Drama', 'Paul Verhoeven', 'Carice van Houten', 'Sebastian Koch']\n7.8\n"
     ]
    }
   ],
   "source": [
    "print([imdb[i][2], imdb[i][3], imdb[i][4], imdb[i][5]])\n",
    "print(imdb[i][1])"
   ]
  },
  {
   "cell_type": "code",
   "execution_count": 31,
   "metadata": {},
   "outputs": [
    {
     "output_type": "stream",
     "name": "stdout",
     "text": [
      "(2191, 4) (940, 4) (2191,) (940,)\n"
     ]
    }
   ],
   "source": [
    "X_train, X_test, y_train, y_test = train_test_split (X,y, test_size = 0.3, random_state=42)\n",
    "print(np.shape(X_train), np.shape(X_test), np.shape(y_train), np.shape(y_test))"
   ]
  },
  {
   "cell_type": "code",
   "execution_count": 23,
   "metadata": {},
   "outputs": [],
   "source": []
  },
  {
   "cell_type": "code",
   "execution_count": 39,
   "metadata": {},
   "outputs": [
    {
     "output_type": "execute_result",
     "data": {
      "text/plain": [
       "DecisionTreeClassifier(max_depth=2)"
      ]
     },
     "metadata": {},
     "execution_count": 39
    }
   ],
   "source": [
    "model = tree.DecisionTreeClassifier(criterion= 'gini', max_depth=2)\n",
    "\n",
    "\n",
    "model.fit(X_train, y_train)"
   ]
  },
  {
   "cell_type": "code",
   "execution_count": 33,
   "metadata": {},
   "outputs": [],
   "source": [
    "y_pred = model.predict(X_test)"
   ]
  },
  {
   "cell_type": "code",
   "execution_count": 36,
   "metadata": {},
   "outputs": [
    {
     "output_type": "stream",
     "name": "stdout",
     "text": [
      "le metascore du film serait : 7.5\n"
     ]
    }
   ],
   "source": [
    "realisateur = input(\"Entrer le nom d'un réalisateur \")\n",
    "realisateur = realisateur.lower()\n",
    "realisateur = convert_to_int(realisateur)\n",
    "\n",
    "acteur_1 = input(\"Entrer le nom d'un premier acteur \")\n",
    "acteur_1 = acteur_1.lower()\n",
    "acteur_1 = convert_to_int(acteur_1)\n",
    "\n",
    "acteur_2 = input(\"Entrer le nom d'un second acteur \")\n",
    "acteur_2 = acteur_2.lower()\n",
    "acteur_2 = convert_to_int(acteur_2)\n",
    "\n",
    "genre = input(\"Entrer le genre du film \")\n",
    "genre = genre.lower()\n",
    "genre = convert_to_int(genre)\n",
    "\n",
    "\n",
    "prediction = model.predict([[genre, acteur_1, realisateur, acteur_2]])\n",
    "\n",
    "print('le metascore du film serait :',prediction[0]/10)\n"
   ]
  },
  {
   "cell_type": "code",
   "execution_count": 152,
   "metadata": {},
   "outputs": [
    {
     "output_type": "stream",
     "name": "stdout",
     "text": [
      "Fitting 5 folds for each of 20 candidates, totalling 100 fits\n",
      "/Users/manon/opt/anaconda3/lib/python3.8/site-packages/sklearn/model_selection/_split.py:666: UserWarning: The least populated class in y has only 1 members, which is less than n_splits=5.\n",
      "  warnings.warn((\"The least populated class in y has only %d\"\n",
      "[CV 1/5] END ..criterion=gini, max_depth=2, n_estimators=100; total time=   0.4s\n",
      "[CV 2/5] END ..criterion=gini, max_depth=2, n_estimators=100; total time=   0.2s\n",
      "[CV 3/5] END ..criterion=gini, max_depth=2, n_estimators=100; total time=   0.2s\n",
      "[CV 4/5] END ..criterion=gini, max_depth=2, n_estimators=100; total time=   0.2s\n",
      "[CV 5/5] END ..criterion=gini, max_depth=2, n_estimators=100; total time=   0.2s\n",
      "[CV 1/5] END ..criterion=gini, max_depth=2, n_estimators=200; total time=   0.5s\n",
      "[CV 2/5] END ..criterion=gini, max_depth=2, n_estimators=200; total time=   0.4s\n",
      "[CV 3/5] END ..criterion=gini, max_depth=2, n_estimators=200; total time=   0.4s\n",
      "[CV 4/5] END ..criterion=gini, max_depth=2, n_estimators=200; total time=   0.4s\n",
      "[CV 5/5] END ..criterion=gini, max_depth=2, n_estimators=200; total time=   0.4s\n",
      "[CV 1/5] END ..criterion=gini, max_depth=2, n_estimators=300; total time=   0.6s\n",
      "[CV 2/5] END ..criterion=gini, max_depth=2, n_estimators=300; total time=   0.6s\n",
      "[CV 3/5] END ..criterion=gini, max_depth=2, n_estimators=300; total time=   0.6s\n",
      "[CV 4/5] END ..criterion=gini, max_depth=2, n_estimators=300; total time=   0.6s\n",
      "[CV 5/5] END ..criterion=gini, max_depth=2, n_estimators=300; total time=   0.6s\n",
      "[CV 1/5] END ..criterion=gini, max_depth=2, n_estimators=500; total time=   1.0s\n",
      "[CV 2/5] END ..criterion=gini, max_depth=2, n_estimators=500; total time=   1.0s\n",
      "[CV 3/5] END ..criterion=gini, max_depth=2, n_estimators=500; total time=   1.0s\n",
      "[CV 4/5] END ..criterion=gini, max_depth=2, n_estimators=500; total time=   1.0s\n",
      "[CV 5/5] END ..criterion=gini, max_depth=2, n_estimators=500; total time=   1.0s\n",
      "[CV 1/5] END .criterion=gini, max_depth=2, n_estimators=1000; total time=   2.2s\n",
      "[CV 2/5] END .criterion=gini, max_depth=2, n_estimators=1000; total time=   3.4s\n",
      "[CV 3/5] END .criterion=gini, max_depth=2, n_estimators=1000; total time=   3.1s\n",
      "[CV 4/5] END .criterion=gini, max_depth=2, n_estimators=1000; total time=   2.6s\n",
      "[CV 5/5] END .criterion=gini, max_depth=2, n_estimators=1000; total time=   3.1s\n",
      "[CV 1/5] END ..criterion=gini, max_depth=3, n_estimators=100; total time=   0.3s\n",
      "[CV 2/5] END ..criterion=gini, max_depth=3, n_estimators=100; total time=   0.3s\n",
      "[CV 3/5] END ..criterion=gini, max_depth=3, n_estimators=100; total time=   0.2s\n",
      "[CV 4/5] END ..criterion=gini, max_depth=3, n_estimators=100; total time=   0.2s\n",
      "[CV 5/5] END ..criterion=gini, max_depth=3, n_estimators=100; total time=   0.2s\n",
      "[CV 1/5] END ..criterion=gini, max_depth=3, n_estimators=200; total time=   0.5s\n",
      "[CV 2/5] END ..criterion=gini, max_depth=3, n_estimators=200; total time=   0.5s\n",
      "[CV 3/5] END ..criterion=gini, max_depth=3, n_estimators=200; total time=   0.5s\n",
      "[CV 4/5] END ..criterion=gini, max_depth=3, n_estimators=200; total time=   0.5s\n",
      "[CV 5/5] END ..criterion=gini, max_depth=3, n_estimators=200; total time=   0.5s\n",
      "[CV 1/5] END ..criterion=gini, max_depth=3, n_estimators=300; total time=   0.7s\n",
      "[CV 2/5] END ..criterion=gini, max_depth=3, n_estimators=300; total time=   0.7s\n",
      "[CV 3/5] END ..criterion=gini, max_depth=3, n_estimators=300; total time=   0.8s\n",
      "[CV 4/5] END ..criterion=gini, max_depth=3, n_estimators=300; total time=   0.7s\n",
      "[CV 5/5] END ..criterion=gini, max_depth=3, n_estimators=300; total time=   0.9s\n",
      "[CV 1/5] END ..criterion=gini, max_depth=3, n_estimators=500; total time=   1.1s\n",
      "[CV 2/5] END ..criterion=gini, max_depth=3, n_estimators=500; total time=   1.1s\n",
      "[CV 3/5] END ..criterion=gini, max_depth=3, n_estimators=500; total time=   1.2s\n",
      "[CV 4/5] END ..criterion=gini, max_depth=3, n_estimators=500; total time=   1.3s\n",
      "[CV 5/5] END ..criterion=gini, max_depth=3, n_estimators=500; total time=   1.3s\n",
      "[CV 1/5] END .criterion=gini, max_depth=3, n_estimators=1000; total time=   2.2s\n",
      "[CV 2/5] END .criterion=gini, max_depth=3, n_estimators=1000; total time=   2.2s\n",
      "[CV 3/5] END .criterion=gini, max_depth=3, n_estimators=1000; total time=   2.1s\n",
      "[CV 4/5] END .criterion=gini, max_depth=3, n_estimators=1000; total time=   2.1s\n",
      "[CV 5/5] END .criterion=gini, max_depth=3, n_estimators=1000; total time=   2.1s\n",
      "[CV 1/5] END criterion=entropy, max_depth=2, n_estimators=100; total time=   0.3s\n",
      "[CV 2/5] END criterion=entropy, max_depth=2, n_estimators=100; total time=   0.3s\n",
      "[CV 3/5] END criterion=entropy, max_depth=2, n_estimators=100; total time=   0.3s\n",
      "[CV 4/5] END criterion=entropy, max_depth=2, n_estimators=100; total time=   0.3s\n",
      "[CV 5/5] END criterion=entropy, max_depth=2, n_estimators=100; total time=   0.3s\n",
      "[CV 1/5] END criterion=entropy, max_depth=2, n_estimators=200; total time=   0.7s\n",
      "[CV 2/5] END criterion=entropy, max_depth=2, n_estimators=200; total time=   0.7s\n",
      "[CV 3/5] END criterion=entropy, max_depth=2, n_estimators=200; total time=   0.7s\n",
      "[CV 4/5] END criterion=entropy, max_depth=2, n_estimators=200; total time=   0.7s\n",
      "[CV 5/5] END criterion=entropy, max_depth=2, n_estimators=200; total time=   0.7s\n",
      "[CV 1/5] END criterion=entropy, max_depth=2, n_estimators=300; total time=   1.0s\n",
      "[CV 2/5] END criterion=entropy, max_depth=2, n_estimators=300; total time=   1.0s\n",
      "[CV 3/5] END criterion=entropy, max_depth=2, n_estimators=300; total time=   1.1s\n",
      "[CV 4/5] END criterion=entropy, max_depth=2, n_estimators=300; total time=   1.3s\n",
      "[CV 5/5] END criterion=entropy, max_depth=2, n_estimators=300; total time=   1.0s\n",
      "[CV 1/5] END criterion=entropy, max_depth=2, n_estimators=500; total time=   1.7s\n",
      "[CV 2/5] END criterion=entropy, max_depth=2, n_estimators=500; total time=   1.7s\n",
      "[CV 3/5] END criterion=entropy, max_depth=2, n_estimators=500; total time=   2.0s\n",
      "[CV 4/5] END criterion=entropy, max_depth=2, n_estimators=500; total time=   1.7s\n",
      "[CV 5/5] END criterion=entropy, max_depth=2, n_estimators=500; total time=   1.7s\n",
      "[CV 1/5] END criterion=entropy, max_depth=2, n_estimators=1000; total time=   4.5s\n",
      "[CV 2/5] END criterion=entropy, max_depth=2, n_estimators=1000; total time=   3.6s\n",
      "[CV 3/5] END criterion=entropy, max_depth=2, n_estimators=1000; total time=   4.7s\n",
      "[CV 4/5] END criterion=entropy, max_depth=2, n_estimators=1000; total time=   3.8s\n",
      "[CV 5/5] END criterion=entropy, max_depth=2, n_estimators=1000; total time=   3.3s\n",
      "[CV 1/5] END criterion=entropy, max_depth=3, n_estimators=100; total time=   0.5s\n",
      "[CV 2/5] END criterion=entropy, max_depth=3, n_estimators=100; total time=   0.5s\n",
      "[CV 3/5] END criterion=entropy, max_depth=3, n_estimators=100; total time=   0.5s\n",
      "[CV 4/5] END criterion=entropy, max_depth=3, n_estimators=100; total time=   0.5s\n",
      "[CV 5/5] END criterion=entropy, max_depth=3, n_estimators=100; total time=   0.5s\n",
      "[CV 1/5] END criterion=entropy, max_depth=3, n_estimators=200; total time=   1.1s\n",
      "[CV 2/5] END criterion=entropy, max_depth=3, n_estimators=200; total time=   1.1s\n",
      "[CV 3/5] END criterion=entropy, max_depth=3, n_estimators=200; total time=   0.9s\n",
      "[CV 4/5] END criterion=entropy, max_depth=3, n_estimators=200; total time=   0.9s\n",
      "[CV 5/5] END criterion=entropy, max_depth=3, n_estimators=200; total time=   0.9s\n",
      "[CV 1/5] END criterion=entropy, max_depth=3, n_estimators=300; total time=   1.3s\n",
      "[CV 2/5] END criterion=entropy, max_depth=3, n_estimators=300; total time=   1.3s\n",
      "[CV 3/5] END criterion=entropy, max_depth=3, n_estimators=300; total time=   1.4s\n",
      "[CV 4/5] END criterion=entropy, max_depth=3, n_estimators=300; total time=   2.0s\n",
      "[CV 5/5] END criterion=entropy, max_depth=3, n_estimators=300; total time=   2.0s\n",
      "[CV 1/5] END criterion=entropy, max_depth=3, n_estimators=500; total time=   2.5s\n",
      "[CV 2/5] END criterion=entropy, max_depth=3, n_estimators=500; total time=   2.7s\n",
      "[CV 3/5] END criterion=entropy, max_depth=3, n_estimators=500; total time=   2.7s\n",
      "[CV 4/5] END criterion=entropy, max_depth=3, n_estimators=500; total time=   2.4s\n",
      "[CV 5/5] END criterion=entropy, max_depth=3, n_estimators=500; total time=   2.5s\n",
      "[CV 1/5] END criterion=entropy, max_depth=3, n_estimators=1000; total time=   5.1s\n",
      "[CV 2/5] END criterion=entropy, max_depth=3, n_estimators=1000; total time=   4.7s\n",
      "[CV 3/5] END criterion=entropy, max_depth=3, n_estimators=1000; total time=   4.4s\n",
      "[CV 4/5] END criterion=entropy, max_depth=3, n_estimators=1000; total time=   4.5s\n",
      "[CV 5/5] END criterion=entropy, max_depth=3, n_estimators=1000; total time=   4.5s\n"
     ]
    }
   ],
   "source": [
    "\n",
    "# GridSearchCV\n",
    "from sklearn.model_selection import GridSearchCV\n",
    " \n",
    "#Random Forest (Bagging of multiple Decision Trees)\n",
    "from sklearn.ensemble import RandomForestClassifier\n",
    "RF = RandomForestClassifier()\n",
    " \n",
    "# Parameters to try\n",
    "Parameter_Trials={'n_estimators':[100,200,300,500,1000],\n",
    "                  'criterion':['gini','entropy'],\n",
    "                  'max_depth': [2,3]}\n",
    " \n",
    "Grid_Search = GridSearchCV(RF, Parameter_Trials, cv=5, n_jobs=1, verbose=5)\n",
    "GridSearchResults=Grid_Search.fit(X_train,y_train)"
   ]
  },
  {
   "cell_type": "code",
   "execution_count": 154,
   "metadata": {},
   "outputs": [
    {
     "output_type": "stream",
     "name": "stdout",
     "text": [
      "{'criterion': 'gini', 'max_depth': 2, 'n_estimators': 1000}\n"
     ]
    },
    {
     "output_type": "execute_result",
     "data": {
      "text/plain": [
       "[{'criterion': 'gini', 'max_depth': 2, 'n_estimators': 100},\n",
       " {'criterion': 'gini', 'max_depth': 2, 'n_estimators': 200},\n",
       " {'criterion': 'gini', 'max_depth': 2, 'n_estimators': 300},\n",
       " {'criterion': 'gini', 'max_depth': 2, 'n_estimators': 500},\n",
       " {'criterion': 'gini', 'max_depth': 2, 'n_estimators': 1000},\n",
       " {'criterion': 'gini', 'max_depth': 3, 'n_estimators': 100},\n",
       " {'criterion': 'gini', 'max_depth': 3, 'n_estimators': 200},\n",
       " {'criterion': 'gini', 'max_depth': 3, 'n_estimators': 300},\n",
       " {'criterion': 'gini', 'max_depth': 3, 'n_estimators': 500},\n",
       " {'criterion': 'gini', 'max_depth': 3, 'n_estimators': 1000},\n",
       " {'criterion': 'entropy', 'max_depth': 2, 'n_estimators': 100},\n",
       " {'criterion': 'entropy', 'max_depth': 2, 'n_estimators': 200},\n",
       " {'criterion': 'entropy', 'max_depth': 2, 'n_estimators': 300},\n",
       " {'criterion': 'entropy', 'max_depth': 2, 'n_estimators': 500},\n",
       " {'criterion': 'entropy', 'max_depth': 2, 'n_estimators': 1000},\n",
       " {'criterion': 'entropy', 'max_depth': 3, 'n_estimators': 100},\n",
       " {'criterion': 'entropy', 'max_depth': 3, 'n_estimators': 200},\n",
       " {'criterion': 'entropy', 'max_depth': 3, 'n_estimators': 300},\n",
       " {'criterion': 'entropy', 'max_depth': 3, 'n_estimators': 500},\n",
       " {'criterion': 'entropy', 'max_depth': 3, 'n_estimators': 1000}]"
      ]
     },
     "metadata": {},
     "execution_count": 154
    }
   ],
   "source": [
    "\n",
    "# Fetching the best hyperparameters\n",
    "print(GridSearchResults.best_params_)\n",
    "\n",
    "# Looking at all the parameter combinations tried by GridSearch\n",
    "GridSearchResults.cv_results_['params']\n"
   ]
  },
  {
   "cell_type": "code",
   "execution_count": 159,
   "metadata": {},
   "outputs": [
    {
     "output_type": "stream",
     "name": "stdout",
     "text": [
      "Fitting 5 folds for each of 12 candidates, totalling 60 fits\n",
      "[CV 1/5] END criterion=gini, max_features=auto, splitter=best; total time=   0.0s\n",
      "[CV 2/5] END criterion=gini, max_features=auto, splitter=best; total time=   0.0s\n",
      "[CV 3/5] END criterion=gini, max_features=auto, splitter=best; total time=   0.0s\n",
      "[CV 4/5] END criterion=gini, max_features=auto, splitter=best; total time=   0.0s\n",
      "[CV 5/5] END criterion=gini, max_features=auto, splitter=best; total time=   0.0s\n",
      "[CV 1/5] END criterion=gini, max_features=auto, splitter=random; total time=   0.0s\n",
      "[CV 2/5] END criterion=gini, max_features=auto, splitter=random; total time=   0.0s\n",
      "[CV 3/5] END criterion=gini, max_features=auto, splitter=random; total time=   0.0s\n",
      "[CV 4/5] END criterion=gini, max_features=auto, splitter=random; total time=   0.0s\n",
      "[CV 5/5] END criterion=gini, max_features=auto, splitter=random; total time=   0.0s\n",
      "[CV 1/5] END criterion=gini, max_features=sqrt, splitter=best; total time=   0.0s\n",
      "[CV 2/5] END criterion=gini, max_features=sqrt, splitter=best; total time=   0.0s\n",
      "[CV 3/5] END criterion=gini, max_features=sqrt, splitter=best; total time=   0.0s\n",
      "/Users/manon/opt/anaconda3/lib/python3.8/site-packages/sklearn/model_selection/_split.py:666: UserWarning: The least populated class in y has only 1 members, which is less than n_splits=5.\n",
      "  warnings.warn((\"The least populated class in y has only %d\"\n",
      "[CV 4/5] END criterion=gini, max_features=sqrt, splitter=best; total time=   0.0s\n",
      "[CV 5/5] END criterion=gini, max_features=sqrt, splitter=best; total time=   0.0s\n",
      "[CV 1/5] END criterion=gini, max_features=sqrt, splitter=random; total time=   0.0s\n",
      "[CV 2/5] END criterion=gini, max_features=sqrt, splitter=random; total time=   0.0s\n",
      "[CV 3/5] END criterion=gini, max_features=sqrt, splitter=random; total time=   0.0s\n",
      "[CV 4/5] END criterion=gini, max_features=sqrt, splitter=random; total time=   0.0s\n",
      "[CV 5/5] END criterion=gini, max_features=sqrt, splitter=random; total time=   0.0s\n",
      "[CV 1/5] END criterion=gini, max_features=log2, splitter=best; total time=   0.0s\n",
      "[CV 2/5] END criterion=gini, max_features=log2, splitter=best; total time=   0.0s\n",
      "[CV 3/5] END criterion=gini, max_features=log2, splitter=best; total time=   0.0s\n",
      "[CV 4/5] END criterion=gini, max_features=log2, splitter=best; total time=   0.0s\n",
      "[CV 5/5] END criterion=gini, max_features=log2, splitter=best; total time=   0.0s\n",
      "[CV 1/5] END criterion=gini, max_features=log2, splitter=random; total time=   0.0s\n",
      "[CV 2/5] END criterion=gini, max_features=log2, splitter=random; total time=   0.0s\n",
      "[CV 3/5] END criterion=gini, max_features=log2, splitter=random; total time=   0.0s\n",
      "[CV 4/5] END criterion=gini, max_features=log2, splitter=random; total time=   0.0s\n",
      "[CV 5/5] END criterion=gini, max_features=log2, splitter=random; total time=   0.0s\n",
      "[CV 1/5] END criterion=entropy, max_features=auto, splitter=best; total time=   0.0s\n",
      "[CV 2/5] END criterion=entropy, max_features=auto, splitter=best; total time=   0.0s\n",
      "[CV 3/5] END criterion=entropy, max_features=auto, splitter=best; total time=   0.0s\n",
      "[CV 4/5] END criterion=entropy, max_features=auto, splitter=best; total time=   0.0s\n",
      "[CV 5/5] END criterion=entropy, max_features=auto, splitter=best; total time=   0.0s\n",
      "[CV 1/5] END criterion=entropy, max_features=auto, splitter=random; total time=   0.0s\n",
      "[CV 2/5] END criterion=entropy, max_features=auto, splitter=random; total time=   0.0s\n",
      "[CV 3/5] END criterion=entropy, max_features=auto, splitter=random; total time=   0.0s\n",
      "[CV 4/5] END criterion=entropy, max_features=auto, splitter=random; total time=   0.0s\n",
      "[CV 5/5] END criterion=entropy, max_features=auto, splitter=random; total time=   0.0s\n",
      "[CV 1/5] END criterion=entropy, max_features=sqrt, splitter=best; total time=   0.0s\n",
      "[CV 2/5] END criterion=entropy, max_features=sqrt, splitter=best; total time=   0.0s\n",
      "[CV 3/5] END criterion=entropy, max_features=sqrt, splitter=best; total time=   0.0s\n",
      "[CV 4/5] END criterion=entropy, max_features=sqrt, splitter=best; total time=   0.0s\n",
      "[CV 5/5] END criterion=entropy, max_features=sqrt, splitter=best; total time=   0.0s\n",
      "[CV 1/5] END criterion=entropy, max_features=sqrt, splitter=random; total time=   0.0s\n",
      "[CV 2/5] END criterion=entropy, max_features=sqrt, splitter=random; total time=   0.0s\n",
      "[CV 3/5] END criterion=entropy, max_features=sqrt, splitter=random; total time=   0.0s\n",
      "[CV 4/5] END criterion=entropy, max_features=sqrt, splitter=random; total time=   0.0s\n",
      "[CV 5/5] END criterion=entropy, max_features=sqrt, splitter=random; total time=   0.0s\n",
      "[CV 1/5] END criterion=entropy, max_features=log2, splitter=best; total time=   0.0s\n",
      "[CV 2/5] END criterion=entropy, max_features=log2, splitter=best; total time=   0.0s\n",
      "[CV 3/5] END criterion=entropy, max_features=log2, splitter=best; total time=   0.0s\n",
      "[CV 4/5] END criterion=entropy, max_features=log2, splitter=best; total time=   0.0s\n",
      "[CV 5/5] END criterion=entropy, max_features=log2, splitter=best; total time=   0.0s\n",
      "[CV 1/5] END criterion=entropy, max_features=log2, splitter=random; total time=   0.0s\n",
      "[CV 2/5] END criterion=entropy, max_features=log2, splitter=random; total time=   0.0s\n",
      "[CV 3/5] END criterion=entropy, max_features=log2, splitter=random; total time=   0.0s\n",
      "[CV 4/5] END criterion=entropy, max_features=log2, splitter=random; total time=   0.0s\n",
      "[CV 5/5] END criterion=entropy, max_features=log2, splitter=random; total time=   0.0s\n"
     ]
    }
   ],
   "source": [
    "\n",
    "# GridSearchCV\n",
    "from sklearn.model_selection import GridSearchCV\n",
    " \n",
    "#Random Forest (Bagging of multiple Decision Trees)\n",
    "from sklearn.ensemble import RandomForestClassifier\n",
    "DTC = tree.DecisionTreeClassifier()\n",
    " \n",
    "# Parameters to try\n",
    "Parameter_Trials={'max_features':['auto', 'sqrt', 'log2'],\n",
    "                  'criterion':['gini','entropy'],\n",
    "                  'splitter': ['best', 'random']}\n",
    " \n",
    "Grid_Search = GridSearchCV(DTC, Parameter_Trials, cv=5, n_jobs=1, verbose=5)\n",
    "GridSearchResults=Grid_Search.fit(X_train,y_train)"
   ]
  },
  {
   "cell_type": "code",
   "execution_count": 160,
   "metadata": {},
   "outputs": [
    {
     "output_type": "stream",
     "name": "stdout",
     "text": [
      "{'criterion': 'gini', 'max_features': 'auto', 'splitter': 'random'}\n"
     ]
    },
    {
     "output_type": "execute_result",
     "data": {
      "text/plain": [
       "[{'criterion': 'gini', 'max_features': 'auto', 'splitter': 'best'},\n",
       " {'criterion': 'gini', 'max_features': 'auto', 'splitter': 'random'},\n",
       " {'criterion': 'gini', 'max_features': 'sqrt', 'splitter': 'best'},\n",
       " {'criterion': 'gini', 'max_features': 'sqrt', 'splitter': 'random'},\n",
       " {'criterion': 'gini', 'max_features': 'log2', 'splitter': 'best'},\n",
       " {'criterion': 'gini', 'max_features': 'log2', 'splitter': 'random'},\n",
       " {'criterion': 'entropy', 'max_features': 'auto', 'splitter': 'best'},\n",
       " {'criterion': 'entropy', 'max_features': 'auto', 'splitter': 'random'},\n",
       " {'criterion': 'entropy', 'max_features': 'sqrt', 'splitter': 'best'},\n",
       " {'criterion': 'entropy', 'max_features': 'sqrt', 'splitter': 'random'},\n",
       " {'criterion': 'entropy', 'max_features': 'log2', 'splitter': 'best'},\n",
       " {'criterion': 'entropy', 'max_features': 'log2', 'splitter': 'random'}]"
      ]
     },
     "metadata": {},
     "execution_count": 160
    }
   ],
   "source": [
    "\n",
    "# Fetching the best hyperparameters\n",
    "print(GridSearchResults.best_params_)\n",
    "\n",
    "# Looking at all the parameter combinations tried by GridSearch\n",
    "GridSearchResults.cv_results_['params']\n"
   ]
  },
  {
   "source": [
    "# Sauvegarde du model"
   ],
   "cell_type": "markdown",
   "metadata": {}
  },
  {
   "cell_type": "code",
   "execution_count": 40,
   "metadata": {},
   "outputs": [],
   "source": [
    "import pickle\n",
    "import sklearn.externals as extjoblib\n",
    "import joblib"
   ]
  },
  {
   "cell_type": "code",
   "execution_count": 41,
   "metadata": {},
   "outputs": [
    {
     "output_type": "stream",
     "name": "stdout",
     "text": [
      "Model dumped!\n"
     ]
    }
   ],
   "source": [
    "joblib.dump(model, 'model_amelioration.pkl')\n",
    "print(\"Model dumped!\")"
   ]
  },
  {
   "cell_type": "code",
   "execution_count": 42,
   "metadata": {},
   "outputs": [],
   "source": [
    "model_amelioration = joblib.load('model_amelioration.pkl')"
   ]
  },
  {
   "cell_type": "code",
   "execution_count": 43,
   "metadata": {},
   "outputs": [
    {
     "output_type": "stream",
     "name": "stdout",
     "text": [
      "DecisionTreeClassifier(max_depth=2)\n"
     ]
    }
   ],
   "source": [
    "print(model_amelioration)"
   ]
  },
  {
   "source": [
    "# Dashboard"
   ],
   "cell_type": "markdown",
   "metadata": {}
  },
  {
   "cell_type": "code",
   "execution_count": null,
   "metadata": {},
   "outputs": [],
   "source": [
    "X = pd.DataFrame(np.array(X), columns = ['Genre', 'Realisateur', 'Acteur_1','Acteur_2'])\n",
    "y = pd.DataFrame(np.array(y), columns = ['metascore'])\n",
    "\n",
    "X = X.set_axis(['Genre', 'Realisateur', 'Acteur_1','Acteur_2'], \n",
    "                    axis='columns', inplace=True)\n",
    "y = y.set_axis(['metascore'], axis='columns', inplace=True)"
   ]
  },
  {
   "cell_type": "code",
   "execution_count": null,
   "metadata": {},
   "outputs": [],
   "source": [
    "def convert_to_int(string):\n",
    "    integer = 0\n",
    "    try:\n",
    "        integer = int(string)\n",
    "    except:\n",
    "        string = string.lower()\n",
    "        for i in string:\n",
    "            integer += ord(i)\n",
    "    return integer\n",
    "\n",
    "\n",
    "imdb = imdb.values.tolist()\n",
    "\n",
    "\n",
    "X = []\n",
    "y = []\n",
    "\n",
    "\n",
    "for i in range(len(imdb)):\n",
    "    X.append([imdb[i][2], imdb[i][3], imdb[i][4], imdb[i][5]]) #Genre, directeur, Acteur 1 et Acteur 2\n",
    "    y.append(imdb[i][1]) #metascore\n",
    "\n",
    "for i in range(len(X)):\n",
    "    for x in range(len(X[i])):\n",
    "        X[i][x] = convert_to_int(X[i][x])\n",
    "\n",
    "for i in range(len(y)):\n",
    "    y[i] = int(float(y[i])*10)\n",
    "\n",
    "X = pd.DataFrame(X)\n",
    "y = pd.DataFrame(y)\n",
    "\n",
    "X = pd.DataFrame(np.array(X), columns = ['Genre', 'Realisateur', 'Acteur_1','Acteur_2'])\n",
    "y = pd.DataFrame(np.array(y), columns = ['metascore'])\n",
    "X_train, X_test, y_train, y_test = train_test_split(X,y, test_size = 0.3, random_state=42)"
   ]
  },
  {
   "cell_type": "code",
   "execution_count": null,
   "metadata": {},
   "outputs": [],
   "source": []
  },
  {
   "cell_type": "code",
   "execution_count": 8,
   "metadata": {},
   "outputs": [
    {
     "output_type": "error",
     "ename": "KeyError",
     "evalue": "0",
     "traceback": [
      "\u001b[0;31m---------------------------------------------------------------------------\u001b[0m",
      "\u001b[0;31mKeyError\u001b[0m                                  Traceback (most recent call last)",
      "\u001b[0;32m~/opt/anaconda3/lib/python3.8/site-packages/pandas/core/indexes/base.py\u001b[0m in \u001b[0;36mget_loc\u001b[0;34m(self, key, method, tolerance)\u001b[0m\n\u001b[1;32m   2894\u001b[0m             \u001b[0;32mtry\u001b[0m\u001b[0;34m:\u001b[0m\u001b[0;34m\u001b[0m\u001b[0;34m\u001b[0m\u001b[0m\n\u001b[0;32m-> 2895\u001b[0;31m                 \u001b[0;32mreturn\u001b[0m \u001b[0mself\u001b[0m\u001b[0;34m.\u001b[0m\u001b[0m_engine\u001b[0m\u001b[0;34m.\u001b[0m\u001b[0mget_loc\u001b[0m\u001b[0;34m(\u001b[0m\u001b[0mcasted_key\u001b[0m\u001b[0;34m)\u001b[0m\u001b[0;34m\u001b[0m\u001b[0;34m\u001b[0m\u001b[0m\n\u001b[0m\u001b[1;32m   2896\u001b[0m             \u001b[0;32mexcept\u001b[0m \u001b[0mKeyError\u001b[0m \u001b[0;32mas\u001b[0m \u001b[0merr\u001b[0m\u001b[0;34m:\u001b[0m\u001b[0;34m\u001b[0m\u001b[0;34m\u001b[0m\u001b[0m\n",
      "\u001b[0;32mpandas/_libs/index.pyx\u001b[0m in \u001b[0;36mpandas._libs.index.IndexEngine.get_loc\u001b[0;34m()\u001b[0m\n",
      "\u001b[0;32mpandas/_libs/index.pyx\u001b[0m in \u001b[0;36mpandas._libs.index.IndexEngine.get_loc\u001b[0;34m()\u001b[0m\n",
      "\u001b[0;32mpandas/_libs/hashtable_class_helper.pxi\u001b[0m in \u001b[0;36mpandas._libs.hashtable.PyObjectHashTable.get_item\u001b[0;34m()\u001b[0m\n",
      "\u001b[0;32mpandas/_libs/hashtable_class_helper.pxi\u001b[0m in \u001b[0;36mpandas._libs.hashtable.PyObjectHashTable.get_item\u001b[0;34m()\u001b[0m\n",
      "\u001b[0;31mKeyError\u001b[0m: 0",
      "\nThe above exception was the direct cause of the following exception:\n",
      "\u001b[0;31mKeyError\u001b[0m                                  Traceback (most recent call last)",
      "\u001b[0;32m<ipython-input-8-15483b69efed>\u001b[0m in \u001b[0;36m<module>\u001b[0;34m\u001b[0m\n\u001b[1;32m     43\u001b[0m \u001b[0;34m\u001b[0m\u001b[0m\n\u001b[1;32m     44\u001b[0m    \u001b[0;32mfor\u001b[0m \u001b[0mi\u001b[0m \u001b[0;32min\u001b[0m \u001b[0mrange\u001b[0m\u001b[0;34m(\u001b[0m\u001b[0mlen\u001b[0m\u001b[0;34m(\u001b[0m\u001b[0mimdb\u001b[0m\u001b[0;34m)\u001b[0m\u001b[0;34m)\u001b[0m\u001b[0;34m:\u001b[0m\u001b[0;34m\u001b[0m\u001b[0;34m\u001b[0m\u001b[0m\n\u001b[0;32m---> 45\u001b[0;31m       \u001b[0mX\u001b[0m\u001b[0;34m.\u001b[0m\u001b[0mappend\u001b[0m\u001b[0;34m(\u001b[0m\u001b[0;34m[\u001b[0m\u001b[0mimdb\u001b[0m\u001b[0;34m[\u001b[0m\u001b[0mi\u001b[0m\u001b[0;34m]\u001b[0m\u001b[0;34m[\u001b[0m\u001b[0;36m2\u001b[0m\u001b[0;34m]\u001b[0m\u001b[0;34m,\u001b[0m \u001b[0mimdb\u001b[0m\u001b[0;34m[\u001b[0m\u001b[0mi\u001b[0m\u001b[0;34m]\u001b[0m\u001b[0;34m[\u001b[0m\u001b[0;36m3\u001b[0m\u001b[0;34m]\u001b[0m\u001b[0;34m,\u001b[0m \u001b[0mimdb\u001b[0m\u001b[0;34m[\u001b[0m\u001b[0mi\u001b[0m\u001b[0;34m]\u001b[0m\u001b[0;34m[\u001b[0m\u001b[0;36m4\u001b[0m\u001b[0;34m]\u001b[0m\u001b[0;34m,\u001b[0m \u001b[0mimdb\u001b[0m\u001b[0;34m[\u001b[0m\u001b[0mi\u001b[0m\u001b[0;34m]\u001b[0m\u001b[0;34m[\u001b[0m\u001b[0;36m5\u001b[0m\u001b[0;34m]\u001b[0m\u001b[0;34m]\u001b[0m\u001b[0;34m)\u001b[0m \u001b[0;31m#Genre, directeur, Acteur 1 et Acteur 2\u001b[0m\u001b[0;34m\u001b[0m\u001b[0;34m\u001b[0m\u001b[0m\n\u001b[0m\u001b[1;32m     46\u001b[0m       \u001b[0my\u001b[0m\u001b[0;34m.\u001b[0m\u001b[0mappend\u001b[0m\u001b[0;34m(\u001b[0m\u001b[0mimdb\u001b[0m\u001b[0;34m[\u001b[0m\u001b[0mi\u001b[0m\u001b[0;34m]\u001b[0m\u001b[0;34m[\u001b[0m\u001b[0;36m1\u001b[0m\u001b[0;34m]\u001b[0m\u001b[0;34m)\u001b[0m \u001b[0;31m#metascore\u001b[0m\u001b[0;34m\u001b[0m\u001b[0;34m\u001b[0m\u001b[0m\n\u001b[1;32m     47\u001b[0m \u001b[0;34m\u001b[0m\u001b[0m\n",
      "\u001b[0;32m~/opt/anaconda3/lib/python3.8/site-packages/pandas/core/frame.py\u001b[0m in \u001b[0;36m__getitem__\u001b[0;34m(self, key)\u001b[0m\n\u001b[1;32m   2900\u001b[0m             \u001b[0;32mif\u001b[0m \u001b[0mself\u001b[0m\u001b[0;34m.\u001b[0m\u001b[0mcolumns\u001b[0m\u001b[0;34m.\u001b[0m\u001b[0mnlevels\u001b[0m \u001b[0;34m>\u001b[0m \u001b[0;36m1\u001b[0m\u001b[0;34m:\u001b[0m\u001b[0;34m\u001b[0m\u001b[0;34m\u001b[0m\u001b[0m\n\u001b[1;32m   2901\u001b[0m                 \u001b[0;32mreturn\u001b[0m \u001b[0mself\u001b[0m\u001b[0;34m.\u001b[0m\u001b[0m_getitem_multilevel\u001b[0m\u001b[0;34m(\u001b[0m\u001b[0mkey\u001b[0m\u001b[0;34m)\u001b[0m\u001b[0;34m\u001b[0m\u001b[0;34m\u001b[0m\u001b[0m\n\u001b[0;32m-> 2902\u001b[0;31m             \u001b[0mindexer\u001b[0m \u001b[0;34m=\u001b[0m \u001b[0mself\u001b[0m\u001b[0;34m.\u001b[0m\u001b[0mcolumns\u001b[0m\u001b[0;34m.\u001b[0m\u001b[0mget_loc\u001b[0m\u001b[0;34m(\u001b[0m\u001b[0mkey\u001b[0m\u001b[0;34m)\u001b[0m\u001b[0;34m\u001b[0m\u001b[0;34m\u001b[0m\u001b[0m\n\u001b[0m\u001b[1;32m   2903\u001b[0m             \u001b[0;32mif\u001b[0m \u001b[0mis_integer\u001b[0m\u001b[0;34m(\u001b[0m\u001b[0mindexer\u001b[0m\u001b[0;34m)\u001b[0m\u001b[0;34m:\u001b[0m\u001b[0;34m\u001b[0m\u001b[0;34m\u001b[0m\u001b[0m\n\u001b[1;32m   2904\u001b[0m                 \u001b[0mindexer\u001b[0m \u001b[0;34m=\u001b[0m \u001b[0;34m[\u001b[0m\u001b[0mindexer\u001b[0m\u001b[0;34m]\u001b[0m\u001b[0;34m\u001b[0m\u001b[0;34m\u001b[0m\u001b[0m\n",
      "\u001b[0;32m~/opt/anaconda3/lib/python3.8/site-packages/pandas/core/indexes/base.py\u001b[0m in \u001b[0;36mget_loc\u001b[0;34m(self, key, method, tolerance)\u001b[0m\n\u001b[1;32m   2895\u001b[0m                 \u001b[0;32mreturn\u001b[0m \u001b[0mself\u001b[0m\u001b[0;34m.\u001b[0m\u001b[0m_engine\u001b[0m\u001b[0;34m.\u001b[0m\u001b[0mget_loc\u001b[0m\u001b[0;34m(\u001b[0m\u001b[0mcasted_key\u001b[0m\u001b[0;34m)\u001b[0m\u001b[0;34m\u001b[0m\u001b[0;34m\u001b[0m\u001b[0m\n\u001b[1;32m   2896\u001b[0m             \u001b[0;32mexcept\u001b[0m \u001b[0mKeyError\u001b[0m \u001b[0;32mas\u001b[0m \u001b[0merr\u001b[0m\u001b[0;34m:\u001b[0m\u001b[0;34m\u001b[0m\u001b[0;34m\u001b[0m\u001b[0m\n\u001b[0;32m-> 2897\u001b[0;31m                 \u001b[0;32mraise\u001b[0m \u001b[0mKeyError\u001b[0m\u001b[0;34m(\u001b[0m\u001b[0mkey\u001b[0m\u001b[0;34m)\u001b[0m \u001b[0;32mfrom\u001b[0m \u001b[0merr\u001b[0m\u001b[0;34m\u001b[0m\u001b[0;34m\u001b[0m\u001b[0m\n\u001b[0m\u001b[1;32m   2898\u001b[0m \u001b[0;34m\u001b[0m\u001b[0m\n\u001b[1;32m   2899\u001b[0m         \u001b[0;32mif\u001b[0m \u001b[0mtolerance\u001b[0m \u001b[0;32mis\u001b[0m \u001b[0;32mnot\u001b[0m \u001b[0;32mNone\u001b[0m\u001b[0;34m:\u001b[0m\u001b[0;34m\u001b[0m\u001b[0;34m\u001b[0m\u001b[0m\n",
      "\u001b[0;31mKeyError\u001b[0m: 0"
     ]
    }
   ],
   "source": [
    "import os\n",
    "import warnings\n",
    "import sys\n",
    "\n",
    "import pandas as pd\n",
    "import numpy as np\n",
    "from sklearn.metrics import f1_score, recall_score, precision_score\n",
    "from sklearn.model_selection import train_test_split\n",
    "from sklearn import tree\n",
    "\n",
    "import mlflow\n",
    "import mlflow.sklearn\n",
    "from urllib.parse import urlparse\n",
    "\n",
    "import logging\n",
    "\n",
    "logging.basicConfig(level=logging.WARN)\n",
    "logger = logging.getLogger(__name__)\n",
    "\n",
    "def eval_metrics(y_test, y_pred):\n",
    "    f1 = f1_score(y_test, y_pred, average='macro')\n",
    "    recall = recall_score(y_test, y_pred, average='macro')\n",
    "    precision = precision_score(y_test, y_pred, average='macro')\n",
    "    return f1, recall, precision\n",
    " \n",
    "integer = 0 \n",
    "def convert_to_int(string):    \n",
    "   try:\n",
    "        integer = int(string)\n",
    "   except:\n",
    "        string = string.lower()\n",
    "        for i in string:\n",
    "            integer += ord(i)\n",
    "   return integer\n",
    " \n",
    "if __name__ == \"__main__\":\n",
    "   warnings.filterwarnings(\"ignore\")\n",
    "        \n",
    "   imdb = pd.read_csv(\"/Users/manon/Projet/Projet-SIMPLON/Amélioration/Data/movies2.csv\", encoding=\"latin-1\")\n",
    "        \n",
    "   X = []\n",
    "   y = []\n",
    "        \n",
    "   for i in range(len(imdb)):\n",
    "      X.append([imdb[i][2], imdb[i][3], imdb[i][4], imdb[i][5]]) #Genre, directeur, Acteur 1 et Acteur 2\n",
    "      y.append(imdb[i][1]) #metascore\n",
    "            \n",
    "   for i in range(len(X)):\n",
    "      for x in range(len(X[i])):\n",
    "         X[i][x] = convert_to_int(X[i][x])\n",
    "\n",
    "   for i in range(len(y)):\n",
    "      y[i] = int(float(y[i])*10)\n",
    "            \n",
    "   X_train, X_test, y_train, y_test = train_test_split(X,y, test_size = 0.3, random_state=42)\n",
    "\n",
    "   \n",
    "with mlflow.start_run():\n",
    "    model = tree.DecisionTreeClassifier()\n",
    "    model.fit(X_train, y_train)\n",
    "      \n",
    "    y_pred = model.predict(X_test)\n",
    "      \n",
    "    (f1, recall, precision) =  eval_metrics(y_test, y_pred)\n",
    "      \n",
    "    print(\"  Precision: %s\" % precision)\n",
    "    print(\"  Recall: %s\" % recall)\n",
    "    print(\"  F1-score: %s\" % f1)\n",
    "\n",
    "    mlflow.log_metric(\"precision\", precision)\n",
    "    mlflow.log_metric(\"F1-score\", f1)\n",
    "    mlflow.log_metric(\"recall\", recall)\n",
    "      \n",
    "    tracking_url_type_store = urlparse(mlflow.get_tracking_uri()).scheme    "
   ]
  },
  {
   "cell_type": "code",
   "execution_count": null,
   "metadata": {},
   "outputs": [],
   "source": []
  },
  {
   "cell_type": "code",
   "execution_count": 15,
   "metadata": {},
   "outputs": [],
   "source": [
    "df['date'] = pd.to_datetime(df['date'])\n",
    "df['year'] = df['date'].dt.year\n",
    "df['month'] = df['date'].dt.month\n",
    "df['day'] = df['date'].dt.day\n",
    "df = df.set_index(['date'])"
   ]
  },
  {
   "cell_type": "code",
   "execution_count": 10,
   "metadata": {},
   "outputs": [
    {
     "output_type": "display_data",
     "data": {
      "text/plain": "<Figure size 576x432 with 1 Axes>",
      "image/svg+xml": "<?xml version=\"1.0\" encoding=\"utf-8\" standalone=\"no\"?>\n<!DOCTYPE svg PUBLIC \"-//W3C//DTD SVG 1.1//EN\"\n  \"http://www.w3.org/Graphics/SVG/1.1/DTD/svg11.dtd\">\n<svg height=\"414.878437pt\" version=\"1.1\" viewBox=\"0 0 486.8875 414.878437\" width=\"486.8875pt\" xmlns=\"http://www.w3.org/2000/svg\" xmlns:xlink=\"http://www.w3.org/1999/xlink\">\n <metadata>\n  <rdf:RDF xmlns:cc=\"http://creativecommons.org/ns#\" xmlns:dc=\"http://purl.org/dc/elements/1.1/\" xmlns:rdf=\"http://www.w3.org/1999/02/22-rdf-syntax-ns#\">\n   <cc:Work>\n    <dc:type rdf:resource=\"http://purl.org/dc/dcmitype/StillImage\"/>\n    <dc:date>2021-05-12T15:06:08.245040</dc:date>\n    <dc:format>image/svg+xml</dc:format>\n    <dc:creator>\n     <cc:Agent>\n      <dc:title>Matplotlib v3.4.2, https://matplotlib.org/</dc:title>\n     </cc:Agent>\n    </dc:creator>\n   </cc:Work>\n  </rdf:RDF>\n </metadata>\n <defs>\n  <style type=\"text/css\">*{stroke-linecap:butt;stroke-linejoin:round;}</style>\n </defs>\n <g id=\"figure_1\">\n  <g id=\"patch_1\">\n   <path d=\"M 0 414.878437 \nL 486.8875 414.878437 \nL 486.8875 0 \nL 0 0 \nz\n\" style=\"fill:none;\"/>\n  </g>\n  <g id=\"axes_1\">\n   <g id=\"patch_2\">\n    <path d=\"M 33.2875 348.958125 \nL 479.6875 348.958125 \nL 479.6875 22.798125 \nL 33.2875 22.798125 \nz\n\" style=\"fill:#ffffff;\"/>\n   </g>\n   <g id=\"patch_3\">\n    <path clip-path=\"url(#p98be5b513e)\" d=\"M 41.258929 348.958125 \nL 57.201786 348.958125 \nL 57.201786 38.329554 \nL 41.258929 38.329554 \nz\n\" style=\"fill:#1f77b4;\"/>\n   </g>\n   <g id=\"patch_4\">\n    <path clip-path=\"url(#p98be5b513e)\" d=\"M 73.144643 348.958125 \nL 89.0875 348.958125 \nL 89.0875 41.451449 \nL 73.144643 41.451449 \nz\n\" style=\"fill:#1f77b4;\"/>\n   </g>\n   <g id=\"patch_5\">\n    <path clip-path=\"url(#p98be5b513e)\" d=\"M 105.030357 348.958125 \nL 120.973214 348.958125 \nL 120.973214 144.083753 \nL 105.030357 144.083753 \nz\n\" style=\"fill:#1f77b4;\"/>\n   </g>\n   <g id=\"patch_6\">\n    <path clip-path=\"url(#p98be5b513e)\" d=\"M 136.916071 348.958125 \nL 152.858929 348.958125 \nL 152.858929 262.71577 \nL 136.916071 262.71577 \nz\n\" style=\"fill:#1f77b4;\"/>\n   </g>\n   <g id=\"patch_7\">\n    <path clip-path=\"url(#p98be5b513e)\" d=\"M 168.801786 348.958125 \nL 184.744643 348.958125 \nL 184.744643 267.398613 \nL 168.801786 267.398613 \nz\n\" style=\"fill:#1f77b4;\"/>\n   </g>\n   <g id=\"patch_8\">\n    <path clip-path=\"url(#p98be5b513e)\" d=\"M 200.6875 348.958125 \nL 216.630357 348.958125 \nL 216.630357 273.642404 \nL 200.6875 273.642404 \nz\n\" style=\"fill:#1f77b4;\"/>\n   </g>\n   <g id=\"patch_9\">\n    <path clip-path=\"url(#p98be5b513e)\" d=\"M 232.573214 348.958125 \nL 248.516071 348.958125 \nL 248.516071 276.764299 \nL 232.573214 276.764299 \nz\n\" style=\"fill:#1f77b4;\"/>\n   </g>\n   <g id=\"patch_10\">\n    <path clip-path=\"url(#p98be5b513e)\" d=\"M 264.458929 348.958125 \nL 280.401786 348.958125 \nL 280.401786 278.325246 \nL 264.458929 278.325246 \nz\n\" style=\"fill:#1f77b4;\"/>\n   </g>\n   <g id=\"patch_11\">\n    <path clip-path=\"url(#p98be5b513e)\" d=\"M 296.344643 348.958125 \nL 312.2875 348.958125 \nL 312.2875 343.494808 \nL 296.344643 343.494808 \nz\n\" style=\"fill:#1f77b4;\"/>\n   </g>\n   <g id=\"patch_12\">\n    <path clip-path=\"url(#p98be5b513e)\" d=\"M 328.230357 348.958125 \nL 344.173214 348.958125 \nL 344.173214 344.275282 \nL 328.230357 344.275282 \nz\n\" style=\"fill:#1f77b4;\"/>\n   </g>\n   <g id=\"patch_13\">\n    <path clip-path=\"url(#p98be5b513e)\" d=\"M 360.116071 348.958125 \nL 376.058929 348.958125 \nL 376.058929 347.787414 \nL 360.116071 347.787414 \nz\n\" style=\"fill:#1f77b4;\"/>\n   </g>\n   <g id=\"patch_14\">\n    <path clip-path=\"url(#p98be5b513e)\" d=\"M 392.001786 348.958125 \nL 407.944643 348.958125 \nL 407.944643 348.177651 \nL 392.001786 348.177651 \nz\n\" style=\"fill:#1f77b4;\"/>\n   </g>\n   <g id=\"patch_15\">\n    <path clip-path=\"url(#p98be5b513e)\" d=\"M 423.8875 348.958125 \nL 439.830357 348.958125 \nL 439.830357 348.567888 \nL 423.8875 348.567888 \nz\n\" style=\"fill:#1f77b4;\"/>\n   </g>\n   <g id=\"patch_16\">\n    <path clip-path=\"url(#p98be5b513e)\" d=\"M 455.773214 348.958125 \nL 471.716071 348.958125 \nL 471.716071 348.567888 \nL 455.773214 348.567888 \nz\n\" style=\"fill:#1f77b4;\"/>\n   </g>\n   <g id=\"matplotlib.axis_1\">\n    <g id=\"xtick_1\">\n     <g id=\"line2d_1\">\n      <defs>\n       <path d=\"M 0 0 \nL 0 3.5 \n\" id=\"me034cf4dfc\" style=\"stroke:#000000;stroke-width:0.8;\"/>\n      </defs>\n      <g>\n       <use style=\"stroke:#000000;stroke-width:0.8;\" x=\"49.230357\" xlink:href=\"#me034cf4dfc\" y=\"348.958125\"/>\n      </g>\n     </g>\n     <g id=\"text_1\">\n      <!-- Comedy -->\n      <g transform=\"translate(51.989732 397.220625)rotate(-90)scale(0.1 -0.1)\">\n       <defs>\n        <path d=\"M 4122 4306 \nL 4122 3641 \nQ 3803 3938 3442 4084 \nQ 3081 4231 2675 4231 \nQ 1875 4231 1450 3742 \nQ 1025 3253 1025 2328 \nQ 1025 1406 1450 917 \nQ 1875 428 2675 428 \nQ 3081 428 3442 575 \nQ 3803 722 4122 1019 \nL 4122 359 \nQ 3791 134 3420 21 \nQ 3050 -91 2638 -91 \nQ 1578 -91 968 557 \nQ 359 1206 359 2328 \nQ 359 3453 968 4101 \nQ 1578 4750 2638 4750 \nQ 3056 4750 3426 4639 \nQ 3797 4528 4122 4306 \nz\n\" id=\"DejaVuSans-43\" transform=\"scale(0.015625)\"/>\n        <path d=\"M 1959 3097 \nQ 1497 3097 1228 2736 \nQ 959 2375 959 1747 \nQ 959 1119 1226 758 \nQ 1494 397 1959 397 \nQ 2419 397 2687 759 \nQ 2956 1122 2956 1747 \nQ 2956 2369 2687 2733 \nQ 2419 3097 1959 3097 \nz\nM 1959 3584 \nQ 2709 3584 3137 3096 \nQ 3566 2609 3566 1747 \nQ 3566 888 3137 398 \nQ 2709 -91 1959 -91 \nQ 1206 -91 779 398 \nQ 353 888 353 1747 \nQ 353 2609 779 3096 \nQ 1206 3584 1959 3584 \nz\n\" id=\"DejaVuSans-6f\" transform=\"scale(0.015625)\"/>\n        <path d=\"M 3328 2828 \nQ 3544 3216 3844 3400 \nQ 4144 3584 4550 3584 \nQ 5097 3584 5394 3201 \nQ 5691 2819 5691 2113 \nL 5691 0 \nL 5113 0 \nL 5113 2094 \nQ 5113 2597 4934 2840 \nQ 4756 3084 4391 3084 \nQ 3944 3084 3684 2787 \nQ 3425 2491 3425 1978 \nL 3425 0 \nL 2847 0 \nL 2847 2094 \nQ 2847 2600 2669 2842 \nQ 2491 3084 2119 3084 \nQ 1678 3084 1418 2786 \nQ 1159 2488 1159 1978 \nL 1159 0 \nL 581 0 \nL 581 3500 \nL 1159 3500 \nL 1159 2956 \nQ 1356 3278 1631 3431 \nQ 1906 3584 2284 3584 \nQ 2666 3584 2933 3390 \nQ 3200 3197 3328 2828 \nz\n\" id=\"DejaVuSans-6d\" transform=\"scale(0.015625)\"/>\n        <path d=\"M 3597 1894 \nL 3597 1613 \nL 953 1613 \nQ 991 1019 1311 708 \nQ 1631 397 2203 397 \nQ 2534 397 2845 478 \nQ 3156 559 3463 722 \nL 3463 178 \nQ 3153 47 2828 -22 \nQ 2503 -91 2169 -91 \nQ 1331 -91 842 396 \nQ 353 884 353 1716 \nQ 353 2575 817 3079 \nQ 1281 3584 2069 3584 \nQ 2775 3584 3186 3129 \nQ 3597 2675 3597 1894 \nz\nM 3022 2063 \nQ 3016 2534 2758 2815 \nQ 2500 3097 2075 3097 \nQ 1594 3097 1305 2825 \nQ 1016 2553 972 2059 \nL 3022 2063 \nz\n\" id=\"DejaVuSans-65\" transform=\"scale(0.015625)\"/>\n        <path d=\"M 2906 2969 \nL 2906 4863 \nL 3481 4863 \nL 3481 0 \nL 2906 0 \nL 2906 525 \nQ 2725 213 2448 61 \nQ 2172 -91 1784 -91 \nQ 1150 -91 751 415 \nQ 353 922 353 1747 \nQ 353 2572 751 3078 \nQ 1150 3584 1784 3584 \nQ 2172 3584 2448 3432 \nQ 2725 3281 2906 2969 \nz\nM 947 1747 \nQ 947 1113 1208 752 \nQ 1469 391 1925 391 \nQ 2381 391 2643 752 \nQ 2906 1113 2906 1747 \nQ 2906 2381 2643 2742 \nQ 2381 3103 1925 3103 \nQ 1469 3103 1208 2742 \nQ 947 2381 947 1747 \nz\n\" id=\"DejaVuSans-64\" transform=\"scale(0.015625)\"/>\n        <path d=\"M 2059 -325 \nQ 1816 -950 1584 -1140 \nQ 1353 -1331 966 -1331 \nL 506 -1331 \nL 506 -850 \nL 844 -850 \nQ 1081 -850 1212 -737 \nQ 1344 -625 1503 -206 \nL 1606 56 \nL 191 3500 \nL 800 3500 \nL 1894 763 \nL 2988 3500 \nL 3597 3500 \nL 2059 -325 \nz\n\" id=\"DejaVuSans-79\" transform=\"scale(0.015625)\"/>\n       </defs>\n       <use xlink:href=\"#DejaVuSans-43\"/>\n       <use x=\"69.824219\" xlink:href=\"#DejaVuSans-6f\"/>\n       <use x=\"131.005859\" xlink:href=\"#DejaVuSans-6d\"/>\n       <use x=\"228.417969\" xlink:href=\"#DejaVuSans-65\"/>\n       <use x=\"289.941406\" xlink:href=\"#DejaVuSans-64\"/>\n       <use x=\"353.417969\" xlink:href=\"#DejaVuSans-79\"/>\n      </g>\n     </g>\n    </g>\n    <g id=\"xtick_2\">\n     <g id=\"line2d_2\">\n      <g>\n       <use style=\"stroke:#000000;stroke-width:0.8;\" x=\"81.116071\" xlink:href=\"#me034cf4dfc\" y=\"348.958125\"/>\n      </g>\n     </g>\n     <g id=\"text_2\">\n      <!-- Action -->\n      <g transform=\"translate(83.875446 387.276875)rotate(-90)scale(0.1 -0.1)\">\n       <defs>\n        <path d=\"M 2188 4044 \nL 1331 1722 \nL 3047 1722 \nL 2188 4044 \nz\nM 1831 4666 \nL 2547 4666 \nL 4325 0 \nL 3669 0 \nL 3244 1197 \nL 1141 1197 \nL 716 0 \nL 50 0 \nL 1831 4666 \nz\n\" id=\"DejaVuSans-41\" transform=\"scale(0.015625)\"/>\n        <path d=\"M 3122 3366 \nL 3122 2828 \nQ 2878 2963 2633 3030 \nQ 2388 3097 2138 3097 \nQ 1578 3097 1268 2742 \nQ 959 2388 959 1747 \nQ 959 1106 1268 751 \nQ 1578 397 2138 397 \nQ 2388 397 2633 464 \nQ 2878 531 3122 666 \nL 3122 134 \nQ 2881 22 2623 -34 \nQ 2366 -91 2075 -91 \nQ 1284 -91 818 406 \nQ 353 903 353 1747 \nQ 353 2603 823 3093 \nQ 1294 3584 2113 3584 \nQ 2378 3584 2631 3529 \nQ 2884 3475 3122 3366 \nz\n\" id=\"DejaVuSans-63\" transform=\"scale(0.015625)\"/>\n        <path d=\"M 1172 4494 \nL 1172 3500 \nL 2356 3500 \nL 2356 3053 \nL 1172 3053 \nL 1172 1153 \nQ 1172 725 1289 603 \nQ 1406 481 1766 481 \nL 2356 481 \nL 2356 0 \nL 1766 0 \nQ 1100 0 847 248 \nQ 594 497 594 1153 \nL 594 3053 \nL 172 3053 \nL 172 3500 \nL 594 3500 \nL 594 4494 \nL 1172 4494 \nz\n\" id=\"DejaVuSans-74\" transform=\"scale(0.015625)\"/>\n        <path d=\"M 603 3500 \nL 1178 3500 \nL 1178 0 \nL 603 0 \nL 603 3500 \nz\nM 603 4863 \nL 1178 4863 \nL 1178 4134 \nL 603 4134 \nL 603 4863 \nz\n\" id=\"DejaVuSans-69\" transform=\"scale(0.015625)\"/>\n        <path d=\"M 3513 2113 \nL 3513 0 \nL 2938 0 \nL 2938 2094 \nQ 2938 2591 2744 2837 \nQ 2550 3084 2163 3084 \nQ 1697 3084 1428 2787 \nQ 1159 2491 1159 1978 \nL 1159 0 \nL 581 0 \nL 581 3500 \nL 1159 3500 \nL 1159 2956 \nQ 1366 3272 1645 3428 \nQ 1925 3584 2291 3584 \nQ 2894 3584 3203 3211 \nQ 3513 2838 3513 2113 \nz\n\" id=\"DejaVuSans-6e\" transform=\"scale(0.015625)\"/>\n       </defs>\n       <use xlink:href=\"#DejaVuSans-41\"/>\n       <use x=\"66.658203\" xlink:href=\"#DejaVuSans-63\"/>\n       <use x=\"121.638672\" xlink:href=\"#DejaVuSans-74\"/>\n       <use x=\"160.847656\" xlink:href=\"#DejaVuSans-69\"/>\n       <use x=\"188.630859\" xlink:href=\"#DejaVuSans-6f\"/>\n       <use x=\"249.8125\" xlink:href=\"#DejaVuSans-6e\"/>\n      </g>\n     </g>\n    </g>\n    <g id=\"xtick_3\">\n     <g id=\"line2d_3\">\n      <g>\n       <use style=\"stroke:#000000;stroke-width:0.8;\" x=\"113.001786\" xlink:href=\"#me034cf4dfc\" y=\"348.958125\"/>\n      </g>\n     </g>\n     <g id=\"text_3\">\n      <!-- Drama -->\n      <g transform=\"translate(115.761161 389.765937)rotate(-90)scale(0.1 -0.1)\">\n       <defs>\n        <path d=\"M 1259 4147 \nL 1259 519 \nL 2022 519 \nQ 2988 519 3436 956 \nQ 3884 1394 3884 2338 \nQ 3884 3275 3436 3711 \nQ 2988 4147 2022 4147 \nL 1259 4147 \nz\nM 628 4666 \nL 1925 4666 \nQ 3281 4666 3915 4102 \nQ 4550 3538 4550 2338 \nQ 4550 1131 3912 565 \nQ 3275 0 1925 0 \nL 628 0 \nL 628 4666 \nz\n\" id=\"DejaVuSans-44\" transform=\"scale(0.015625)\"/>\n        <path d=\"M 2631 2963 \nQ 2534 3019 2420 3045 \nQ 2306 3072 2169 3072 \nQ 1681 3072 1420 2755 \nQ 1159 2438 1159 1844 \nL 1159 0 \nL 581 0 \nL 581 3500 \nL 1159 3500 \nL 1159 2956 \nQ 1341 3275 1631 3429 \nQ 1922 3584 2338 3584 \nQ 2397 3584 2469 3576 \nQ 2541 3569 2628 3553 \nL 2631 2963 \nz\n\" id=\"DejaVuSans-72\" transform=\"scale(0.015625)\"/>\n        <path d=\"M 2194 1759 \nQ 1497 1759 1228 1600 \nQ 959 1441 959 1056 \nQ 959 750 1161 570 \nQ 1363 391 1709 391 \nQ 2188 391 2477 730 \nQ 2766 1069 2766 1631 \nL 2766 1759 \nL 2194 1759 \nz\nM 3341 1997 \nL 3341 0 \nL 2766 0 \nL 2766 531 \nQ 2569 213 2275 61 \nQ 1981 -91 1556 -91 \nQ 1019 -91 701 211 \nQ 384 513 384 1019 \nQ 384 1609 779 1909 \nQ 1175 2209 1959 2209 \nL 2766 2209 \nL 2766 2266 \nQ 2766 2663 2505 2880 \nQ 2244 3097 1772 3097 \nQ 1472 3097 1187 3025 \nQ 903 2953 641 2809 \nL 641 3341 \nQ 956 3463 1253 3523 \nQ 1550 3584 1831 3584 \nQ 2591 3584 2966 3190 \nQ 3341 2797 3341 1997 \nz\n\" id=\"DejaVuSans-61\" transform=\"scale(0.015625)\"/>\n       </defs>\n       <use xlink:href=\"#DejaVuSans-44\"/>\n       <use x=\"77.001953\" xlink:href=\"#DejaVuSans-72\"/>\n       <use x=\"118.115234\" xlink:href=\"#DejaVuSans-61\"/>\n       <use x=\"179.394531\" xlink:href=\"#DejaVuSans-6d\"/>\n       <use x=\"276.806641\" xlink:href=\"#DejaVuSans-61\"/>\n      </g>\n     </g>\n    </g>\n    <g id=\"xtick_4\">\n     <g id=\"line2d_4\">\n      <g>\n       <use style=\"stroke:#000000;stroke-width:0.8;\" x=\"144.8875\" xlink:href=\"#me034cf4dfc\" y=\"348.958125\"/>\n      </g>\n     </g>\n     <g id=\"text_4\">\n      <!-- Biography -->\n      <g transform=\"translate(147.646875 406.908125)rotate(-90)scale(0.1 -0.1)\">\n       <defs>\n        <path d=\"M 1259 2228 \nL 1259 519 \nL 2272 519 \nQ 2781 519 3026 730 \nQ 3272 941 3272 1375 \nQ 3272 1813 3026 2020 \nQ 2781 2228 2272 2228 \nL 1259 2228 \nz\nM 1259 4147 \nL 1259 2741 \nL 2194 2741 \nQ 2656 2741 2882 2914 \nQ 3109 3088 3109 3444 \nQ 3109 3797 2882 3972 \nQ 2656 4147 2194 4147 \nL 1259 4147 \nz\nM 628 4666 \nL 2241 4666 \nQ 2963 4666 3353 4366 \nQ 3744 4066 3744 3513 \nQ 3744 3084 3544 2831 \nQ 3344 2578 2956 2516 \nQ 3422 2416 3680 2098 \nQ 3938 1781 3938 1306 \nQ 3938 681 3513 340 \nQ 3088 0 2303 0 \nL 628 0 \nL 628 4666 \nz\n\" id=\"DejaVuSans-42\" transform=\"scale(0.015625)\"/>\n        <path d=\"M 2906 1791 \nQ 2906 2416 2648 2759 \nQ 2391 3103 1925 3103 \nQ 1463 3103 1205 2759 \nQ 947 2416 947 1791 \nQ 947 1169 1205 825 \nQ 1463 481 1925 481 \nQ 2391 481 2648 825 \nQ 2906 1169 2906 1791 \nz\nM 3481 434 \nQ 3481 -459 3084 -895 \nQ 2688 -1331 1869 -1331 \nQ 1566 -1331 1297 -1286 \nQ 1028 -1241 775 -1147 \nL 775 -588 \nQ 1028 -725 1275 -790 \nQ 1522 -856 1778 -856 \nQ 2344 -856 2625 -561 \nQ 2906 -266 2906 331 \nL 2906 616 \nQ 2728 306 2450 153 \nQ 2172 0 1784 0 \nQ 1141 0 747 490 \nQ 353 981 353 1791 \nQ 353 2603 747 3093 \nQ 1141 3584 1784 3584 \nQ 2172 3584 2450 3431 \nQ 2728 3278 2906 2969 \nL 2906 3500 \nL 3481 3500 \nL 3481 434 \nz\n\" id=\"DejaVuSans-67\" transform=\"scale(0.015625)\"/>\n        <path d=\"M 1159 525 \nL 1159 -1331 \nL 581 -1331 \nL 581 3500 \nL 1159 3500 \nL 1159 2969 \nQ 1341 3281 1617 3432 \nQ 1894 3584 2278 3584 \nQ 2916 3584 3314 3078 \nQ 3713 2572 3713 1747 \nQ 3713 922 3314 415 \nQ 2916 -91 2278 -91 \nQ 1894 -91 1617 61 \nQ 1341 213 1159 525 \nz\nM 3116 1747 \nQ 3116 2381 2855 2742 \nQ 2594 3103 2138 3103 \nQ 1681 3103 1420 2742 \nQ 1159 2381 1159 1747 \nQ 1159 1113 1420 752 \nQ 1681 391 2138 391 \nQ 2594 391 2855 752 \nQ 3116 1113 3116 1747 \nz\n\" id=\"DejaVuSans-70\" transform=\"scale(0.015625)\"/>\n        <path d=\"M 3513 2113 \nL 3513 0 \nL 2938 0 \nL 2938 2094 \nQ 2938 2591 2744 2837 \nQ 2550 3084 2163 3084 \nQ 1697 3084 1428 2787 \nQ 1159 2491 1159 1978 \nL 1159 0 \nL 581 0 \nL 581 4863 \nL 1159 4863 \nL 1159 2956 \nQ 1366 3272 1645 3428 \nQ 1925 3584 2291 3584 \nQ 2894 3584 3203 3211 \nQ 3513 2838 3513 2113 \nz\n\" id=\"DejaVuSans-68\" transform=\"scale(0.015625)\"/>\n       </defs>\n       <use xlink:href=\"#DejaVuSans-42\"/>\n       <use x=\"68.603516\" xlink:href=\"#DejaVuSans-69\"/>\n       <use x=\"96.386719\" xlink:href=\"#DejaVuSans-6f\"/>\n       <use x=\"157.568359\" xlink:href=\"#DejaVuSans-67\"/>\n       <use x=\"221.044922\" xlink:href=\"#DejaVuSans-72\"/>\n       <use x=\"262.158203\" xlink:href=\"#DejaVuSans-61\"/>\n       <use x=\"323.4375\" xlink:href=\"#DejaVuSans-70\"/>\n       <use x=\"386.914062\" xlink:href=\"#DejaVuSans-68\"/>\n       <use x=\"450.292969\" xlink:href=\"#DejaVuSans-79\"/>\n      </g>\n     </g>\n    </g>\n    <g id=\"xtick_5\">\n     <g id=\"line2d_5\">\n      <g>\n       <use style=\"stroke:#000000;stroke-width:0.8;\" x=\"176.773214\" xlink:href=\"#me034cf4dfc\" y=\"348.958125\"/>\n      </g>\n     </g>\n     <g id=\"text_5\">\n      <!-- Crime -->\n      <g transform=\"translate(179.532589 385.72375)rotate(-90)scale(0.1 -0.1)\">\n       <use xlink:href=\"#DejaVuSans-43\"/>\n       <use x=\"69.824219\" xlink:href=\"#DejaVuSans-72\"/>\n       <use x=\"110.9375\" xlink:href=\"#DejaVuSans-69\"/>\n       <use x=\"138.720703\" xlink:href=\"#DejaVuSans-6d\"/>\n       <use x=\"236.132812\" xlink:href=\"#DejaVuSans-65\"/>\n      </g>\n     </g>\n    </g>\n    <g id=\"xtick_6\">\n     <g id=\"line2d_6\">\n      <g>\n       <use style=\"stroke:#000000;stroke-width:0.8;\" x=\"208.658929\" xlink:href=\"#me034cf4dfc\" y=\"348.958125\"/>\n      </g>\n     </g>\n     <g id=\"text_6\">\n      <!-- Animation -->\n      <g transform=\"translate(211.418304 406.937812)rotate(-90)scale(0.1 -0.1)\">\n       <use xlink:href=\"#DejaVuSans-41\"/>\n       <use x=\"68.408203\" xlink:href=\"#DejaVuSans-6e\"/>\n       <use x=\"131.787109\" xlink:href=\"#DejaVuSans-69\"/>\n       <use x=\"159.570312\" xlink:href=\"#DejaVuSans-6d\"/>\n       <use x=\"256.982422\" xlink:href=\"#DejaVuSans-61\"/>\n       <use x=\"318.261719\" xlink:href=\"#DejaVuSans-74\"/>\n       <use x=\"357.470703\" xlink:href=\"#DejaVuSans-69\"/>\n       <use x=\"385.253906\" xlink:href=\"#DejaVuSans-6f\"/>\n       <use x=\"446.435547\" xlink:href=\"#DejaVuSans-6e\"/>\n      </g>\n     </g>\n    </g>\n    <g id=\"xtick_7\">\n     <g id=\"line2d_7\">\n      <g>\n       <use style=\"stroke:#000000;stroke-width:0.8;\" x=\"240.544643\" xlink:href=\"#me034cf4dfc\" y=\"348.958125\"/>\n      </g>\n     </g>\n     <g id=\"text_7\">\n      <!-- Adventure -->\n      <g transform=\"translate(243.304018 407.678437)rotate(-90)scale(0.1 -0.1)\">\n       <defs>\n        <path d=\"M 191 3500 \nL 800 3500 \nL 1894 563 \nL 2988 3500 \nL 3597 3500 \nL 2284 0 \nL 1503 0 \nL 191 3500 \nz\n\" id=\"DejaVuSans-76\" transform=\"scale(0.015625)\"/>\n        <path d=\"M 544 1381 \nL 544 3500 \nL 1119 3500 \nL 1119 1403 \nQ 1119 906 1312 657 \nQ 1506 409 1894 409 \nQ 2359 409 2629 706 \nQ 2900 1003 2900 1516 \nL 2900 3500 \nL 3475 3500 \nL 3475 0 \nL 2900 0 \nL 2900 538 \nQ 2691 219 2414 64 \nQ 2138 -91 1772 -91 \nQ 1169 -91 856 284 \nQ 544 659 544 1381 \nz\nM 1991 3584 \nL 1991 3584 \nz\n\" id=\"DejaVuSans-75\" transform=\"scale(0.015625)\"/>\n       </defs>\n       <use xlink:href=\"#DejaVuSans-41\"/>\n       <use x=\"66.658203\" xlink:href=\"#DejaVuSans-64\"/>\n       <use x=\"130.134766\" xlink:href=\"#DejaVuSans-76\"/>\n       <use x=\"189.314453\" xlink:href=\"#DejaVuSans-65\"/>\n       <use x=\"250.837891\" xlink:href=\"#DejaVuSans-6e\"/>\n       <use x=\"314.216797\" xlink:href=\"#DejaVuSans-74\"/>\n       <use x=\"353.425781\" xlink:href=\"#DejaVuSans-75\"/>\n       <use x=\"416.804688\" xlink:href=\"#DejaVuSans-72\"/>\n       <use x=\"455.667969\" xlink:href=\"#DejaVuSans-65\"/>\n      </g>\n     </g>\n    </g>\n    <g id=\"xtick_8\">\n     <g id=\"line2d_8\">\n      <g>\n       <use style=\"stroke:#000000;stroke-width:0.8;\" x=\"272.430357\" xlink:href=\"#me034cf4dfc\" y=\"348.958125\"/>\n      </g>\n     </g>\n     <g id=\"text_8\">\n      <!-- Horror -->\n      <g transform=\"translate(275.189732 387.64875)rotate(-90)scale(0.1 -0.1)\">\n       <defs>\n        <path d=\"M 628 4666 \nL 1259 4666 \nL 1259 2753 \nL 3553 2753 \nL 3553 4666 \nL 4184 4666 \nL 4184 0 \nL 3553 0 \nL 3553 2222 \nL 1259 2222 \nL 1259 0 \nL 628 0 \nL 628 4666 \nz\n\" id=\"DejaVuSans-48\" transform=\"scale(0.015625)\"/>\n       </defs>\n       <use xlink:href=\"#DejaVuSans-48\"/>\n       <use x=\"75.195312\" xlink:href=\"#DejaVuSans-6f\"/>\n       <use x=\"136.376953\" xlink:href=\"#DejaVuSans-72\"/>\n       <use x=\"175.740234\" xlink:href=\"#DejaVuSans-72\"/>\n       <use x=\"214.603516\" xlink:href=\"#DejaVuSans-6f\"/>\n       <use x=\"275.785156\" xlink:href=\"#DejaVuSans-72\"/>\n      </g>\n     </g>\n    </g>\n    <g id=\"xtick_9\">\n     <g id=\"line2d_9\">\n      <g>\n       <use style=\"stroke:#000000;stroke-width:0.8;\" x=\"304.316071\" xlink:href=\"#me034cf4dfc\" y=\"348.958125\"/>\n      </g>\n     </g>\n     <g id=\"text_9\">\n      <!-- Mystery -->\n      <g transform=\"translate(307.075446 395.8175)rotate(-90)scale(0.1 -0.1)\">\n       <defs>\n        <path d=\"M 628 4666 \nL 1569 4666 \nL 2759 1491 \nL 3956 4666 \nL 4897 4666 \nL 4897 0 \nL 4281 0 \nL 4281 4097 \nL 3078 897 \nL 2444 897 \nL 1241 4097 \nL 1241 0 \nL 628 0 \nL 628 4666 \nz\n\" id=\"DejaVuSans-4d\" transform=\"scale(0.015625)\"/>\n        <path d=\"M 2834 3397 \nL 2834 2853 \nQ 2591 2978 2328 3040 \nQ 2066 3103 1784 3103 \nQ 1356 3103 1142 2972 \nQ 928 2841 928 2578 \nQ 928 2378 1081 2264 \nQ 1234 2150 1697 2047 \nL 1894 2003 \nQ 2506 1872 2764 1633 \nQ 3022 1394 3022 966 \nQ 3022 478 2636 193 \nQ 2250 -91 1575 -91 \nQ 1294 -91 989 -36 \nQ 684 19 347 128 \nL 347 722 \nQ 666 556 975 473 \nQ 1284 391 1588 391 \nQ 1994 391 2212 530 \nQ 2431 669 2431 922 \nQ 2431 1156 2273 1281 \nQ 2116 1406 1581 1522 \nL 1381 1569 \nQ 847 1681 609 1914 \nQ 372 2147 372 2553 \nQ 372 3047 722 3315 \nQ 1072 3584 1716 3584 \nQ 2034 3584 2315 3537 \nQ 2597 3491 2834 3397 \nz\n\" id=\"DejaVuSans-73\" transform=\"scale(0.015625)\"/>\n       </defs>\n       <use xlink:href=\"#DejaVuSans-4d\"/>\n       <use x=\"86.279297\" xlink:href=\"#DejaVuSans-79\"/>\n       <use x=\"145.458984\" xlink:href=\"#DejaVuSans-73\"/>\n       <use x=\"197.558594\" xlink:href=\"#DejaVuSans-74\"/>\n       <use x=\"236.767578\" xlink:href=\"#DejaVuSans-65\"/>\n       <use x=\"298.291016\" xlink:href=\"#DejaVuSans-72\"/>\n       <use x=\"339.404297\" xlink:href=\"#DejaVuSans-79\"/>\n      </g>\n     </g>\n    </g>\n    <g id=\"xtick_10\">\n     <g id=\"line2d_10\">\n      <g>\n       <use style=\"stroke:#000000;stroke-width:0.8;\" x=\"336.201786\" xlink:href=\"#me034cf4dfc\" y=\"348.958125\"/>\n      </g>\n     </g>\n     <g id=\"text_10\">\n      <!-- Fantasy -->\n      <g transform=\"translate(338.961161 394.439375)rotate(-90)scale(0.1 -0.1)\">\n       <defs>\n        <path d=\"M 628 4666 \nL 3309 4666 \nL 3309 4134 \nL 1259 4134 \nL 1259 2759 \nL 3109 2759 \nL 3109 2228 \nL 1259 2228 \nL 1259 0 \nL 628 0 \nL 628 4666 \nz\n\" id=\"DejaVuSans-46\" transform=\"scale(0.015625)\"/>\n       </defs>\n       <use xlink:href=\"#DejaVuSans-46\"/>\n       <use x=\"48.394531\" xlink:href=\"#DejaVuSans-61\"/>\n       <use x=\"109.673828\" xlink:href=\"#DejaVuSans-6e\"/>\n       <use x=\"173.052734\" xlink:href=\"#DejaVuSans-74\"/>\n       <use x=\"212.261719\" xlink:href=\"#DejaVuSans-61\"/>\n       <use x=\"273.541016\" xlink:href=\"#DejaVuSans-73\"/>\n       <use x=\"325.640625\" xlink:href=\"#DejaVuSans-79\"/>\n      </g>\n     </g>\n    </g>\n    <g id=\"xtick_11\">\n     <g id=\"line2d_11\">\n      <g>\n       <use style=\"stroke:#000000;stroke-width:0.8;\" x=\"368.0875\" xlink:href=\"#me034cf4dfc\" y=\"348.958125\"/>\n      </g>\n     </g>\n     <g id=\"text_11\">\n      <!-- Romance -->\n      <g transform=\"translate(370.846875 402.433125)rotate(-90)scale(0.1 -0.1)\">\n       <defs>\n        <path d=\"M 2841 2188 \nQ 3044 2119 3236 1894 \nQ 3428 1669 3622 1275 \nL 4263 0 \nL 3584 0 \nL 2988 1197 \nQ 2756 1666 2539 1819 \nQ 2322 1972 1947 1972 \nL 1259 1972 \nL 1259 0 \nL 628 0 \nL 628 4666 \nL 2053 4666 \nQ 2853 4666 3247 4331 \nQ 3641 3997 3641 3322 \nQ 3641 2881 3436 2590 \nQ 3231 2300 2841 2188 \nz\nM 1259 4147 \nL 1259 2491 \nL 2053 2491 \nQ 2509 2491 2742 2702 \nQ 2975 2913 2975 3322 \nQ 2975 3731 2742 3939 \nQ 2509 4147 2053 4147 \nL 1259 4147 \nz\n\" id=\"DejaVuSans-52\" transform=\"scale(0.015625)\"/>\n       </defs>\n       <use xlink:href=\"#DejaVuSans-52\"/>\n       <use x=\"64.982422\" xlink:href=\"#DejaVuSans-6f\"/>\n       <use x=\"126.164062\" xlink:href=\"#DejaVuSans-6d\"/>\n       <use x=\"223.576172\" xlink:href=\"#DejaVuSans-61\"/>\n       <use x=\"284.855469\" xlink:href=\"#DejaVuSans-6e\"/>\n       <use x=\"348.234375\" xlink:href=\"#DejaVuSans-63\"/>\n       <use x=\"403.214844\" xlink:href=\"#DejaVuSans-65\"/>\n      </g>\n     </g>\n    </g>\n    <g id=\"xtick_12\">\n     <g id=\"line2d_12\">\n      <g>\n       <use style=\"stroke:#000000;stroke-width:0.8;\" x=\"399.973214\" xlink:href=\"#me034cf4dfc\" y=\"348.958125\"/>\n      </g>\n     </g>\n     <g id=\"text_12\">\n      <!-- Family -->\n      <g transform=\"translate(402.732589 388.140937)rotate(-90)scale(0.1 -0.1)\">\n       <defs>\n        <path d=\"M 603 4863 \nL 1178 4863 \nL 1178 0 \nL 603 0 \nL 603 4863 \nz\n\" id=\"DejaVuSans-6c\" transform=\"scale(0.015625)\"/>\n       </defs>\n       <use xlink:href=\"#DejaVuSans-46\"/>\n       <use x=\"48.394531\" xlink:href=\"#DejaVuSans-61\"/>\n       <use x=\"109.673828\" xlink:href=\"#DejaVuSans-6d\"/>\n       <use x=\"207.085938\" xlink:href=\"#DejaVuSans-69\"/>\n       <use x=\"234.869141\" xlink:href=\"#DejaVuSans-6c\"/>\n       <use x=\"262.652344\" xlink:href=\"#DejaVuSans-79\"/>\n      </g>\n     </g>\n    </g>\n    <g id=\"xtick_13\">\n     <g id=\"line2d_13\">\n      <g>\n       <use style=\"stroke:#000000;stroke-width:0.8;\" x=\"431.858929\" xlink:href=\"#me034cf4dfc\" y=\"348.958125\"/>\n      </g>\n     </g>\n     <g id=\"text_13\">\n      <!-- Music -->\n      <g transform=\"translate(434.618304 384.409687)rotate(-90)scale(0.1 -0.1)\">\n       <use xlink:href=\"#DejaVuSans-4d\"/>\n       <use x=\"86.279297\" xlink:href=\"#DejaVuSans-75\"/>\n       <use x=\"149.658203\" xlink:href=\"#DejaVuSans-73\"/>\n       <use x=\"201.757812\" xlink:href=\"#DejaVuSans-69\"/>\n       <use x=\"229.541016\" xlink:href=\"#DejaVuSans-63\"/>\n      </g>\n     </g>\n    </g>\n    <g id=\"xtick_14\">\n     <g id=\"line2d_14\">\n      <g>\n       <use style=\"stroke:#000000;stroke-width:0.8;\" x=\"463.744643\" xlink:href=\"#me034cf4dfc\" y=\"348.958125\"/>\n      </g>\n     </g>\n     <g id=\"text_14\">\n      <!-- Sci-Fi -->\n      <g transform=\"translate(466.504018 381.995625)rotate(-90)scale(0.1 -0.1)\">\n       <defs>\n        <path d=\"M 3425 4513 \nL 3425 3897 \nQ 3066 4069 2747 4153 \nQ 2428 4238 2131 4238 \nQ 1616 4238 1336 4038 \nQ 1056 3838 1056 3469 \nQ 1056 3159 1242 3001 \nQ 1428 2844 1947 2747 \nL 2328 2669 \nQ 3034 2534 3370 2195 \nQ 3706 1856 3706 1288 \nQ 3706 609 3251 259 \nQ 2797 -91 1919 -91 \nQ 1588 -91 1214 -16 \nQ 841 59 441 206 \nL 441 856 \nQ 825 641 1194 531 \nQ 1563 422 1919 422 \nQ 2459 422 2753 634 \nQ 3047 847 3047 1241 \nQ 3047 1584 2836 1778 \nQ 2625 1972 2144 2069 \nL 1759 2144 \nQ 1053 2284 737 2584 \nQ 422 2884 422 3419 \nQ 422 4038 858 4394 \nQ 1294 4750 2059 4750 \nQ 2388 4750 2728 4690 \nQ 3069 4631 3425 4513 \nz\n\" id=\"DejaVuSans-53\" transform=\"scale(0.015625)\"/>\n        <path d=\"M 313 2009 \nL 1997 2009 \nL 1997 1497 \nL 313 1497 \nL 313 2009 \nz\n\" id=\"DejaVuSans-2d\" transform=\"scale(0.015625)\"/>\n       </defs>\n       <use xlink:href=\"#DejaVuSans-53\"/>\n       <use x=\"63.476562\" xlink:href=\"#DejaVuSans-63\"/>\n       <use x=\"118.457031\" xlink:href=\"#DejaVuSans-69\"/>\n       <use x=\"146.240234\" xlink:href=\"#DejaVuSans-2d\"/>\n       <use x=\"182.324219\" xlink:href=\"#DejaVuSans-46\"/>\n       <use x=\"232.59375\" xlink:href=\"#DejaVuSans-69\"/>\n      </g>\n     </g>\n    </g>\n   </g>\n   <g id=\"matplotlib.axis_2\">\n    <g id=\"ytick_1\">\n     <g id=\"line2d_15\">\n      <defs>\n       <path d=\"M 0 0 \nL -3.5 0 \n\" id=\"m59add5118a\" style=\"stroke:#000000;stroke-width:0.8;\"/>\n      </defs>\n      <g>\n       <use style=\"stroke:#000000;stroke-width:0.8;\" x=\"33.2875\" xlink:href=\"#m59add5118a\" y=\"348.958125\"/>\n      </g>\n     </g>\n     <g id=\"text_15\">\n      <!-- 0 -->\n      <g transform=\"translate(19.925 352.757344)scale(0.1 -0.1)\">\n       <defs>\n        <path d=\"M 2034 4250 \nQ 1547 4250 1301 3770 \nQ 1056 3291 1056 2328 \nQ 1056 1369 1301 889 \nQ 1547 409 2034 409 \nQ 2525 409 2770 889 \nQ 3016 1369 3016 2328 \nQ 3016 3291 2770 3770 \nQ 2525 4250 2034 4250 \nz\nM 2034 4750 \nQ 2819 4750 3233 4129 \nQ 3647 3509 3647 2328 \nQ 3647 1150 3233 529 \nQ 2819 -91 2034 -91 \nQ 1250 -91 836 529 \nQ 422 1150 422 2328 \nQ 422 3509 836 4129 \nQ 1250 4750 2034 4750 \nz\n\" id=\"DejaVuSans-30\" transform=\"scale(0.015625)\"/>\n       </defs>\n       <use xlink:href=\"#DejaVuSans-30\"/>\n      </g>\n     </g>\n    </g>\n    <g id=\"ytick_2\">\n     <g id=\"line2d_16\">\n      <g>\n       <use style=\"stroke:#000000;stroke-width:0.8;\" x=\"33.2875\" xlink:href=\"#m59add5118a\" y=\"309.934435\"/>\n      </g>\n     </g>\n     <g id=\"text_16\">\n      <!-- 100 -->\n      <g transform=\"translate(7.2 313.733654)scale(0.1 -0.1)\">\n       <defs>\n        <path d=\"M 794 531 \nL 1825 531 \nL 1825 4091 \nL 703 3866 \nL 703 4441 \nL 1819 4666 \nL 2450 4666 \nL 2450 531 \nL 3481 531 \nL 3481 0 \nL 794 0 \nL 794 531 \nz\n\" id=\"DejaVuSans-31\" transform=\"scale(0.015625)\"/>\n       </defs>\n       <use xlink:href=\"#DejaVuSans-31\"/>\n       <use x=\"63.623047\" xlink:href=\"#DejaVuSans-30\"/>\n       <use x=\"127.246094\" xlink:href=\"#DejaVuSans-30\"/>\n      </g>\n     </g>\n    </g>\n    <g id=\"ytick_3\">\n     <g id=\"line2d_17\">\n      <g>\n       <use style=\"stroke:#000000;stroke-width:0.8;\" x=\"33.2875\" xlink:href=\"#m59add5118a\" y=\"270.910745\"/>\n      </g>\n     </g>\n     <g id=\"text_17\">\n      <!-- 200 -->\n      <g transform=\"translate(7.2 274.709964)scale(0.1 -0.1)\">\n       <defs>\n        <path d=\"M 1228 531 \nL 3431 531 \nL 3431 0 \nL 469 0 \nL 469 531 \nQ 828 903 1448 1529 \nQ 2069 2156 2228 2338 \nQ 2531 2678 2651 2914 \nQ 2772 3150 2772 3378 \nQ 2772 3750 2511 3984 \nQ 2250 4219 1831 4219 \nQ 1534 4219 1204 4116 \nQ 875 4013 500 3803 \nL 500 4441 \nQ 881 4594 1212 4672 \nQ 1544 4750 1819 4750 \nQ 2544 4750 2975 4387 \nQ 3406 4025 3406 3419 \nQ 3406 3131 3298 2873 \nQ 3191 2616 2906 2266 \nQ 2828 2175 2409 1742 \nQ 1991 1309 1228 531 \nz\n\" id=\"DejaVuSans-32\" transform=\"scale(0.015625)\"/>\n       </defs>\n       <use xlink:href=\"#DejaVuSans-32\"/>\n       <use x=\"63.623047\" xlink:href=\"#DejaVuSans-30\"/>\n       <use x=\"127.246094\" xlink:href=\"#DejaVuSans-30\"/>\n      </g>\n     </g>\n    </g>\n    <g id=\"ytick_4\">\n     <g id=\"line2d_18\">\n      <g>\n       <use style=\"stroke:#000000;stroke-width:0.8;\" x=\"33.2875\" xlink:href=\"#m59add5118a\" y=\"231.887055\"/>\n      </g>\n     </g>\n     <g id=\"text_18\">\n      <!-- 300 -->\n      <g transform=\"translate(7.2 235.686274)scale(0.1 -0.1)\">\n       <defs>\n        <path d=\"M 2597 2516 \nQ 3050 2419 3304 2112 \nQ 3559 1806 3559 1356 \nQ 3559 666 3084 287 \nQ 2609 -91 1734 -91 \nQ 1441 -91 1130 -33 \nQ 819 25 488 141 \nL 488 750 \nQ 750 597 1062 519 \nQ 1375 441 1716 441 \nQ 2309 441 2620 675 \nQ 2931 909 2931 1356 \nQ 2931 1769 2642 2001 \nQ 2353 2234 1838 2234 \nL 1294 2234 \nL 1294 2753 \nL 1863 2753 \nQ 2328 2753 2575 2939 \nQ 2822 3125 2822 3475 \nQ 2822 3834 2567 4026 \nQ 2313 4219 1838 4219 \nQ 1578 4219 1281 4162 \nQ 984 4106 628 3988 \nL 628 4550 \nQ 988 4650 1302 4700 \nQ 1616 4750 1894 4750 \nQ 2613 4750 3031 4423 \nQ 3450 4097 3450 3541 \nQ 3450 3153 3228 2886 \nQ 3006 2619 2597 2516 \nz\n\" id=\"DejaVuSans-33\" transform=\"scale(0.015625)\"/>\n       </defs>\n       <use xlink:href=\"#DejaVuSans-33\"/>\n       <use x=\"63.623047\" xlink:href=\"#DejaVuSans-30\"/>\n       <use x=\"127.246094\" xlink:href=\"#DejaVuSans-30\"/>\n      </g>\n     </g>\n    </g>\n    <g id=\"ytick_5\">\n     <g id=\"line2d_19\">\n      <g>\n       <use style=\"stroke:#000000;stroke-width:0.8;\" x=\"33.2875\" xlink:href=\"#m59add5118a\" y=\"192.863365\"/>\n      </g>\n     </g>\n     <g id=\"text_19\">\n      <!-- 400 -->\n      <g transform=\"translate(7.2 196.662584)scale(0.1 -0.1)\">\n       <defs>\n        <path d=\"M 2419 4116 \nL 825 1625 \nL 2419 1625 \nL 2419 4116 \nz\nM 2253 4666 \nL 3047 4666 \nL 3047 1625 \nL 3713 1625 \nL 3713 1100 \nL 3047 1100 \nL 3047 0 \nL 2419 0 \nL 2419 1100 \nL 313 1100 \nL 313 1709 \nL 2253 4666 \nz\n\" id=\"DejaVuSans-34\" transform=\"scale(0.015625)\"/>\n       </defs>\n       <use xlink:href=\"#DejaVuSans-34\"/>\n       <use x=\"63.623047\" xlink:href=\"#DejaVuSans-30\"/>\n       <use x=\"127.246094\" xlink:href=\"#DejaVuSans-30\"/>\n      </g>\n     </g>\n    </g>\n    <g id=\"ytick_6\">\n     <g id=\"line2d_20\">\n      <g>\n       <use style=\"stroke:#000000;stroke-width:0.8;\" x=\"33.2875\" xlink:href=\"#m59add5118a\" y=\"153.839676\"/>\n      </g>\n     </g>\n     <g id=\"text_20\">\n      <!-- 500 -->\n      <g transform=\"translate(7.2 157.638894)scale(0.1 -0.1)\">\n       <defs>\n        <path d=\"M 691 4666 \nL 3169 4666 \nL 3169 4134 \nL 1269 4134 \nL 1269 2991 \nQ 1406 3038 1543 3061 \nQ 1681 3084 1819 3084 \nQ 2600 3084 3056 2656 \nQ 3513 2228 3513 1497 \nQ 3513 744 3044 326 \nQ 2575 -91 1722 -91 \nQ 1428 -91 1123 -41 \nQ 819 9 494 109 \nL 494 744 \nQ 775 591 1075 516 \nQ 1375 441 1709 441 \nQ 2250 441 2565 725 \nQ 2881 1009 2881 1497 \nQ 2881 1984 2565 2268 \nQ 2250 2553 1709 2553 \nQ 1456 2553 1204 2497 \nQ 953 2441 691 2322 \nL 691 4666 \nz\n\" id=\"DejaVuSans-35\" transform=\"scale(0.015625)\"/>\n       </defs>\n       <use xlink:href=\"#DejaVuSans-35\"/>\n       <use x=\"63.623047\" xlink:href=\"#DejaVuSans-30\"/>\n       <use x=\"127.246094\" xlink:href=\"#DejaVuSans-30\"/>\n      </g>\n     </g>\n    </g>\n    <g id=\"ytick_7\">\n     <g id=\"line2d_21\">\n      <g>\n       <use style=\"stroke:#000000;stroke-width:0.8;\" x=\"33.2875\" xlink:href=\"#m59add5118a\" y=\"114.815986\"/>\n      </g>\n     </g>\n     <g id=\"text_21\">\n      <!-- 600 -->\n      <g transform=\"translate(7.2 118.615204)scale(0.1 -0.1)\">\n       <defs>\n        <path d=\"M 2113 2584 \nQ 1688 2584 1439 2293 \nQ 1191 2003 1191 1497 \nQ 1191 994 1439 701 \nQ 1688 409 2113 409 \nQ 2538 409 2786 701 \nQ 3034 994 3034 1497 \nQ 3034 2003 2786 2293 \nQ 2538 2584 2113 2584 \nz\nM 3366 4563 \nL 3366 3988 \nQ 3128 4100 2886 4159 \nQ 2644 4219 2406 4219 \nQ 1781 4219 1451 3797 \nQ 1122 3375 1075 2522 \nQ 1259 2794 1537 2939 \nQ 1816 3084 2150 3084 \nQ 2853 3084 3261 2657 \nQ 3669 2231 3669 1497 \nQ 3669 778 3244 343 \nQ 2819 -91 2113 -91 \nQ 1303 -91 875 529 \nQ 447 1150 447 2328 \nQ 447 3434 972 4092 \nQ 1497 4750 2381 4750 \nQ 2619 4750 2861 4703 \nQ 3103 4656 3366 4563 \nz\n\" id=\"DejaVuSans-36\" transform=\"scale(0.015625)\"/>\n       </defs>\n       <use xlink:href=\"#DejaVuSans-36\"/>\n       <use x=\"63.623047\" xlink:href=\"#DejaVuSans-30\"/>\n       <use x=\"127.246094\" xlink:href=\"#DejaVuSans-30\"/>\n      </g>\n     </g>\n    </g>\n    <g id=\"ytick_8\">\n     <g id=\"line2d_22\">\n      <g>\n       <use style=\"stroke:#000000;stroke-width:0.8;\" x=\"33.2875\" xlink:href=\"#m59add5118a\" y=\"75.792296\"/>\n      </g>\n     </g>\n     <g id=\"text_22\">\n      <!-- 700 -->\n      <g transform=\"translate(7.2 79.591515)scale(0.1 -0.1)\">\n       <defs>\n        <path d=\"M 525 4666 \nL 3525 4666 \nL 3525 4397 \nL 1831 0 \nL 1172 0 \nL 2766 4134 \nL 525 4134 \nL 525 4666 \nz\n\" id=\"DejaVuSans-37\" transform=\"scale(0.015625)\"/>\n       </defs>\n       <use xlink:href=\"#DejaVuSans-37\"/>\n       <use x=\"63.623047\" xlink:href=\"#DejaVuSans-30\"/>\n       <use x=\"127.246094\" xlink:href=\"#DejaVuSans-30\"/>\n      </g>\n     </g>\n    </g>\n    <g id=\"ytick_9\">\n     <g id=\"line2d_23\">\n      <g>\n       <use style=\"stroke:#000000;stroke-width:0.8;\" x=\"33.2875\" xlink:href=\"#m59add5118a\" y=\"36.768606\"/>\n      </g>\n     </g>\n     <g id=\"text_23\">\n      <!-- 800 -->\n      <g transform=\"translate(7.2 40.567825)scale(0.1 -0.1)\">\n       <defs>\n        <path d=\"M 2034 2216 \nQ 1584 2216 1326 1975 \nQ 1069 1734 1069 1313 \nQ 1069 891 1326 650 \nQ 1584 409 2034 409 \nQ 2484 409 2743 651 \nQ 3003 894 3003 1313 \nQ 3003 1734 2745 1975 \nQ 2488 2216 2034 2216 \nz\nM 1403 2484 \nQ 997 2584 770 2862 \nQ 544 3141 544 3541 \nQ 544 4100 942 4425 \nQ 1341 4750 2034 4750 \nQ 2731 4750 3128 4425 \nQ 3525 4100 3525 3541 \nQ 3525 3141 3298 2862 \nQ 3072 2584 2669 2484 \nQ 3125 2378 3379 2068 \nQ 3634 1759 3634 1313 \nQ 3634 634 3220 271 \nQ 2806 -91 2034 -91 \nQ 1263 -91 848 271 \nQ 434 634 434 1313 \nQ 434 1759 690 2068 \nQ 947 2378 1403 2484 \nz\nM 1172 3481 \nQ 1172 3119 1398 2916 \nQ 1625 2713 2034 2713 \nQ 2441 2713 2670 2916 \nQ 2900 3119 2900 3481 \nQ 2900 3844 2670 4047 \nQ 2441 4250 2034 4250 \nQ 1625 4250 1398 4047 \nQ 1172 3844 1172 3481 \nz\n\" id=\"DejaVuSans-38\" transform=\"scale(0.015625)\"/>\n       </defs>\n       <use xlink:href=\"#DejaVuSans-38\"/>\n       <use x=\"63.623047\" xlink:href=\"#DejaVuSans-30\"/>\n       <use x=\"127.246094\" xlink:href=\"#DejaVuSans-30\"/>\n      </g>\n     </g>\n    </g>\n   </g>\n   <g id=\"patch_17\">\n    <path d=\"M 33.2875 348.958125 \nL 33.2875 22.798125 \n\" style=\"fill:none;stroke:#000000;stroke-linecap:square;stroke-linejoin:miter;stroke-width:0.8;\"/>\n   </g>\n   <g id=\"patch_18\">\n    <path d=\"M 479.6875 348.958125 \nL 479.6875 22.798125 \n\" style=\"fill:none;stroke:#000000;stroke-linecap:square;stroke-linejoin:miter;stroke-width:0.8;\"/>\n   </g>\n   <g id=\"patch_19\">\n    <path d=\"M 33.2875 348.958125 \nL 479.6875 348.958125 \n\" style=\"fill:none;stroke:#000000;stroke-linecap:square;stroke-linejoin:miter;stroke-width:0.8;\"/>\n   </g>\n   <g id=\"patch_20\">\n    <path d=\"M 33.2875 22.798125 \nL 479.6875 22.798125 \n\" style=\"fill:none;stroke:#000000;stroke-linecap:square;stroke-linejoin:miter;stroke-width:0.8;\"/>\n   </g>\n   <g id=\"text_24\">\n    <!-- le nombre de compte_rendu par thématique -->\n    <g transform=\"translate(123.194688 16.798125)scale(0.12 -0.12)\">\n     <defs>\n      <path id=\"DejaVuSans-20\" transform=\"scale(0.015625)\"/>\n      <path d=\"M 3116 1747 \nQ 3116 2381 2855 2742 \nQ 2594 3103 2138 3103 \nQ 1681 3103 1420 2742 \nQ 1159 2381 1159 1747 \nQ 1159 1113 1420 752 \nQ 1681 391 2138 391 \nQ 2594 391 2855 752 \nQ 3116 1113 3116 1747 \nz\nM 1159 2969 \nQ 1341 3281 1617 3432 \nQ 1894 3584 2278 3584 \nQ 2916 3584 3314 3078 \nQ 3713 2572 3713 1747 \nQ 3713 922 3314 415 \nQ 2916 -91 2278 -91 \nQ 1894 -91 1617 61 \nQ 1341 213 1159 525 \nL 1159 0 \nL 581 0 \nL 581 4863 \nL 1159 4863 \nL 1159 2969 \nz\n\" id=\"DejaVuSans-62\" transform=\"scale(0.015625)\"/>\n      <path d=\"M 3263 -1063 \nL 3263 -1509 \nL -63 -1509 \nL -63 -1063 \nL 3263 -1063 \nz\n\" id=\"DejaVuSans-5f\" transform=\"scale(0.015625)\"/>\n      <path d=\"M 3597 1894 \nL 3597 1613 \nL 953 1613 \nQ 991 1019 1311 708 \nQ 1631 397 2203 397 \nQ 2534 397 2845 478 \nQ 3156 559 3463 722 \nL 3463 178 \nQ 3153 47 2828 -22 \nQ 2503 -91 2169 -91 \nQ 1331 -91 842 396 \nQ 353 884 353 1716 \nQ 353 2575 817 3079 \nQ 1281 3584 2069 3584 \nQ 2775 3584 3186 3129 \nQ 3597 2675 3597 1894 \nz\nM 3022 2063 \nQ 3016 2534 2758 2815 \nQ 2500 3097 2075 3097 \nQ 1594 3097 1305 2825 \nQ 1016 2553 972 2059 \nL 3022 2063 \nz\nM 2466 5119 \nL 3088 5119 \nL 2070 3944 \nL 1591 3944 \nL 2466 5119 \nz\n\" id=\"DejaVuSans-e9\" transform=\"scale(0.015625)\"/>\n      <path d=\"M 947 1747 \nQ 947 1113 1208 752 \nQ 1469 391 1925 391 \nQ 2381 391 2643 752 \nQ 2906 1113 2906 1747 \nQ 2906 2381 2643 2742 \nQ 2381 3103 1925 3103 \nQ 1469 3103 1208 2742 \nQ 947 2381 947 1747 \nz\nM 2906 525 \nQ 2725 213 2448 61 \nQ 2172 -91 1784 -91 \nQ 1150 -91 751 415 \nQ 353 922 353 1747 \nQ 353 2572 751 3078 \nQ 1150 3584 1784 3584 \nQ 2172 3584 2448 3432 \nQ 2725 3281 2906 2969 \nL 2906 3500 \nL 3481 3500 \nL 3481 -1331 \nL 2906 -1331 \nL 2906 525 \nz\n\" id=\"DejaVuSans-71\" transform=\"scale(0.015625)\"/>\n     </defs>\n     <use xlink:href=\"#DejaVuSans-6c\"/>\n     <use x=\"27.783203\" xlink:href=\"#DejaVuSans-65\"/>\n     <use x=\"89.306641\" xlink:href=\"#DejaVuSans-20\"/>\n     <use x=\"121.09375\" xlink:href=\"#DejaVuSans-6e\"/>\n     <use x=\"184.472656\" xlink:href=\"#DejaVuSans-6f\"/>\n     <use x=\"245.654297\" xlink:href=\"#DejaVuSans-6d\"/>\n     <use x=\"343.066406\" xlink:href=\"#DejaVuSans-62\"/>\n     <use x=\"406.542969\" xlink:href=\"#DejaVuSans-72\"/>\n     <use x=\"445.40625\" xlink:href=\"#DejaVuSans-65\"/>\n     <use x=\"506.929688\" xlink:href=\"#DejaVuSans-20\"/>\n     <use x=\"538.716797\" xlink:href=\"#DejaVuSans-64\"/>\n     <use x=\"602.193359\" xlink:href=\"#DejaVuSans-65\"/>\n     <use x=\"663.716797\" xlink:href=\"#DejaVuSans-20\"/>\n     <use x=\"695.503906\" xlink:href=\"#DejaVuSans-63\"/>\n     <use x=\"750.484375\" xlink:href=\"#DejaVuSans-6f\"/>\n     <use x=\"811.666016\" xlink:href=\"#DejaVuSans-6d\"/>\n     <use x=\"909.078125\" xlink:href=\"#DejaVuSans-70\"/>\n     <use x=\"972.554688\" xlink:href=\"#DejaVuSans-74\"/>\n     <use x=\"1011.763672\" xlink:href=\"#DejaVuSans-65\"/>\n     <use x=\"1073.287109\" xlink:href=\"#DejaVuSans-5f\"/>\n     <use x=\"1123.287109\" xlink:href=\"#DejaVuSans-72\"/>\n     <use x=\"1162.150391\" xlink:href=\"#DejaVuSans-65\"/>\n     <use x=\"1223.673828\" xlink:href=\"#DejaVuSans-6e\"/>\n     <use x=\"1287.052734\" xlink:href=\"#DejaVuSans-64\"/>\n     <use x=\"1350.529297\" xlink:href=\"#DejaVuSans-75\"/>\n     <use x=\"1413.908203\" xlink:href=\"#DejaVuSans-20\"/>\n     <use x=\"1445.695312\" xlink:href=\"#DejaVuSans-70\"/>\n     <use x=\"1509.171875\" xlink:href=\"#DejaVuSans-61\"/>\n     <use x=\"1570.451172\" xlink:href=\"#DejaVuSans-72\"/>\n     <use x=\"1611.564453\" xlink:href=\"#DejaVuSans-20\"/>\n     <use x=\"1643.351562\" xlink:href=\"#DejaVuSans-74\"/>\n     <use x=\"1682.560547\" xlink:href=\"#DejaVuSans-68\"/>\n     <use x=\"1745.939453\" xlink:href=\"#DejaVuSans-e9\"/>\n     <use x=\"1807.462891\" xlink:href=\"#DejaVuSans-6d\"/>\n     <use x=\"1904.875\" xlink:href=\"#DejaVuSans-61\"/>\n     <use x=\"1966.154297\" xlink:href=\"#DejaVuSans-74\"/>\n     <use x=\"2005.363281\" xlink:href=\"#DejaVuSans-69\"/>\n     <use x=\"2033.146484\" xlink:href=\"#DejaVuSans-71\"/>\n     <use x=\"2096.623047\" xlink:href=\"#DejaVuSans-75\"/>\n     <use x=\"2160.001953\" xlink:href=\"#DejaVuSans-65\"/>\n    </g>\n   </g>\n  </g>\n </g>\n <defs>\n  <clipPath id=\"p98be5b513e\">\n   <rect height=\"326.16\" width=\"446.4\" x=\"33.2875\" y=\"22.798125\"/>\n  </clipPath>\n </defs>\n</svg>\n",
      "image/png": "[encoded data removed]"
     },
     "metadata": {
      "needs_background": "light"
     }
    }
   ],
   "source": [
    "import matplotlib.pyplot as plt\n",
    "\n",
    "fig = plt.figure(figsize=(8,6))\n",
    "plt.title(\"le nombre de compte_rendu par thématique\")\n",
    "df['genre'].value_counts().plot.bar(ylim=0)\n",
    "plt.show()"
   ]
  },
  {
   "cell_type": "code",
   "execution_count": null,
   "metadata": {},
   "outputs": [],
   "source": []
  },
  {
   "cell_type": "code",
   "execution_count": null,
   "metadata": {},
   "outputs": [],
   "source": []
  }
 ]
}