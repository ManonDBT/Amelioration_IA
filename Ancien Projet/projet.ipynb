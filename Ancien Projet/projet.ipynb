{
 "nbformat": 4,
 "nbformat_minor": 2,
 "metadata": {
  "language_info": {
   "name": "python",
   "codemirror_mode": {
    "name": "ipython",
    "version": 3
   },
   "version": "3.7.4-final"
  },
  "orig_nbformat": 2,
  "file_extension": ".py",
  "mimetype": "text/x-python",
  "name": "python",
  "npconvert_exporter": "python",
  "pygments_lexer": "ipython3",
  "version": 3,
  "kernelspec": {
   "name": "python37464bitbaseconda3d071c9156404c4bb4e10a48f7417011",
   "display_name": "Python 3.7.4 64-bit ('base': conda)"
  }
 },
 "cells": [
  {
   "cell_type": "markdown",
   "metadata": {},
   "source": [
    "# Projet Final sur IMdb"
   ]
  },
  {
   "cell_type": "markdown",
   "metadata": {},
   "source": [
    "Récupération des données sur les films sorties depuis 2017. \n",
    "Les données sont :\n",
    "    - Le nom du film\n",
    "    - L'année de sortie\n",
    "    - le genre\n",
    "    - Le ratio \n",
    "    - le nombre de votes \n",
    "    - le métascore "
   ]
  },
  {
   "cell_type": "markdown",
   "metadata": {},
   "source": [
    "Le but étant de prédire quels films ont le plus du succès par rapport au genre. "
   ]
  },
  {
   "cell_type": "markdown",
   "metadata": {},
   "source": [
    "### importation des modules"
   ]
  },
  {
   "cell_type": "code",
   "execution_count": 3,
   "metadata": {},
   "outputs": [],
   "source": [
    "import urllib\n",
    "import bs4\n",
    "import requests\n",
    "import pandas as pd\n",
    "from bs4 import BeautifulSoup\n",
    "import pandas as pd\n",
    "import requests\n",
    "from requests import get\n",
    "from bs4 import BeautifulSoup\n",
    "from time import sleep\n",
    "from random import randint\n",
    "from warnings import warn\n",
    "from IPython.core.display import clear_output\n",
    "from time import time"
   ]
  },
  {
   "cell_type": "code",
   "execution_count": 4,
   "metadata": {},
   "outputs": [],
   "source": [
    "import json\n",
    "import pandas as pd\n",
    "import requests"
   ]
  },
  {
   "cell_type": "code",
   "execution_count": 5,
   "metadata": {},
   "outputs": [],
   "source": [
    "import pymysql"
   ]
  },
  {
   "cell_type": "markdown",
   "metadata": {},
   "source": [
    "## 1ère étape: Récupération des données "
   ]
  },
  {
   "cell_type": "code",
   "execution_count": 6,
   "metadata": {},
   "outputs": [],
   "source": [
    "#Page \n",
    "\n",
    "url_movie = 'http://www.imdb.com/search/title?title_type=feature&release_date='\n",
    "\n",
    "hdrs = {'User-Agent': 'Brave / 5.0 (X11 Linux x86_64) AppleWebKit / 537.36 (KHTML, like Gecko) Chrome / 52.0.2743.116 Safari / 537.36'}    \n",
    "\n",
    "request = requests.get(url_movie, headers = hdrs)\n",
    "request_text = request.text\n",
    "page = bs4.BeautifulSoup(request_text)"
   ]
  },
  {
   "cell_type": "markdown",
   "metadata": {},
   "source": [
    "### récupération un à un des éléments"
   ]
  },
  {
   "cell_type": "code",
   "execution_count": 7,
   "metadata": {},
   "outputs": [
    {
     "data": {
      "text/plain": "'Feature Film\\n(Sorted by Popularity Ascending) '"
     },
     "execution_count": 7,
     "metadata": {},
     "output_type": "execute_result"
    }
   ],
   "source": [
    "# récupartion du titre de la recherche\n",
    "page.find('h1', {'class' : \"header\"}).text"
   ]
  },
  {
   "cell_type": "code",
   "execution_count": 6,
   "metadata": {},
   "outputs": [
    {
     "data": {
      "text/plain": "g but selfish young woman meddles in the love lives of her friends.\\n\\n    Director:\\nAutumn de Wilde\\n| \\n    Stars:\\nAnya Taylor-Joy, \\nJohnny Flynn, \\nBill Nighy, \\nMia Goth\\n\\n\\nVotes:\\n5,097\\n\\n\\n\\n\\n\\n\\n\\n\\n \\n \\n\\n\\n16.\\nBaaghi 3\\n(2020)\\n\\n\\n143 min\\n|\\n\\nAction, Thriller            \\n\\n\\n\\n\\n1.9\\n\\n\\n\\n\\nRate this\\n\\n\\n\\n\\n\\n\\n\\xa0\\n\\xa0\\n\\n1\\n2\\n3\\n4\\n5\\n6\\n7\\n8\\n9\\n10\\n\\n1.9/10\\nX\\n\\xa0\\n\\n\\n\\n\\n    A man embarks on a bloody rampage to save his kidnapped brother.\\n\\n    Director:\\nAhmed Khan\\n| \\n    Stars:\\nTiger Shroff, \\nRiteish Deshmukh, \\nShraddha Kapoor, \\nAnkita Lokhande\\n\\n\\nVotes:\\n3,087\\n\\n\\n\\n\\n\\n\\n\\n\\n \\n \\n\\n\\n17.\\nJungle Cruise\\n(2020)\\n\\n\\n\\nAction, Adventure, Comedy            \\n|\\nPost-production\\n\\n\\n    Based on Disneyland\\'s theme park ride where a small riverboat takes a group of travelers through a jungle filled with dangerous animals and reptiles but with a supernatural element.\\n\\n    Director:\\nJaume Collet-Serra\\n| \\n    Stars:\\nEmily Blunt, \\nDwayne Johnson, \\nJesse Plemons, \\nPaul Giamatti\\n\\n\\n\\n\\n\\n\\n\\n\\n \\n \\n\\n\\n18.\\nUncut Gems\\n(2019)\\n\\n\\nR\\n|\\n135 min\\n|\\n\\nCrime, Drama, Thriller            \\n\\n\\n\\n\\n7.6\\n\\n\\n\\n\\nRate this\\n\\n\\n\\n\\n\\n\\n\\xa0\\n\\xa0\\n\\n1\\n2\\n3\\n4\\n5\\n6\\n7\\n8\\n9\\n10\\n\\n7.6/10\\nX\\n\\xa0\\n\\n\\n\\n90        \\n        Metascore\\n            \\n\\n\\n    With his debts mounting and angry collectors closing in, a fast-talking New York City jeweler risks everything in hope of staying afloat and alive.\\n\\n    Directors:\\nBenny Safdie, \\nJosh Safdie\\n| \\n    Stars:\\nAdam Sandler, \\nJulia Fox, \\nIdina Menzel, \\nMesfin Lamengo\\n\\n\\nVotes:\\n123,142\\n\\n\\n\\n\\n\\n\\n\\n\\n \\n \\n\\n\\n19.\\nJojo Rabbit\\n(2019)\\n\\n\\nTous publics\\n|\\n108 min\\n|\\n\\nComedy, Drama, War            \\n\\n\\n\\n\\n8.0\\n\\n\\n\\n\\nRate this\\n\\n\\n\\n\\n\\n\\n\\xa0\\n\\xa0\\n\\n1\\n2\\n3\\n4\\n5\\n6\\n7\\n8\\n9\\n10\\n\\n8/10\\nX\\n\\xa0\\n\\n\\n\\n58        \\n        Metascore\\n            \\n\\n\\n    A young boy in Hitler\\'s army finds out his mother is hiding a Jewish girl in their home.\\n\\n    Director:\\nTaika Waititi\\n| \\n    Stars:\\nRoman Griffin Davis, \\nThomasin McKenzie, \\nScarlett Johansson, \\nTaika Waititi\\n\\n\\nVotes:\\n162,563\\n| Gross:\\n$0.35M\\n\\n\\n\\n\\n\\n\\n\\n\\n \\n \\n\\n\\n20.\\nThe Way Back\\n(2020)\\n\\n\\nR\\n|\\n108 min\\n|\\n\\nDrama, Sport            \\n\\n\\n\\n\\n7.2\\n\\n\\n\\n\\nRate this\\n\\n\\n\\n\\n\\n\\n\\xa0\\n\\xa0\\n\\n1\\n2\\n3\\n4\\n5\\n6\\n7\\n8\\n9\\n10\\n\\n7.2/10\\nX\\n\\xa0\\n\\n\\n\\n68        \\n        Metascore\\n            \\n\\n\\n    Jack Cunningham was an HS basketball phenom who walked away from the game, forfeiting his future. Years later, when he reluctantly accepts a coaching job at his alma mater, he may get one last shot at redemption.\\n\\n    Director:\\nGavin O\\'Connor\\n| \\n    Stars:\\nBen Affleck, \\nAl Madrigal, \\nJanina Gavankar, \\nMichaela Watkins\\n\\n\\nVotes:\\n2,584\\n\\n\\n\\n\\n\\n\\n\\n\\n \\n \\n\\n\\n21.\\nJumanji: Next Level\\n(2019)\\n\\n\\nTous publics\\n|\\n123 min\\n|\\n\\nAction, Adventure, Comedy            \\n\\n\\n\\n\\n6.8\\n\\n\\n\\n\\nRate this\\n\\n\\n\\n\\n\\n\\n\\xa0\\n\\xa0\\n\\n1\\n2\\n3\\n4\\n5\\n6\\n7\\n8\\n9\\n10\\n\\n6.8/10\\nX\\n\\xa0\\n\\n\\n\\n58        \\n        Metascore\\n            \\n\\n\\n    In Jumanji: The Next Level, the gang is back but the game has changed. As they return to rescue one of their own, the players will have to brave parts unknown from arid deserts to snowy mountains, to escape the world\\'s most dangerous game.\\n\\n    Director:\\nJake Kasdan\\n| \\n    Stars:\\nDwayne Johnson, \\nJack Black, \\nKevin Hart, \\nKaren Gillan\\n\\n\\nVotes:\\n105,380\\n| Gross:\\n$316.48M\\n\\n\\n\\n\\n\\n\\n\\n\\n \\n \\n\\n\\n22.\\nSans un bruit 2\\n(2020)\\n\\n\\nPG-13\\n|\\n97 min\\n|\\n\\nHorror, Thriller            \\n\\n\\n\\n\\n8.6\\n\\n\\n\\n\\nRate this\\n\\n\\n\\n\\n\\n\\n\\xa0\\n\\xa0\\n\\n1\\n2\\n3\\n4\\n5\\n6\\n7\\n8\\n9\\n10\\n\\n8.6/10\\nX\\n\\xa0\\n\\n\\n\\n\\n    Following the events at home, the Abbott family now face the terrors of the outside world. Forced to venture into the unknown, they realize the creatures that hunt by sound are not the only threats lurking beyond the sand path.\\n\\n    Director:\\nJohn Krasinski\\n| \\n    Stars:\\nEmily Blunt, \\nMillicent Simmonds, \\nCillian Murphy, \\nNoah Jupe\\n\\n\\nVotes:\\n54\\n\\n\\n\\n\\n\\n\\n\\n\\n \\n \\n\\n\\n23.\\nScandale\\n(2019)\\n\\n\\nTous publics\\n|\\n109 min\\n|\\n\\nBiography, Drama            \\n\\n\\n\\n\\n6.8\\n\\n\\n\\n\\nRate this\\n\\n\\n\\n\\n\\n\\n\\xa0\\n\\xa0\\n\\n1\\n2\\n3\\n4\\n5\\n6\\n7\\n8\\n9\\n10\\n\\n6.8/10\\nX\\n\\xa0\\n\\n\\n\\n64        \\n        Metascore\\n            \\n\\n\\n    A group of women take on Fox News head Roger Ailes and the toxic atmosphere he presided over at the network.\\n\\n    Director:\\nJay Roach\\n| \\n    Stars:\\nCharlize Theron, \\nNicole Kidman, \\nMargot Robbie, \\nJohn Lithgow\\n\\n\\nVotes:\\n42,326\\n\\n\\n\\n\\n\\n\\n\\n\\n \\n \\n\\n\\n24.\\nOnce Upon a Time... in Hollywood\\n(2019)\\n\\n\\n12\\n|\\n161 min\\n|\\n\\nComedy, Drama            \\n\\n\\n\\n\\n7.7\\n\\n\\n\\n\\nRate this\\n\\n\\n\\n\\n\\n\\n\\xa0\\n\\xa0\\n\\n1\\n2\\n3\\n4\\n5\\n6\\n7\\n8\\n9\\n10\\n\\n7.7/10\\nX\\n\\xa0\\n\\n\\n\\n83        \\n        Metascore\\n            \\n\\n\\n    A faded television actor and his stunt double strive to achieve fame and success in the film industry during the final years of Hollywood\\'s Golden Age in 1969 Los Angeles.\\n\\n    Director:\\nQuentin Tarantino\\n| \\n    Stars:\\nLeonardo DiCaprio, \\nBrad Pitt, \\nMargot Robbie, \\nEmile Hirsch\\n\\n\\nVotes:\\n408,298\\n| Gross:\\n$142.50M\\n\\n\\n\\n\\n\\n\\n\\n\\n \\n \\n\\n\\n25.\\nLes filles du Docteur March\\n(2019)\\n\\n\\nTous publics\\n|\\n135 min\\n|\\n\\nDrama, Romance            \\n\\n\\n\\n\\n8.0\\n\\n\\n\\n\\nRate this\\n\\n\\n\\n\\n\\n\\n\\xa0\\n\\xa0\\n\\n1\\n2\\n3\\n4\\n5\\n6\\n7\\n8\\n9\\n10\\n\\n8/10\\nX\\n\\xa0\\n\\n\\n\\n91        \\n        Metascore\\n            \\n\\n\\n    Jo March reflects back and forth on her life, telling the beloved story of the March sisters - four young women each determined to live life on their own terms.\\n\\n    Director:\\nGreta Gerwig\\n| \\n    Stars:\\nSaoirse Ronan, \\nEmma Watson, \\nFlorence Pugh, \\nEliza Scanlen\\n\\n\\nVotes:\\n74,672\\n| Gross:\\n$108.05M\\n\\n\\n\\n\\n\\n\\n\\n\\n \\n \\n\\n\\n26.\\nThe Gentlemen\\n(2019)\\n\\n\\nTous publics avec avertissement\\n|\\n113 min\\n|\\n\\nAction, Comedy, Crime            \\n\\n\\n\\n\\n8.1\\n\\n\\n\\n\\nRate this\\n\\n\\n\\n\\n\\n\\n\\xa0\\n\\xa0\\n\\n1\\n2\\n3\\n4\\n5\\n6\\n7\\n8\\n9\\n10\\n\\n8.1/10\\nX\\n\\xa0\\n\\n\\n\\n51        \\n        Metascore\\n            \\n\\n\\n    An American expat tries to sell off his highly profitable marijuana empire in London, triggering plots, schemes, bribery and blackmail in an attempt to steal his domain out from under him.\\n\\n    Director:\\nGuy Ritchie\\n| \\n    Stars:\\nMatthew McConaughey, \\nCharlie Hunnam, \\nMichelle Dockery, \\nJeremy Strong\\n\\n\\nVotes:\\n51,225\\n\\n\\n\\n\\n\\n\\n\\n\\n \\n \\n\\n\\n27.\\nJ\\'y crois encore\\n(2020)\\n\\n\\nPG\\n|\\n116 min\\n|\\n\\nDrama, Music, Romance            \\n\\n\\n\\n\\n6.6\\n\\n\\n\\n\\nRate this\\n\\n\\n\\n\\n\\n\\n\\xa0\\n\\xa0\\n\\n1\\n2\\n3\\n4\\n5\\n6\\n7\\n8\\n9\\n10\\n\\n6.6/10\\nX\\n\\xa0\\n\\n\\n\\n37        \\n        Metascore\\n            \\n\\n\\n    The true-life story of Christian music star Jeremy Camp and his journey of love and loss that looks to prove there is always hope.\\n\\n    Directors:\\nAndrew Erwin, \\nJon Erwin\\n| \\n    Stars:\\nBritt Robertson, \\nMelissa Roxburgh, \\nK.J. Apa, \\nGary Sinise\\n\\n\\nVotes:\\n581\\n\\n\\n\\n\\n\\n\\n\\n\\n \\n \\n\\n\\n28.\\nJoker\\n(2019)\\n\\n\\n12 avec avertissement\\n|\\n122 min\\n|\\n\\nCrime, Drama, Thriller            \\n\\n\\n\\n\\n8.5\\n\\n\\n\\n\\nRate this\\n\\n\\n\\n\\n\\n\\n\\xa0\\n\\xa0\\n\\n1\\n2\\n3\\n4\\n5\\n6\\n7\\n8\\n9\\n10\\n\\n8.5/10\\nX\\n\\xa0\\n\\n\\n\\n59        \\n        Metascore\\n            \\n\\n\\n    In Gotham City, mentally troubled comedian Arthur Fleck is disregarded and mistreated by society. He then embarks on a downward spiral of revolution and bloody crime. This path brings him face-to-face with his alter-ego: the Joker.\\n\\n    Director:\\nTodd Phillips\\n| \\n    Stars:\\nJoaquin Phoenix, \\nRobert De Niro, \\nZazie Beetz, \\nFrances Conroy\\n\\n\\nVotes:\\n714,141\\n| Gross:\\n$335.45M\\n\\n\\n\\n\\n\\n\\n\\n\\n \\n \\n\\n\\n29.\\nMourir peut attendre\\n(2020)\\n\\n\\nPG-13\\n|\\n163 min\\n|\\n\\nAction, Adventure, Thriller            \\n|\\nCompleted\\n\\n\\n    James Bond has left active service. His peace is short-lived when Felix Leiter, an old friend from the CIA, turns up asking for help, leading Bond onto the trail of a mysterious villain armed with dangerous new technology.\\n\\n    Director:\\nCary Joji Fukunaga\\n| \\n    Stars:\\nAna de Armas, \\nDaniel Craig, \\nLéa Seydoux, \\nNaomie Harris\\n\\n\\n\\n\\n\\n\\n\\n\\n \\n \\n\\n\\n30.\\nThe Grudge\\n(2020)\\n\\n\\n12\\n|\\n94 min\\n|\\n\\nHorror, Mystery            \\n\\n\\n\\n\\n4.1\\n\\n\\n\\n\\nRate this\\n\\n\\n\\n\\n\\n\\n\\xa0\\n\\xa0\\n\\n1\\n2\\n3\\n4\\n5\\n6\\n7\\n8\\n9\\n10\\n\\n4.1/10\\nX\\n\\xa0\\n\\n\\n\\n41        \\n        Metascore\\n            \\n\\n\\n    A house is cursed by a vengeful ghost that dooms those who enter it with a violent death.\\n\\n    Director:\\nNicolas Pesce\\n| \\n    Stars:\\nTara Westwood, \\nJunko Bailey, \\nDavid Lawrence Brown, \\nZoe Fish\\n\\n\\nVotes:\\n8,899\\n\\n\\n\\n\\n\\n\\n\\n\\n \\n \\n\\n\\n31.\\nLe Mans 66\\n(2019)\\n\\n\\nTous publics\\n|\\n152 min\\n|\\n\\nAction, Biography, Drama            \\n\\n\\n\\n\\n8.1\\n\\n\\n\\n\\nRate this\\n\\n\\n\\n\\n\\n\\n\\xa0\\n\\xa0\\n\\n1\\n2\\n3\\n4\\n5\\n6\\n7\\n8\\n9\\n10\\n\\n8.1/10\\nX\\n\\xa0\\n\\n\\n\\n81        \\n        Metascore\\n            \\n\\n\\n    American car designer Carroll Shelby and driver Ken Miles battle corporate interference and the laws of physics to build a revolutionary race car for Ford in order to defeat Ferrari at the 24 Hours of Le Mans in 1966.\\n\\n    Director:\\nJames Mangold\\n| \\n    Stars:\\nMatt Damon, \\nChristian Bale, \\nJon Bernthal, \\nCaitriona Balfe\\n\\n\\nVotes:\\n168,080\\n| Gross:\\n$117.62M\\n\\n\\n\\n\\n\\n\\n\\n\\n \\n \\n\\n\\n32.\\nAlerte!\\n(1995)\\n\\n\\nTous publics\\n|\\n127 min\\n|\\n\\nAction, Drama, Thriller            \\n\\n\\n\\n\\n6.6\\n\\n\\n\\n\\nRate this\\n\\n\\n\\n\\n\\n\\n\\xa0\\n\\xa0\\n\\n1\\n2\\n3\\n4\\n5\\n6\\n7\\n8\\n9\\n10\\n\\n6.6/10\\nX\\n\\xa0\\n\\n\\n\\n65        \\n        Metascore\\n            \\n\\n\\n    Army doctors struggle to find a cure for a deadly virus spreading throughout a California town that was brought to America by an African monkey.\\n\\n    Director:\\nWolfgang Petersen\\n| \\n    Stars:\\nDustin Hoffman, \\nRene Russo, \\nMorgan Freeman, \\nKevin Spacey\\n\\n\\nVotes:\\n106,149\\n| Gross:\\n$67.82M\\n\\n\\n\\n\\n\\n\\n\\n\\n \\n \\n\\n\\n33.\\nSans un bruit\\n(2018)\\n\\n\\n12\\n|\\n90 min\\n|\\n\\nDrama, Horror, Sci-Fi            \\n\\n\\n\\n\\n7.5\\n\\n\\n\\n\\nRate this\\n\\n\\n\\n\\n\\n\\n\\xa0\\n\\xa0\\n\\n1\\n2\\n3\\n4\\n5\\n6\\n7\\n8\\n9\\n10\\n\\n7.5/10\\nX\\n\\xa0\\n\\n\\n\\n82        \\n        Metascore\\n            \\n\\n\\n    In a post-apocalyptic world, a family is forced to live in silence while hiding from monsters with ultra-sensitive hearing.\\n\\n    Director:\\nJohn Krasinski\\n| \\n    Stars:\\nEmily Blunt, \\nJohn Krasinski, \\nMillicent Simmonds, \\nNoah Jupe\\n\\n\\nVotes:\\n360,780\\n| Gross:\\n$188.02M\\n\\n\\n\\n\\n\\n\\n\\n\\n \\n \\n\\n\\n34.\\nSoul\\n(2020)\\n\\n\\n\\nAnimation, Adventure, Comedy            \\n|\\nPost-production\\n\\n\\n    A musician who has lost his passion for music is transported out of his body and must find his way back with the help of an infant soul learning about herself.\\n\\n    Directors:\\nPete Docter, \\nKemp Powers\\n| \\n    Stars:\\nJamie Foxx, \\nTina Fey, \\nQuest Love, \\nPhylicia Rashad\\n\\n\\n\\n\\n\\n\\n\\n\\n \\n \\n\\n\\n35.\\nFreaks\\n(2018)\\n\\n\\n12\\n|\\n105 min\\n|\\n\\nDrama, Mystery, Sci-Fi            \\n\\n\\n\\n\\n6.7\\n\\n\\n\\n\\nRate this\\n\\n\\n\\n\\n\\n\\n\\xa0\\n\\xa0\\n\\n1\\n2\\n3\\n4\\n5\\n6\\n7\\n8\\n9\\n10\\n\\n6.7/10\\nX\\n\\xa0\\n\\n\\n\\n63        \\n        Metascore\\n            \\n\\n\\n    A bold girl discovers a bizarre, threatening, and mysterious new world beyond her front door after she escapes her father\\'s protective and paranoid control.\\n\\n    Directors:\\nZach Lipovsky, \\nAdam B. Stein\\n| \\n    Stars:\\nEmile Hirsch, \\nBruce Dern, \\nGrace Park, \\nAmanda Crew\\n\\n\\nVotes:\\n13,995\\n\\n\\n\\n\\n\\n\\n\\n\\n \\n \\n\\n\\n36.\\nGuns Akimbo\\n(2019)\\n\\n\\nR\\n|\\n95 min\\n|\\n\\nAction, Comedy            \\n\\n\\n\\n\\n6.4\\n\\n\\n\\n\\nRate this\\n\\n\\n\\n\\n\\n\\n\\xa0\\n\\xa0\\n\\n1\\n2\\n3\\n4\\n5\\n6\\n7\\n8\\n9\\n10\\n\\n6.4/10\\nX\\n\\xa0\\n\\n\\n\\n45        \\n        Metascore\\n            \\n\\n\\n    A guy relies on his newly-acquired gladiator skills to save his ex-girlfriend from kidnappers.\\n\\n    Director:\\nJason Lei Howden\\n| \\n    Stars:\\nSamara Weaving, \\nDaniel Radcliffe, \\nRhys Darby, \\nNed Dennehy\\n\\n\\nVotes:\\n11,158\\n\\n\\n\\n\\n\\n\\n\\n\\n \\n \\n\\n\\n37.\\nYesterday\\n(III) (2019)\\n\\n\\nTous publics\\n|\\n116 min\\n|\\n\\nComedy, Fantasy, Music            \\n\\n\\n\\n\\n6.9\\n\\n\\n\\n\\nRate this\\n\\n\\n\\n\\n\\n\\n\\xa0\\n\\xa0\\n\\n1\\n2\\n3\\n4\\n5\\n6\\n7\\n8\\n9\\n10\\n\\n6.9/10\\nX\\n\\xa0\\n\\n\\n\\n55        \\n        Metascore\\n            \\n\\n\\n    A struggling musician realizes he\\'s the only person on Earth who can remember The Beatles after waking up in an alternate timeline where they never existed.\\n\\n    Director:\\nDanny Boyle\\n| \\n    Stars:\\nHimesh Patel, \\nLily James, \\nSophia Di Martino, \\nEllise Chappell\\n\\n\\nVotes:\\n81,941\\n| Gross:\\n$73.29M\\n\\n\\n\\n\\n\\n\\n\\n\\n \\n \\n\\n\\n38.\\nEscape from Pretoria\\n(2020)\\n\\n\\nPG-13\\n|\\n106 min\\n|\\n\\nThriller            \\n\\n\\n\\n\\n6.5\\n\\n\\n\\n\\nRate this\\n\\n\\n\\n\\n\\n\\n\\xa0\\n\\xa0\\n\\n1\\n2\\n3\\n4\\n5\\n6\\n7\\n8\\n9\\n10\\n\\n6.5/10\\nX\\n\\xa0\\n\\n\\n\\n56        \\n        Metascore\\n            \\n\\n\\n    Based on the real-life prison break of two political captives, Escape From Pretoria is a race-against-time thriller set in the tumultuous apartheid days of South Africa.\\n\\n    Director:\\nFrancis Annan\\n| \\n    Stars:\\nDaniel Radcliffe, \\nDaniel Webber, \\nIan Hart, \\nNathan Page\\n\\n\\nVotes:\\n2,310\\n\\n\\n\\n\\n\\n\\n\\n\\n \\n \\n\\n\\n39.\\nMidsommar\\n(2019)\\n\\n\\n12 avec avertissement\\n|\\n148 min\\n|\\n\\nDrama, Horror, Mystery            \\n\\n\\n\\n\\n7.1\\n\\n\\n\\n\\nRate this\\n\\n\\n\\n\\n\\n\\n\\xa0\\n\\xa0\\n\\n1\\n2\\n3\\n4\\n5\\n6\\n7\\n8\\n9\\n10\\n\\n7.1/10\\nX\\n\\xa0\\n\\n\\n\\n72        \\n        Metascore\\n            \\n\\n\\n    A couple travels to Sweden to visit a rural hometown\\'s fabled mid-summer festival. What begins as an idyllic retreat quickly devolves into an increasingly violent and bizarre competition at the hands of a pagan cult.\\n\\n    Director:\\nAri Aster\\n| \\n    Stars:\\nFlorence Pugh, \\nJack Reynor, \\nVilhelm Blomgren, \\nWilliam Jackson Harper\\n\\n\\nVotes:\\n127,129\\n| Gross:\\n$27.33M\\n\\n\\n\\n\\n\\n\\n\\n\\n \\n \\n\\n\\n40.\\nLa reine des neiges II\\n(2019)\\n\\n\\nTous publics\\n|\\n103 min\\n|\\n\\nAnimation, Adventure, Comedy            \\n\\n\\n\\n\\n7.0\\n\\n\\n\\n\\nRate this\\n\\n\\n\\n\\n\\n\\n\\xa0\\n\\xa0\\n\\n1\\n2\\n3\\n4\\n5\\n6\\n7\\n8\\n9\\n10\\n\\n7/10\\nX\\n\\xa0\\n\\n\\n\\n64        \\n        Metascore\\n            \\n\\n\\n    Anna, Elsa, Kristoff, Olaf and Sven leave Arendelle to travel to an ancient, autumn-bound forest of an enchanted land. They set out to find the origin of Elsa\\'s powers in order to save their kingdom.\\n\\n    Directors:\\nChris Buck, \\nJennifer Lee\\n| \\n    Stars:\\nKristen Bell, \\nIdina Menzel, \\nJosh Gad, \\nJonathan Groff\\n\\n\\nVotes:\\n84,877\\n| Gross:\\n$477.34M\\n\\n\\n\\n\\n\\n\\n\\n\\n \\n \\n\\n\\n41.\\nDark Waters\\n(2019)\\n\\n\\nTous publics\\n|\\n126 min\\n|\\n\\nBiography, Drama, History            \\n\\n\\n\\n\\n7.6\\n\\n\\n\\n\\nRate this\\n\\n\\n\\n\\n\\n\\n\\xa0\\n\\xa0\\n\\n1\\n2\\n3\\n4\\n5\\n6\\n7\\n8\\n9\\n10\\n\\n7.6/10\\nX\\n\\xa0\\n\\n\\n\\n73        \\n        Metascore\\n            \\n\\n\\n    A corporate defense attorney takes on an environmental lawsuit against a chemical company that exposes a lengthy history of pollution.\\n\\n    Director:\\nTodd Haynes\\n| \\n    Stars:\\nMark Ruffalo, \\nAnne Hathaway, \\nTim Robbins, \\nBill Pullman\\n\\n\\nVotes:\\n23,960\\n\\n\\n\\n\\n\\n\\n\\n\\n \\n \\n\\n\\n42.\\nCharlie\\'s Angels\\n(2019)\\n\\n\\nTous publics\\n|\\n118 min\\n|\\n\\nAction, Adventure, Comedy            \\n\\n\\n\\n\\n4.5\\n\\n\\n\\n\\nRate this\\n\\n\\n\\n\\n\\n\\n\\xa0\\n\\xa0\\n\\n1\\n2\\n3\\n4\\n5\\n6\\n7\\n8\\n9\\n10\\n\\n4.5/10\\nX\\n\\xa0\\n\\n\\n\\n52        \\n        Metascore\\n            \\n\\n\\n    When a young systems engineer blows the whistle on a dangerous technology, Charlie\\'s Angels are called into action, putting their lives on the line to protect us all.\\n\\n    Director:\\nElizabeth Banks\\n| \\n    Stars:\\nKristen Stewart, \\nNaomi Scott, \\nElla Balinska, \\nElizabeth Banks\\n\\n\\nVotes:\\n31,811\\n\\n\\n\\n\\n\\n\\n\\n\\n \\n \\n\\n\\n43.\\nThe Batman\\n(2021)\\n\\n\\n\\nAction, Crime, Drama            \\n|\\nFilming\\n\\n\\n    The plot is unknown.\\n\\n    Director:\\nMatt Reeves\\n| \\n    Stars:\\nRobert Pattinson, \\nZoë Kravitz, \\nColin Farrell, \\nPeter Sarsgaard\\n\\n\\n\\n\\n\\n\\n\\n\\n \\n \\n\\n\\n44.\\nDoctor Sleep\\n(2019)\\n\\n\\n12\\n|\\n152 min\\n|\\n\\nDrama, Fantasy, Horror            \\n\\n\\n\\n\\n7.4\\n\\n\\n\\n\\nRate this\\n\\n\\n\\n\\n\\n\\n\\xa0\\n\\xa0\\n\\n1\\n2\\n3\\n4\\n5\\n6\\n7\\n8\\n9\\n10\\n\\n7.4/10\\nX\\n\\xa0\\n\\n\\n\\n59        \\n        Metascore\\n            \\n\\n\\n    Years following the events of \"The Shining,\" a now-adult Dan Torrance must protect a young girl with similar powers from a cult known as The True Knot, who prey on children with powers to remain immortal.\\n\\n    Director:\\nMike Flanagan\\n| \\n    Stars:\\nEwan McGregor, \\nRebecca Ferguson, \\nKyliegh Curran, \\nCliff Curtis\\n\\n\\nVotes:\\n84,663\\n\\n\\n\\n\\n\\n\\n\\n\\n \\n \\n\\n\\n45.\\nMidway\\n(2019)\\n\\n\\nTous publics\\n|\\n138 min\\n|\\n\\nAction, Drama, History            \\n\\n\\n\\n\\n6.7\\n\\n\\n\\n\\nRate this\\n\\n\\n\\n\\n\\n\\n\\xa0\\n\\xa0\\n\\n1\\n2\\n3\\n4\\n5\\n6\\n7\\n8\\n9\\n10\\n\\n6.7/10\\nX\\n\\xa0\\n\\n\\n\\n47        \\n        Metascore\\n            \\n\\n\\n    The story of the Battle of Midway, told by the leaders and the sailors who fought it.\\n\\n    Director:\\nRoland Emmerich\\n| \\n    Stars:\\nEd Skrein, \\nPatrick Wilson, \\nWoody Harrelson, \\nLuke Evans\\n\\n\\nVotes:\\n34,930\\n\\n\\n\\n\\n\\n\\n\\n\\n \\n \\n\\n\\n46.\\nLost Girls\\n(2020)\\n\\n\\nR\\n|\\n95 min\\n|\\n\\nDrama, Mystery, Thriller            \\n\\n\\n\\n\\n6.1\\n\\n\\n\\n\\nRate this\\n\\n\\n\\n\\n\\n\\n\\xa0\\n\\xa0\\n\\n1\\n2\\n3\\n4\\n5\\n6\\n7\\n8\\n9\\n10\\n\\n6.1/10\\nX\\n\\xa0\\n\\n\\n\\n69        \\n        Metascore\\n            \\n\\n\\n    When Mari Gilbert\\'s daughter disappears, police inaction drives her own investigation into the gated Long Island community where Shannan was last seen. Her search brings attention to over a dozen murdered sex workers.\\n\\n    Director:\\nLiz Garbus\\n| \\n    Stars:\\nAmy Ryan, \\nThomasin McKenzie, \\nGabriel Byrne, \\nLola Kirke\\n\\n\\nVotes:\\n3,200\\n\\n\\n\\n\\n\\n\\n\\n\\n \\n \\n\\n\\n47.\\nL\\'appel de la forêt\\n(2020)\\n\\n\\nTous publics\\n|\\n100 min\\n|\\n\\nAdventure, Drama, Family            \\n\\n\\n\\n\\n6.9\\n\\n\\n\\n\\nRate this\\n\\n\\n\\n\\n\\n\\n\\xa0\\n\\xa0\\n\\n1\\n2\\n3\\n4\\n5\\n6\\n7\\n8\\n9\\n10\\n\\n6.9/10\\nX\\n\\xa0\\n\\n\\n\\n47        \\n        Metascore\\n            \\n\\n\\n    A sled dog struggles for survival in the wilds of the Yukon.\\n\\n    Director:\\nChris Sanders\\n| \\n    Stars:\\nHarrison Ford, \\nOmar Sy, \\nCara Gee, \\nDan Stevens\\n\\n\\nVotes:\\n7,062\\n\\n\\n\\n\\n\\n\\n\\n\\n \\n \\n\\n\\n48.\\nLes Incognitos\\n(2019)\\n\\n\\nTous publics\\n|\\n102 min\\n|\\n\\nAnimation, Action, Adventure            \\n\\n\\n\\n\\n6.8\\n\\n\\n\\n\\nRate this\\n\\n\\n\\n\\n\\n\\n\\xa0\\n\\xa0\\n\\n1\\n2\\n3\\n4\\n5\\n6\\n7\\n8\\n9\\n10\\n\\n6.8/10\\nX\\n\\xa0\\n\\n\\n\\n54        \\n        Metascore\\n            \\n\\n\\n    When the world\\'s best spy is turned into a pigeon, he must rely on his nerdy tech officer to save the world.\\n\\n    Directors:\\nNick Bruno, \\nTroy Quane\\n| \\n    Stars:\\nRachel Brosnahan, \\nJarrett Bruno, \\nClaire Crosby, \\nToru Uchikado\\n\\n\\nVotes:\\n13,133\\n\\n\\n\\n\\n\\n\\n\\n\\n \\n \\n\\n\\n49.\\nAll the Bright Places\\n(2020)\\n\\n\\n107 min\\n|\\n\\nDrama, Romance            \\n\\n\\n\\n\\n6.5\\n\\n\\n\\n\\nRate this\\n\\n\\n\\n\\n\\n\\n\\xa0\\n\\xa0\\n\\n1\\n2\\n3\\n4\\n5\\n6\\n7\\n8\\n9\\n10\\n\\n6.5/10\\nX\\n\\xa0\\n\\n\\n\\n61        \\n        Metascore\\n            \\n\\n\\n    The story of Violet and Theodore, who meet and change each other\\'s lives forever. As they struggle with the emotional and physical scars of their past, they discover that even the smallest places and moments can mean something.\\n\\n    Director:\\nBrett Haley\\n| \\n    Stars:\\nElle Fanning, \\nJustice Smith, \\nAlexandra Shipp, \\nKelli O\\'Hara\\n\\n\\nVotes:\\n8,169\\n\\n\\n\\n\\n\\n\\n\\n\\n \\n \\n\\n\\n50.\\nLe cas Richard Jewell\\n(2019)\\n\\n\\nTous publics\\n|\\n131 min\\n|\\n\\nBiography, Crime, Drama            \\n\\n\\n\\n\\n7.5\\n\\n\\n\\n\\nRate this\\n\\n\\n\\n\\n\\n\\n\\xa0\\n\\xa0\\n\\n1\\n2\\n3\\n4\\n5\\n6\\n7\\n8\\n9\\n10\\n\\n7.5/10\\nX\\n\\xa0\\n\\n\\n\\n68        \\n        Metascore\\n            \\n\\n\\n    American security guard Richard Jewell saves thousands of lives from an exploding bomb at the 1996 Olympics, but is vilified by journalists and the press who falsely reported that he was a terrorist.\\n\\n    Director:\\nClint Eastwood\\n| \\n    Stars:\\nPaul Walter Hauser, \\nSam Rockwell, \\nBrandon Stanley, \\nRyan Boz\\n\\n\\nVotes:\\n24,961\\n\\n\\n\\n'"
     },
     "execution_count": 6,
     "metadata": {},
     "output_type": "execute_result"
    }
   ],
   "source": [
    "#récupération du texte sur toute la page de recherche \n",
    "page.find('div', {'class' : \"lister-list\"}).text"
   ]
  },
  {
   "cell_type": "code",
   "execution_count": 7,
   "metadata": {},
   "outputs": [
    {
     "data": {
      "text/plain": "<a href=\"/title/tt8629748/?ref_=adv_li_tt\">Spenser Confidential</a>"
     },
     "execution_count": 7,
     "metadata": {},
     "output_type": "execute_result"
    }
   ],
   "source": [
    "#référence du film avce le titre\n",
    "page.h3.a"
   ]
  },
  {
   "cell_type": "code",
   "execution_count": 8,
   "metadata": {},
   "outputs": [
    {
     "data": {
      "text/plain": "'Spenser Confidential'"
     },
     "execution_count": 8,
     "metadata": {},
     "output_type": "execute_result"
    }
   ],
   "source": [
    "#récupération du titre du film\n",
    "page.h3.a.text"
   ]
  },
  {
   "cell_type": "code",
   "execution_count": 9,
   "metadata": {},
   "outputs": [
    {
     "data": {
      "text/plain": "'(2020)'"
     },
     "execution_count": 9,
     "metadata": {},
     "output_type": "execute_result"
    }
   ],
   "source": [
    "#récupération de l'année \n",
    "page.find('span', {'class' : \"lister-item-year text-muted unbold\"}).text"
   ]
  },
  {
   "cell_type": "code",
   "execution_count": null,
   "metadata": {},
   "outputs": [],
   "source": [
    "#récuparation des genres du film\n",
    "page.find('span', {'class' : \"genre\"}).text"
   ]
  },
  {
   "cell_type": "code",
   "execution_count": 11,
   "metadata": {},
   "outputs": [
    {
     "data": {
      "text/plain": "'\\n\\n6.2\\n'"
     },
     "execution_count": 11,
     "metadata": {},
     "output_type": "execute_result"
    }
   ],
   "source": [
    "#Récupération des notes étoiles \n",
    "page.find('div', {'class' : \"inline-block ratings-imdb-rating\"}).text"
   ]
  },
  {
   "cell_type": "code",
   "execution_count": 12,
   "metadata": {},
   "outputs": [
    {
     "data": {
      "text/plain": "'\\n49        \\n        Metascore\\n            '"
     },
     "execution_count": 12,
     "metadata": {},
     "output_type": "execute_result"
    }
   ],
   "source": [
    "#Récupération des métascores \n",
    "page.find('div', {'class' : \"inline-block ratings-metascore\"}).text"
   ]
  },
  {
   "cell_type": "code",
   "execution_count": 13,
   "metadata": {},
   "outputs": [
    {
     "data": {
      "text/plain": "'24,517'"
     },
     "execution_count": 13,
     "metadata": {},
     "output_type": "execute_result"
    }
   ],
   "source": [
    "#Récupération des votes\n",
    "page.find('span', {'name' : \"nv\"}).text"
   ]
  },
  {
   "cell_type": "markdown",
   "metadata": {},
   "source": [
    "### Boucle pour récupérer autotmatiquement toutes les donées du films"
   ]
  },
  {
   "cell_type": "code",
   "execution_count": 14,
   "metadata": {},
   "outputs": [],
   "source": [
    "#Prendre le nombre de page par année et le nombre d'années à scraper\n",
    "\n",
    "pages = [str(i) for i in range(1,50)]\n",
    "years_url = [str(i) for i in range(2017,2019)]\t\n",
    "headers = {\"Accept-Language\": \"en-US, en;q=0.5\"}"
   ]
  },
  {
   "cell_type": "code",
   "execution_count": 15,
   "metadata": {},
   "outputs": [
    {
     "name": "stdout",
     "output_type": "stream",
     "text": "Request:81; Frequency: 0.07465865700280956 requests/s\n"
    }
   ],
   "source": [
    "# Création d'une liste avec les données à récupérer \n",
    "names = [] \n",
    "years = []\n",
    "imdb_ratings = []\n",
    "metascores = []\n",
    "votes = []\n",
    "genres = []\n",
    "\n",
    "# Le nombre de pages par année et le nombre d'année à scraper\n",
    "pages = [str(i) for i in range(1,50)]\n",
    "years_url = [str(i) for i in range(2017,2019)]\t\n",
    "headers = {\"Accept-Language\": \"en-US, en;q=0.5\"}\n",
    "\n",
    "# Liste des données à récupérer\n",
    "names = [] \n",
    "years = []\n",
    "imdb_ratings = []\n",
    "metascores = []\n",
    "votes = []\n",
    "genres = []\n",
    "\n",
    "# Décompte des pages récupérer\n",
    "start_time = time()\n",
    "requests_number = 0\n",
    "\n",
    "# Pour toutes les années dans l'interval\n",
    "for year_url in years_url:\n",
    "    \n",
    "    # Pour toutes les années de l'interval\n",
    "    for page in pages:\n",
    "        \n",
    "        # Faire la requete via le IMDb\n",
    "        response = get('http://www.imdb.com/search/title?title_type=feature&release_date=' + year_url + \n",
    "        '&sort=num_votes,desc&start=' + page + '&ref_=adv_nxt', headers = headers)\n",
    "        \n",
    "        # Pause the loop\n",
    "        sleep(randint(8,15))\n",
    "\n",
    "        # Voir le nombre de films recupérés avec le temps\n",
    "        requests_number += 1\n",
    "        elapsed_time = time() - start_time\n",
    "        print('Request:{}; Frequency: {} requests/s'.format(requests_number, requests_number/elapsed_time))\n",
    "        clear_output(wait = True)\n",
    "        \n",
    "        # Avertissement quand il y un problème \n",
    "        if response.status_code != 1000:\n",
    "            warn('Request: {}; Status code: {}'.format(requests_number, response.status_code))\n",
    "        \n",
    "        # Brisez la boucle si le nombre de pages est supérieur à 80 pages\n",
    "        if requests_number > 80:\n",
    "            warn('Number of requests was greater than expected.')  \n",
    "            break \n",
    "\n",
    "        # Analyser le contenu de la demande avec BeautifulSoup\n",
    "        page_html = BeautifulSoup(response.text, 'html.parser')\n",
    "\n",
    "        # Sélectionnez tous les 50 conteneurs de film sur une seule page\n",
    "        mv_containers = page_html.find_all('div', class_ = 'lister-item mode-advanced')\n",
    "\n",
    "        # Pour ces 50 films \n",
    "        for container in mv_containers:\n",
    "\n",
    "            # Inclure seulement si le film est une \"Metacore\" \n",
    "            if container.find('div', class_ = 'ratings-metascore') is not None:\n",
    "\n",
    "                # Scrape le nom\n",
    "                name = container.h3.a.text\n",
    "                names.append(name)\n",
    "\n",
    "                # Scrape l'année \n",
    "                year = container.h3.find('span', class_ = 'lister-item-year').text\n",
    "                years.append(year)\n",
    "\n",
    "                 # Scrape le ratio IMDB\n",
    "                imdb = float(container.strong.text)\n",
    "                imdb_ratings.append(imdb)\n",
    "\n",
    "                # Scrape le Metascore\n",
    "                m_score = container.find('span', class_ = 'metascore').text\n",
    "                metascores.append(int(m_score))\n",
    "\n",
    "                # Scrape le nombre de votes\n",
    "                vote = container.find('span', attrs = {'name':'nv'})['data-value']\n",
    "                votes.append(int(vote))\n",
    "                \n",
    "                # Scrape le genre\n",
    "                genre = container.find('span', class_ = 'genre').text\n",
    "                genres.append(genre.strip())"
   ]
  },
  {
   "cell_type": "code",
   "execution_count": 16,
   "metadata": {},
   "outputs": [
    {
     "data": {
      "text/plain": "<div class=\"inline-block ratings-metascore\">\n<span class=\"metascore unfavorable\">31        </span>\n        Metascore\n            </div>"
     },
     "execution_count": 16,
     "metadata": {},
     "output_type": "execute_result"
    }
   ],
   "source": [
    "container.find('div', class_ = 'ratings-metascore')"
   ]
  },
  {
   "cell_type": "code",
   "execution_count": 17,
   "metadata": {},
   "outputs": [
    {
     "name": "stdout",
     "output_type": "stream",
     "text": "<class 'pandas.core.frame.DataFrame'>\nRangeIndex: 3921 entries, 0 to 3920\nData columns (total 6 columns):\nmovie        3921 non-null object\nyears        3921 non-null object\nimdb         3921 non-null float64\ngenre        3921 non-null object\nvotes        3921 non-null int64\nmetascore    3921 non-null int64\ndtypes: float64(1), int64(2), object(3)\nmemory usage: 183.9+ KB\nNone\n"
    },
    {
     "data": {
      "text/html": "<div>\n<style scoped>\n    .dataframe tbody tr th:only-of-type {\n        vertical-align: middle;\n    }\n\n    .dataframe tbody tr th {\n        vertical-align: top;\n    }\n\n    .dataframe thead th {\n        text-align: right;\n    }\n</style>\n<table border=\"1\" class=\"dataframe\">\n  <thead>\n    <tr style=\"text-align: right;\">\n      <th></th>\n      <th>movie</th>\n      <th>years</th>\n      <th>imdb</th>\n      <th>genre</th>\n      <th>votes</th>\n      <th>metascore</th>\n    </tr>\n  </thead>\n  <tbody>\n    <tr>\n      <td>0</td>\n      <td>Logan</td>\n      <td>(2017)</td>\n      <td>8.1</td>\n      <td>Action, Drama, Sci-Fi</td>\n      <td>603294</td>\n      <td>77</td>\n    </tr>\n    <tr>\n      <td>1</td>\n      <td>Thor: Ragnarok</td>\n      <td>(2017)</td>\n      <td>7.9</td>\n      <td>Action, Adventure, Comedy</td>\n      <td>536979</td>\n      <td>74</td>\n    </tr>\n    <tr>\n      <td>2</td>\n      <td>Star Wars: Episode VIII - The Last Jedi</td>\n      <td>(2017)</td>\n      <td>7.0</td>\n      <td>Action, Adventure, Fantasy</td>\n      <td>527314</td>\n      <td>85</td>\n    </tr>\n    <tr>\n      <td>3</td>\n      <td>Guardians of the Galaxy Vol. 2</td>\n      <td>(2017)</td>\n      <td>7.6</td>\n      <td>Action, Adventure, Comedy</td>\n      <td>527257</td>\n      <td>67</td>\n    </tr>\n    <tr>\n      <td>4</td>\n      <td>Wonder Woman</td>\n      <td>(2017)</td>\n      <td>7.4</td>\n      <td>Action, Adventure, Fantasy</td>\n      <td>519811</td>\n      <td>76</td>\n    </tr>\n    <tr>\n      <td>5</td>\n      <td>Dunkirk</td>\n      <td>(2017)</td>\n      <td>7.9</td>\n      <td>Action, Drama, History</td>\n      <td>504922</td>\n      <td>94</td>\n    </tr>\n    <tr>\n      <td>6</td>\n      <td>Spider-Man: Homecoming</td>\n      <td>(2017)</td>\n      <td>7.4</td>\n      <td>Action, Adventure, Sci-Fi</td>\n      <td>474162</td>\n      <td>73</td>\n    </tr>\n    <tr>\n      <td>7</td>\n      <td>Get Out</td>\n      <td>(I) (2017)</td>\n      <td>7.7</td>\n      <td>Horror, Mystery, Thriller</td>\n      <td>447628</td>\n      <td>84</td>\n    </tr>\n    <tr>\n      <td>8</td>\n      <td>It</td>\n      <td>(I) (2017)</td>\n      <td>7.3</td>\n      <td>Horror</td>\n      <td>424133</td>\n      <td>69</td>\n    </tr>\n    <tr>\n      <td>9</td>\n      <td>Blade Runner 2049</td>\n      <td>(2017)</td>\n      <td>8.0</td>\n      <td>Action, Drama, Mystery</td>\n      <td>417353</td>\n      <td>81</td>\n    </tr>\n  </tbody>\n</table>\n</div>",
      "text/plain": "                                     movie       years  imdb  \\\n0                                    Logan      (2017)   8.1   \n1                           Thor: Ragnarok      (2017)   7.9   \n2  Star Wars: Episode VIII - The Last Jedi      (2017)   7.0   \n3           Guardians of the Galaxy Vol. 2      (2017)   7.6   \n4                             Wonder Woman      (2017)   7.4   \n5                                  Dunkirk      (2017)   7.9   \n6                   Spider-Man: Homecoming      (2017)   7.4   \n7                                  Get Out  (I) (2017)   7.7   \n8                                       It  (I) (2017)   7.3   \n9                        Blade Runner 2049      (2017)   8.0   \n\n                        genre   votes  metascore  \n0       Action, Drama, Sci-Fi  603294         77  \n1   Action, Adventure, Comedy  536979         74  \n2  Action, Adventure, Fantasy  527314         85  \n3   Action, Adventure, Comedy  527257         67  \n4  Action, Adventure, Fantasy  519811         76  \n5      Action, Drama, History  504922         94  \n6   Action, Adventure, Sci-Fi  474162         73  \n7   Horror, Mystery, Thriller  447628         84  \n8                      Horror  424133         69  \n9      Action, Drama, Mystery  417353         81  "
     },
     "execution_count": 17,
     "metadata": {},
     "output_type": "execute_result"
    }
   ],
   "source": [
    "df_movie = pd.DataFrame({'movie':names,\n",
    "'years':years,'imdb':imdb_ratings,'genre':genres,'votes':votes,\n",
    "'metascore':metascores})\n",
    "\n",
    "print(df_movie.info())\n",
    "df_movie.head(10)"
   ]
  },
  {
   "cell_type": "markdown",
   "metadata": {},
   "source": [
    "## Extraire le dataframe en CSV "
   ]
  },
  {
   "cell_type": "code",
   "execution_count": 20,
   "metadata": {},
   "outputs": [],
   "source": [
    "df_movie.to_csv(r'C:\\Users\\utilisateur\\Desktop\\Simplon DATA IA\\PROJET FINAL\\movie.csv', index = False)"
   ]
  },
  {
   "cell_type": "markdown",
   "metadata": {},
   "source": [
    "## 2ème étape: Stockage des données dans une base SQL"
   ]
  },
  {
   "cell_type": "code",
   "execution_count": null,
   "metadata": {},
   "outputs": [],
   "source": [
    "fichier : \"BDD movie.ipynb\""
   ]
  },
  {
   "cell_type": "code",
   "execution_count": 2,
   "metadata": {},
   "outputs": [
    {
     "ename": "NameError",
     "evalue": "name 'bdd' is not defined",
     "output_type": "error",
     "traceback": [
      "\u001b[1;31m---------------------------------------------------------------------------\u001b[0m",
      "\u001b[1;31mNameError\u001b[0m                                 Traceback (most recent call last)",
      "\u001b[1;32m<ipython-input-2-0220c7b30100>\u001b[0m in \u001b[0;36m<module>\u001b[1;34m\u001b[0m\n\u001b[1;32m----> 1\u001b[1;33m \u001b[0mfichier\u001b[0m \u001b[1;33m:\u001b[0m \u001b[0mbdd\u001b[0m\u001b[1;33m.\u001b[0m\u001b[0mmwb\u001b[0m\u001b[1;33m\u001b[0m\u001b[1;33m\u001b[0m\u001b[0m\n\u001b[0m",
      "\u001b[1;31mNameError\u001b[0m: name 'bdd' is not defined"
     ]
    }
   ],
   "source": [
    "fichier : \"bdd.mwb\", \"movie.sql\""
   ]
  },
  {
   "cell_type": "markdown",
   "metadata": {},
   "source": [
    "## 3ème étape: Analyse des données et visualisations\n"
   ]
  },
  {
   "cell_type": "code",
   "execution_count": null,
   "metadata": {},
   "outputs": [],
   "source": [
    "fichier : \"visualisation donnée.ipynb\""
   ]
  },
  {
   "cell_type": "markdown",
   "metadata": {},
   "source": [
    "## 4ème étape: Mise en place d’un modèle de ML"
   ]
  },
  {
   "cell_type": "code",
   "execution_count": null,
   "metadata": {},
   "outputs": [],
   "source": [
    "fichier : \"visualisation donnée.ipynb\" "
   ]
  }
 ]
}