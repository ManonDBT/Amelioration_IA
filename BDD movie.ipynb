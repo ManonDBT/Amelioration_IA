{
 "nbformat": 4,
 "nbformat_minor": 2,
 "metadata": {
  "language_info": {
   "name": "python",
   "codemirror_mode": {
    "name": "ipython",
    "version": 3
   },
   "version": "3.7.4-final"
  },
  "orig_nbformat": 2,
  "file_extension": ".py",
  "mimetype": "text/x-python",
  "name": "python",
  "npconvert_exporter": "python",
  "pygments_lexer": "ipython3",
  "version": 3,
  "kernelspec": {
   "name": "python37464bitbaseconda3d071c9156404c4bb4e10a48f7417011",
   "display_name": "Python 3.7.4 64-bit ('base': conda)"
  }
 },
 "cells": [
  {
   "cell_type": "code",
   "execution_count": 1,
   "metadata": {},
   "outputs": [],
   "source": [
    "import pandas as pd\n",
    "import numpy as np\n",
    "import pymysql"
   ]
  },
  {
   "cell_type": "code",
   "execution_count": 2,
   "metadata": {},
   "outputs": [
    {
     "data": {
      "text/html": "<div>\n<style scoped>\n    .dataframe tbody tr th:only-of-type {\n        vertical-align: middle;\n    }\n\n    .dataframe tbody tr th {\n        vertical-align: top;\n    }\n\n    .dataframe thead th {\n        text-align: right;\n    }\n</style>\n<table border=\"1\" class=\"dataframe\">\n  <thead>\n    <tr style=\"text-align: right;\">\n      <th></th>\n      <th>movie</th>\n      <th>years</th>\n      <th>imdb</th>\n      <th>genre</th>\n      <th>votes</th>\n      <th>metascore</th>\n    </tr>\n  </thead>\n  <tbody>\n    <tr>\n      <td>0</td>\n      <td>Logan</td>\n      <td>(2017)</td>\n      <td>8.1</td>\n      <td>Action, Drama, Sci-Fi</td>\n      <td>603294</td>\n      <td>77</td>\n    </tr>\n    <tr>\n      <td>1</td>\n      <td>Thor: Ragnarok</td>\n      <td>(2017)</td>\n      <td>7.9</td>\n      <td>Action, Adventure, Comedy</td>\n      <td>536979</td>\n      <td>74</td>\n    </tr>\n    <tr>\n      <td>2</td>\n      <td>Star Wars: Episode VIII - The Last Jedi</td>\n      <td>(2017)</td>\n      <td>7.0</td>\n      <td>Action, Adventure, Fantasy</td>\n      <td>527314</td>\n      <td>85</td>\n    </tr>\n    <tr>\n      <td>3</td>\n      <td>Guardians of the Galaxy Vol. 2</td>\n      <td>(2017)</td>\n      <td>7.6</td>\n      <td>Action, Adventure, Comedy</td>\n      <td>527257</td>\n      <td>67</td>\n    </tr>\n    <tr>\n      <td>4</td>\n      <td>Wonder Woman</td>\n      <td>(2017)</td>\n      <td>7.4</td>\n      <td>Action, Adventure, Fantasy</td>\n      <td>519811</td>\n      <td>76</td>\n    </tr>\n    <tr>\n      <td>...</td>\n      <td>...</td>\n      <td>...</td>\n      <td>...</td>\n      <td>...</td>\n      <td>...</td>\n      <td>...</td>\n    </tr>\n    <tr>\n      <td>3916</td>\n      <td>Outlaw King</td>\n      <td>(2018)</td>\n      <td>6.9</td>\n      <td>Action, Biography, Drama</td>\n      <td>52776</td>\n      <td>59</td>\n    </tr>\n    <tr>\n      <td>3917</td>\n      <td>Sorry to Bother You</td>\n      <td>(2018)</td>\n      <td>6.9</td>\n      <td>Comedy, Fantasy, Sci-Fi</td>\n      <td>52007</td>\n      <td>80</td>\n    </tr>\n    <tr>\n      <td>3918</td>\n      <td>Mowgli: Legend of the Jungle</td>\n      <td>(2018)</td>\n      <td>6.5</td>\n      <td>Adventure, Drama, Fantasy</td>\n      <td>51622</td>\n      <td>51</td>\n    </tr>\n    <tr>\n      <td>3919</td>\n      <td>Suspiria</td>\n      <td>(I) (2018)</td>\n      <td>6.8</td>\n      <td>Fantasy, Horror, Mystery</td>\n      <td>51034</td>\n      <td>64</td>\n    </tr>\n    <tr>\n      <td>3920</td>\n      <td>Fifty Shades Freed</td>\n      <td>(2018)</td>\n      <td>4.5</td>\n      <td>Drama, Romance, Thriller</td>\n      <td>49484</td>\n      <td>31</td>\n    </tr>\n  </tbody>\n</table>\n<p>3921 rows × 6 columns</p>\n</div>",
      "text/plain": "                                        movie       years  imdb  \\\n0                                       Logan      (2017)   8.1   \n1                              Thor: Ragnarok      (2017)   7.9   \n2     Star Wars: Episode VIII - The Last Jedi      (2017)   7.0   \n3              Guardians of the Galaxy Vol. 2      (2017)   7.6   \n4                                Wonder Woman      (2017)   7.4   \n...                                       ...         ...   ...   \n3916                              Outlaw King      (2018)   6.9   \n3917                      Sorry to Bother You      (2018)   6.9   \n3918             Mowgli: Legend of the Jungle      (2018)   6.5   \n3919                                 Suspiria  (I) (2018)   6.8   \n3920                       Fifty Shades Freed      (2018)   4.5   \n\n                           genre   votes  metascore  \n0          Action, Drama, Sci-Fi  603294         77  \n1      Action, Adventure, Comedy  536979         74  \n2     Action, Adventure, Fantasy  527314         85  \n3      Action, Adventure, Comedy  527257         67  \n4     Action, Adventure, Fantasy  519811         76  \n...                          ...     ...        ...  \n3916    Action, Biography, Drama   52776         59  \n3917     Comedy, Fantasy, Sci-Fi   52007         80  \n3918   Adventure, Drama, Fantasy   51622         51  \n3919    Fantasy, Horror, Mystery   51034         64  \n3920    Drama, Romance, Thriller   49484         31  \n\n[3921 rows x 6 columns]"
     },
     "execution_count": 2,
     "metadata": {},
     "output_type": "execute_result"
    }
   ],
   "source": [
    "#lecture de la DF\n",
    "df_movie = pd.read_table('movie.csv', sep=',')\n",
    "df_movie"
   ]
  },
  {
   "cell_type": "markdown",
   "metadata": {},
   "source": [
    "## séparation du Dataframe pour les différentes tables SQL "
   ]
  },
  {
   "cell_type": "code",
   "execution_count": 3,
   "metadata": {},
   "outputs": [
    {
     "data": {
      "text/html": "<div>\n<style scoped>\n    .dataframe tbody tr th:only-of-type {\n        vertical-align: middle;\n    }\n\n    .dataframe tbody tr th {\n        vertical-align: top;\n    }\n\n    .dataframe thead th {\n        text-align: right;\n    }\n</style>\n<table border=\"1\" class=\"dataframe\">\n  <thead>\n    <tr style=\"text-align: right;\">\n      <th></th>\n      <th>genre</th>\n    </tr>\n  </thead>\n  <tbody>\n    <tr>\n      <td>0</td>\n      <td>Action, Drama, Sci-Fi</td>\n    </tr>\n    <tr>\n      <td>1</td>\n      <td>Action, Adventure, Comedy</td>\n    </tr>\n    <tr>\n      <td>2</td>\n      <td>Action, Adventure, Fantasy</td>\n    </tr>\n    <tr>\n      <td>3</td>\n      <td>Action, Adventure, Comedy</td>\n    </tr>\n    <tr>\n      <td>4</td>\n      <td>Action, Adventure, Fantasy</td>\n    </tr>\n    <tr>\n      <td>...</td>\n      <td>...</td>\n    </tr>\n    <tr>\n      <td>3916</td>\n      <td>Action, Biography, Drama</td>\n    </tr>\n    <tr>\n      <td>3917</td>\n      <td>Comedy, Fantasy, Sci-Fi</td>\n    </tr>\n    <tr>\n      <td>3918</td>\n      <td>Adventure, Drama, Fantasy</td>\n    </tr>\n    <tr>\n      <td>3919</td>\n      <td>Fantasy, Horror, Mystery</td>\n    </tr>\n    <tr>\n      <td>3920</td>\n      <td>Drama, Romance, Thriller</td>\n    </tr>\n  </tbody>\n</table>\n<p>3921 rows × 1 columns</p>\n</div>",
      "text/plain": "                           genre\n0          Action, Drama, Sci-Fi\n1      Action, Adventure, Comedy\n2     Action, Adventure, Fantasy\n3      Action, Adventure, Comedy\n4     Action, Adventure, Fantasy\n...                          ...\n3916    Action, Biography, Drama\n3917     Comedy, Fantasy, Sci-Fi\n3918   Adventure, Drama, Fantasy\n3919    Fantasy, Horror, Mystery\n3920    Drama, Romance, Thriller\n\n[3921 rows x 1 columns]"
     },
     "execution_count": 3,
     "metadata": {},
     "output_type": "execute_result"
    }
   ],
   "source": [
    "df_style = df_movie[[ 'genre']]\n",
    "df_style"
   ]
  },
  {
   "cell_type": "code",
   "execution_count": 4,
   "metadata": {},
   "outputs": [
    {
     "data": {
      "text/html": "<div>\n<style scoped>\n    .dataframe tbody tr th:only-of-type {\n        vertical-align: middle;\n    }\n\n    .dataframe tbody tr th {\n        vertical-align: top;\n    }\n\n    .dataframe thead th {\n        text-align: right;\n    }\n</style>\n<table border=\"1\" class=\"dataframe\">\n  <thead>\n    <tr style=\"text-align: right;\">\n      <th></th>\n      <th>movie</th>\n      <th>years</th>\n    </tr>\n  </thead>\n  <tbody>\n    <tr>\n      <td>0</td>\n      <td>Logan</td>\n      <td>(2017)</td>\n    </tr>\n    <tr>\n      <td>1</td>\n      <td>Thor: Ragnarok</td>\n      <td>(2017)</td>\n    </tr>\n    <tr>\n      <td>2</td>\n      <td>Star Wars: Episode VIII - The Last Jedi</td>\n      <td>(2017)</td>\n    </tr>\n    <tr>\n      <td>3</td>\n      <td>Guardians of the Galaxy Vol. 2</td>\n      <td>(2017)</td>\n    </tr>\n    <tr>\n      <td>4</td>\n      <td>Wonder Woman</td>\n      <td>(2017)</td>\n    </tr>\n    <tr>\n      <td>...</td>\n      <td>...</td>\n      <td>...</td>\n    </tr>\n    <tr>\n      <td>3916</td>\n      <td>Outlaw King</td>\n      <td>(2018)</td>\n    </tr>\n    <tr>\n      <td>3917</td>\n      <td>Sorry to Bother You</td>\n      <td>(2018)</td>\n    </tr>\n    <tr>\n      <td>3918</td>\n      <td>Mowgli: Legend of the Jungle</td>\n      <td>(2018)</td>\n    </tr>\n    <tr>\n      <td>3919</td>\n      <td>Suspiria</td>\n      <td>(I) (2018)</td>\n    </tr>\n    <tr>\n      <td>3920</td>\n      <td>Fifty Shades Freed</td>\n      <td>(2018)</td>\n    </tr>\n  </tbody>\n</table>\n<p>3921 rows × 2 columns</p>\n</div>",
      "text/plain": "                                        movie       years\n0                                       Logan      (2017)\n1                              Thor: Ragnarok      (2017)\n2     Star Wars: Episode VIII - The Last Jedi      (2017)\n3              Guardians of the Galaxy Vol. 2      (2017)\n4                                Wonder Woman      (2017)\n...                                       ...         ...\n3916                              Outlaw King      (2018)\n3917                      Sorry to Bother You      (2018)\n3918             Mowgli: Legend of the Jungle      (2018)\n3919                                 Suspiria  (I) (2018)\n3920                       Fifty Shades Freed      (2018)\n\n[3921 rows x 2 columns]"
     },
     "execution_count": 4,
     "metadata": {},
     "output_type": "execute_result"
    }
   ],
   "source": [
    "df_films = df_movie[['movie','years']]\n",
    "df_films"
   ]
  },
  {
   "cell_type": "code",
   "execution_count": 5,
   "metadata": {},
   "outputs": [
    {
     "data": {
      "text/html": "<div>\n<style scoped>\n    .dataframe tbody tr th:only-of-type {\n        vertical-align: middle;\n    }\n\n    .dataframe tbody tr th {\n        vertical-align: top;\n    }\n\n    .dataframe thead th {\n        text-align: right;\n    }\n</style>\n<table border=\"1\" class=\"dataframe\">\n  <thead>\n    <tr style=\"text-align: right;\">\n      <th></th>\n      <th>imdb</th>\n      <th>votes</th>\n      <th>metascore</th>\n    </tr>\n  </thead>\n  <tbody>\n    <tr>\n      <td>0</td>\n      <td>8.1</td>\n      <td>603294</td>\n      <td>77</td>\n    </tr>\n    <tr>\n      <td>1</td>\n      <td>7.9</td>\n      <td>536979</td>\n      <td>74</td>\n    </tr>\n    <tr>\n      <td>2</td>\n      <td>7.0</td>\n      <td>527314</td>\n      <td>85</td>\n    </tr>\n    <tr>\n      <td>3</td>\n      <td>7.6</td>\n      <td>527257</td>\n      <td>67</td>\n    </tr>\n    <tr>\n      <td>4</td>\n      <td>7.4</td>\n      <td>519811</td>\n      <td>76</td>\n    </tr>\n    <tr>\n      <td>...</td>\n      <td>...</td>\n      <td>...</td>\n      <td>...</td>\n    </tr>\n    <tr>\n      <td>3916</td>\n      <td>6.9</td>\n      <td>52776</td>\n      <td>59</td>\n    </tr>\n    <tr>\n      <td>3917</td>\n      <td>6.9</td>\n      <td>52007</td>\n      <td>80</td>\n    </tr>\n    <tr>\n      <td>3918</td>\n      <td>6.5</td>\n      <td>51622</td>\n      <td>51</td>\n    </tr>\n    <tr>\n      <td>3919</td>\n      <td>6.8</td>\n      <td>51034</td>\n      <td>64</td>\n    </tr>\n    <tr>\n      <td>3920</td>\n      <td>4.5</td>\n      <td>49484</td>\n      <td>31</td>\n    </tr>\n  </tbody>\n</table>\n<p>3921 rows × 3 columns</p>\n</div>",
      "text/plain": "      imdb   votes  metascore\n0      8.1  603294         77\n1      7.9  536979         74\n2      7.0  527314         85\n3      7.6  527257         67\n4      7.4  519811         76\n...    ...     ...        ...\n3916   6.9   52776         59\n3917   6.9   52007         80\n3918   6.5   51622         51\n3919   6.8   51034         64\n3920   4.5   49484         31\n\n[3921 rows x 3 columns]"
     },
     "execution_count": 5,
     "metadata": {},
     "output_type": "execute_result"
    }
   ],
   "source": [
    "df_classement= df_movie[['imdb','votes','metascore']]\n",
    "df_classement"
   ]
  },
  {
   "cell_type": "code",
   "execution_count": null,
   "metadata": {},
   "outputs": [],
   "source": [
    "df_note['votes'].max()"
   ]
  },
  {
   "cell_type": "code",
   "execution_count": null,
   "metadata": {},
   "outputs": [],
   "source": []
  },
  {
   "cell_type": "markdown",
   "metadata": {},
   "source": [
    "## 2ème étape: Stockage des données dans une base SQL"
   ]
  },
  {
   "cell_type": "markdown",
   "metadata": {},
   "source": [
    "insérer les données dans la table classement"
   ]
  },
  {
   "cell_type": "code",
   "execution_count": 6,
   "metadata": {},
   "outputs": [],
   "source": [
    "# Connection à la database\n",
    "connection = pymysql.connect(host='localhost', user='root', password='@Yunalabest974.', db='movie')\n",
    "\n",
    "# creation cursor\n",
    "cursor=connection.cursor()\n",
    "\n",
    "# Insertion des données dans la dataFrame\n",
    "for i,row in df_classement.iterrows():\n",
    "    sql = \"INSERT INTO classement(imdb,votes, metascore) VALUES (\" + \"%s,\"*(len(row)-1) + \"%s)\"\n",
    "    cursor.execute(sql, tuple(row))\n",
    "\n",
    "    # the connection is not autocommitted by default, so we must commit to save our changes\n",
    "    connection.commit()\n",
    "    \n",
    "connection.close()"
   ]
  },
  {
   "cell_type": "markdown",
   "metadata": {},
   "source": [
    "insérer les données dans la table  style "
   ]
  },
  {
   "cell_type": "code",
   "execution_count": 7,
   "metadata": {},
   "outputs": [],
   "source": [
    "# Connection à la database\n",
    "connection = pymysql.connect(host='localhost', user='root', password='@Yunalabest974.', db='movie')\n",
    "\n",
    "# creation cursor\n",
    "cursor=connection.cursor()\n",
    "\n",
    "# Insertion des données dans la dataFrame\n",
    "for i,row in df_style.iterrows():\n",
    "    sql = \"INSERT INTO style(genre) VALUES (\" + \"%s,\"*(len(row)-1) + \"%s)\"\n",
    "    cursor.execute(sql, tuple(row))\n",
    "\n",
    "    # the connection is not autocommitted by default, so we must commit to save our changes\n",
    "    connection.commit()\n",
    "    \n",
    "connection.close()"
   ]
  },
  {
   "cell_type": "markdown",
   "metadata": {},
   "source": [
    "insérer les données dans la table classement"
   ]
  },
  {
   "cell_type": "code",
   "execution_count": 8,
   "metadata": {},
   "outputs": [],
   "source": [
    "# Connection à la database\n",
    "connection = pymysql.connect(host='localhost', user='root', password='@Yunalabest974.', db='movie')\n",
    "\n",
    "# creation cursor\n",
    "cursor=connection.cursor()\n",
    "\n",
    "# Insertion des données dans la dataFrame\n",
    "for i,row in df_films.iterrows():\n",
    "    sql = \"INSERT INTO films(movie, years) VALUES (\" + \"%s,\"*(len(row)-1) + \"%s)\"\n",
    "    cursor.execute(sql, tuple(row))\n",
    "\n",
    "    # the connection is not autocommitted by default, so we must commit to save our changes\n",
    "    connection.commit()\n",
    "    \n",
    "connection.close()"
   ]
  },
  {
   "cell_type": "code",
   "execution_count": null,
   "metadata": {},
   "outputs": [],
   "source": []
  },
  {
   "cell_type": "code",
   "execution_count": null,
   "metadata": {},
   "outputs": [],
   "source": []
  }
 ]
}