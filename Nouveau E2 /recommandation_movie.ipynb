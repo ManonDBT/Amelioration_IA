{
  "nbformat": 4,
  "nbformat_minor": 0,
  "metadata": {
    "colab": {
      "name": "recommandation_movie.ipynb",
      "provenance": []
    },
    "kernelspec": {
      "name": "python3",
      "display_name": "Python 3"
    },
    "language_info": {
      "name": "python"
    },
    "accelerator": "GPU",
    "widgets": {
      "application/vnd.jupyter.widget-state+json": {
        "0a6b1e3431984d49925f058bf4256768": {
          "model_module": "@jupyter-widgets/controls",
          "model_name": "HBoxModel",
          "state": {
            "_view_name": "HBoxView",
            "_dom_classes": [],
            "_model_name": "HBoxModel",
            "_view_module": "@jupyter-widgets/controls",
            "_model_module_version": "1.5.0",
            "_view_count": null,
            "_view_module_version": "1.5.0",
            "box_style": "",
            "layout": "IPY_MODEL_a1c27f50b03f4180b9d580d9cdae3be9",
            "_model_module": "@jupyter-widgets/controls",
            "children": [
              "IPY_MODEL_ec98cf83e9684ca3926810f99659ec9f",
              "IPY_MODEL_8ad1ed9569694a868304b12e5be74f2e"
            ]
          }
        },
        "a1c27f50b03f4180b9d580d9cdae3be9": {
          "model_module": "@jupyter-widgets/base",
          "model_name": "LayoutModel",
          "state": {
            "_view_name": "LayoutView",
            "grid_template_rows": null,
            "right": null,
            "justify_content": null,
            "_view_module": "@jupyter-widgets/base",
            "overflow": null,
            "_model_module_version": "1.2.0",
            "_view_count": null,
            "flex_flow": null,
            "width": null,
            "min_width": null,
            "border": null,
            "align_items": null,
            "bottom": null,
            "_model_module": "@jupyter-widgets/base",
            "top": null,
            "grid_column": null,
            "overflow_y": null,
            "overflow_x": null,
            "grid_auto_flow": null,
            "grid_area": null,
            "grid_template_columns": null,
            "flex": null,
            "_model_name": "LayoutModel",
            "justify_items": null,
            "grid_row": null,
            "max_height": null,
            "align_content": null,
            "visibility": null,
            "align_self": null,
            "height": null,
            "min_height": null,
            "padding": null,
            "grid_auto_rows": null,
            "grid_gap": null,
            "max_width": null,
            "order": null,
            "_view_module_version": "1.2.0",
            "grid_template_areas": null,
            "object_position": null,
            "object_fit": null,
            "grid_auto_columns": null,
            "margin": null,
            "display": null,
            "left": null
          }
        },
        "ec98cf83e9684ca3926810f99659ec9f": {
          "model_module": "@jupyter-widgets/controls",
          "model_name": "FloatProgressModel",
          "state": {
            "_view_name": "ProgressView",
            "style": "IPY_MODEL_3af5604a3d044fa2b1ac57549427e1fc",
            "_dom_classes": [],
            "description": "100%",
            "_model_name": "FloatProgressModel",
            "bar_style": "success",
            "max": 305584576,
            "_view_module": "@jupyter-widgets/controls",
            "_model_module_version": "1.5.0",
            "value": 305584576,
            "_view_count": null,
            "_view_module_version": "1.5.0",
            "orientation": "horizontal",
            "min": 0,
            "description_tooltip": null,
            "_model_module": "@jupyter-widgets/controls",
            "layout": "IPY_MODEL_9cffe830e6c54f8b845b872e9703fb0d"
          }
        },
        "8ad1ed9569694a868304b12e5be74f2e": {
          "model_module": "@jupyter-widgets/controls",
          "model_name": "HTMLModel",
          "state": {
            "_view_name": "HTMLView",
            "style": "IPY_MODEL_8a906e1ffd554f4b8a01a4005f482d68",
            "_dom_classes": [],
            "description": "",
            "_model_name": "HTMLModel",
            "placeholder": "​",
            "_view_module": "@jupyter-widgets/controls",
            "_model_module_version": "1.5.0",
            "value": " 306M/306M [00:24&lt;00:00, 12.7MB/s]",
            "_view_count": null,
            "_view_module_version": "1.5.0",
            "description_tooltip": null,
            "_model_module": "@jupyter-widgets/controls",
            "layout": "IPY_MODEL_e8fe2283c4b64ee7aa981eebfd45b2fe"
          }
        },
        "3af5604a3d044fa2b1ac57549427e1fc": {
          "model_module": "@jupyter-widgets/controls",
          "model_name": "ProgressStyleModel",
          "state": {
            "_view_name": "StyleView",
            "_model_name": "ProgressStyleModel",
            "description_width": "initial",
            "_view_module": "@jupyter-widgets/base",
            "_model_module_version": "1.5.0",
            "_view_count": null,
            "_view_module_version": "1.2.0",
            "bar_color": null,
            "_model_module": "@jupyter-widgets/controls"
          }
        },
        "9cffe830e6c54f8b845b872e9703fb0d": {
          "model_module": "@jupyter-widgets/base",
          "model_name": "LayoutModel",
          "state": {
            "_view_name": "LayoutView",
            "grid_template_rows": null,
            "right": null,
            "justify_content": null,
            "_view_module": "@jupyter-widgets/base",
            "overflow": null,
            "_model_module_version": "1.2.0",
            "_view_count": null,
            "flex_flow": null,
            "width": null,
            "min_width": null,
            "border": null,
            "align_items": null,
            "bottom": null,
            "_model_module": "@jupyter-widgets/base",
            "top": null,
            "grid_column": null,
            "overflow_y": null,
            "overflow_x": null,
            "grid_auto_flow": null,
            "grid_area": null,
            "grid_template_columns": null,
            "flex": null,
            "_model_name": "LayoutModel",
            "justify_items": null,
            "grid_row": null,
            "max_height": null,
            "align_content": null,
            "visibility": null,
            "align_self": null,
            "height": null,
            "min_height": null,
            "padding": null,
            "grid_auto_rows": null,
            "grid_gap": null,
            "max_width": null,
            "order": null,
            "_view_module_version": "1.2.0",
            "grid_template_areas": null,
            "object_position": null,
            "object_fit": null,
            "grid_auto_columns": null,
            "margin": null,
            "display": null,
            "left": null
          }
        },
        "8a906e1ffd554f4b8a01a4005f482d68": {
          "model_module": "@jupyter-widgets/controls",
          "model_name": "DescriptionStyleModel",
          "state": {
            "_view_name": "StyleView",
            "_model_name": "DescriptionStyleModel",
            "description_width": "",
            "_view_module": "@jupyter-widgets/base",
            "_model_module_version": "1.5.0",
            "_view_count": null,
            "_view_module_version": "1.2.0",
            "_model_module": "@jupyter-widgets/controls"
          }
        },
        "e8fe2283c4b64ee7aa981eebfd45b2fe": {
          "model_module": "@jupyter-widgets/base",
          "model_name": "LayoutModel",
          "state": {
            "_view_name": "LayoutView",
            "grid_template_rows": null,
            "right": null,
            "justify_content": null,
            "_view_module": "@jupyter-widgets/base",
            "overflow": null,
            "_model_module_version": "1.2.0",
            "_view_count": null,
            "flex_flow": null,
            "width": null,
            "min_width": null,
            "border": null,
            "align_items": null,
            "bottom": null,
            "_model_module": "@jupyter-widgets/base",
            "top": null,
            "grid_column": null,
            "overflow_y": null,
            "overflow_x": null,
            "grid_auto_flow": null,
            "grid_area": null,
            "grid_template_columns": null,
            "flex": null,
            "_model_name": "LayoutModel",
            "justify_items": null,
            "grid_row": null,
            "max_height": null,
            "align_content": null,
            "visibility": null,
            "align_self": null,
            "height": null,
            "min_height": null,
            "padding": null,
            "grid_auto_rows": null,
            "grid_gap": null,
            "max_width": null,
            "order": null,
            "_view_module_version": "1.2.0",
            "grid_template_areas": null,
            "object_position": null,
            "object_fit": null,
            "grid_auto_columns": null,
            "margin": null,
            "display": null,
            "left": null
          }
        }
      }
    }
  },
  "cells": [
    {
      "cell_type": "code",
      "metadata": {
        "id": "yMIY1VBagIA0"
      },
      "source": [
        "! pip install faiss-gpu ##Installing GPU version of faiss"
      ],
      "execution_count": null,
      "outputs": []
    },
    {
      "cell_type": "code",
      "metadata": {
        "id": "hxDly08agR-k"
      },
      "source": [
        "! pip install sentence_transformers ## For textual similarity, using pretrained models"
      ],
      "execution_count": null,
      "outputs": []
    },
    {
      "cell_type": "code",
      "metadata": {
        "id": "2zUJcTTLf5LW"
      },
      "source": [
        "import numpy as np # linear algebra\n",
        "import pandas as pd # data processing, CSV file I/O (e.g. pd.read_csv)\n",
        "import faiss\n",
        "from sentence_transformers import SentenceTransformer, util\n",
        "import math"
      ],
      "execution_count": 29,
      "outputs": []
    },
    {
      "cell_type": "code",
      "metadata": {
        "colab": {
          "base_uri": "https://localhost:8080/",
          "height": 67,
          "referenced_widgets": [
            "0a6b1e3431984d49925f058bf4256768",
            "a1c27f50b03f4180b9d580d9cdae3be9",
            "ec98cf83e9684ca3926810f99659ec9f",
            "8ad1ed9569694a868304b12e5be74f2e",
            "3af5604a3d044fa2b1ac57549427e1fc",
            "9cffe830e6c54f8b845b872e9703fb0d",
            "8a906e1ffd554f4b8a01a4005f482d68",
            "e8fe2283c4b64ee7aa981eebfd45b2fe"
          ]
        },
        "id": "KYqsycUhgCIS",
        "outputId": "5f38d132-2111-400b-c87d-41289ee25e79"
      },
      "source": [
        "model = SentenceTransformer('paraphrase-distilroberta-base-v1',device=\"cuda\") ## On GPU Loads the distil roberta model,whcih was trained on millions of data"
      ],
      "execution_count": 7,
      "outputs": [
        {
          "output_type": "display_data",
          "data": {
            "application/vnd.jupyter.widget-view+json": {
              "model_id": "0a6b1e3431984d49925f058bf4256768",
              "version_minor": 0,
              "version_major": 2
            },
            "text/plain": [
              "HBox(children=(FloatProgress(value=0.0, max=305584576.0), HTML(value='')))"
            ]
          },
          "metadata": {
            "tags": []
          }
        },
        {
          "output_type": "stream",
          "text": [
            "\n"
          ],
          "name": "stdout"
        }
      ]
    },
    {
      "cell_type": "markdown",
      "metadata": {
        "id": "B959WN03oqNS"
      },
      "source": [
        "### Load the movies data"
      ]
    },
    {
      "cell_type": "code",
      "metadata": {
        "colab": {
          "base_uri": "https://localhost:8080/"
        },
        "id": "WhVIl9BVgeW_",
        "outputId": "e7df1473-a970-407c-c3f0-502aee43154d"
      },
      "source": [
        "imdb_movies=pd.read_json('./imdb.json', orient = 'split')\n",
        "imdb_movies.shape"
      ],
      "execution_count": 50,
      "outputs": [
        {
          "output_type": "execute_result",
          "data": {
            "text/plain": [
              "(10000, 9)"
            ]
          },
          "metadata": {
            "tags": []
          },
          "execution_count": 50
        }
      ]
    },
    {
      "cell_type": "code",
      "metadata": {
        "colab": {
          "base_uri": "https://localhost:8080/",
          "height": 145
        },
        "id": "A3M0x5wgh5t4",
        "outputId": "2448db16-dd68-43df-aa71-9bb429a16984"
      },
      "source": [
        "imdb_movies.head(2)"
      ],
      "execution_count": 52,
      "outputs": [
        {
          "output_type": "execute_result",
          "data": {
            "text/html": [
              "<div>\n",
              "<style scoped>\n",
              "    .dataframe tbody tr th:only-of-type {\n",
              "        vertical-align: middle;\n",
              "    }\n",
              "\n",
              "    .dataframe tbody tr th {\n",
              "        vertical-align: top;\n",
              "    }\n",
              "\n",
              "    .dataframe thead th {\n",
              "        text-align: right;\n",
              "    }\n",
              "</style>\n",
              "<table border=\"1\" class=\"dataframe\">\n",
              "  <thead>\n",
              "    <tr style=\"text-align: right;\">\n",
              "      <th></th>\n",
              "      <th>titre</th>\n",
              "      <th>année</th>\n",
              "      <th>certificate</th>\n",
              "      <th>genre</th>\n",
              "      <th>durée</th>\n",
              "      <th>metascore</th>\n",
              "      <th>stars</th>\n",
              "      <th>votes</th>\n",
              "      <th>description</th>\n",
              "    </tr>\n",
              "  </thead>\n",
              "  <tbody>\n",
              "    <tr>\n",
              "      <th>0</th>\n",
              "      <td>Godzilla vs. Kong</td>\n",
              "      <td>2021.0</td>\n",
              "      <td>PG-13</td>\n",
              "      <td>[Action, Sci-Fi, Thriller]</td>\n",
              "      <td>113.0</td>\n",
              "      <td>59.0</td>\n",
              "      <td>6.5</td>\n",
              "      <td>NaN</td>\n",
              "      <td>The epic next chapter in the cinematic Monster...</td>\n",
              "    </tr>\n",
              "    <tr>\n",
              "      <th>1</th>\n",
              "      <td>Black Widow</td>\n",
              "      <td>2021.0</td>\n",
              "      <td>PG-13</td>\n",
              "      <td>[Action, Adventure, Sci-Fi]</td>\n",
              "      <td>133.0</td>\n",
              "      <td>NaN</td>\n",
              "      <td>NaN</td>\n",
              "      <td>NaN</td>\n",
              "      <td>A film about Natasha Romanoff in her quests be...</td>\n",
              "    </tr>\n",
              "  </tbody>\n",
              "</table>\n",
              "</div>"
            ],
            "text/plain": [
              "               titre  ...                                        description\n",
              "0  Godzilla vs. Kong  ...  The epic next chapter in the cinematic Monster...\n",
              "1        Black Widow  ...  A film about Natasha Romanoff in her quests be...\n",
              "\n",
              "[2 rows x 9 columns]"
            ]
          },
          "metadata": {
            "tags": []
          },
          "execution_count": 52
        }
      ]
    },
    {
      "cell_type": "code",
      "metadata": {
        "id": "z1an-ic1lI8W"
      },
      "source": [
        "## Dropping off rows where Movie Description is NULL\n",
        "imdb_movies=imdb_movies[pd.notnull(imdb_movies['description'])]\n",
        "imdb_movies=imdb_movies.reset_index(drop=True)"
      ],
      "execution_count": 53,
      "outputs": []
    },
    {
      "cell_type": "code",
      "metadata": {
        "id": "8ZoR0hXplMgr"
      },
      "source": [
        "imdb_movies['id']=imdb_movies.index"
      ],
      "execution_count": 55,
      "outputs": []
    },
    {
      "cell_type": "code",
      "metadata": {
        "colab": {
          "base_uri": "https://localhost:8080/",
          "height": 145
        },
        "id": "M_kyHg5ulQkt",
        "outputId": "df4bbbd2-3894-4bde-9f2b-0ea093b9093e"
      },
      "source": [
        "imdb_movies.head(2)"
      ],
      "execution_count": 56,
      "outputs": [
        {
          "output_type": "execute_result",
          "data": {
            "text/html": [
              "<div>\n",
              "<style scoped>\n",
              "    .dataframe tbody tr th:only-of-type {\n",
              "        vertical-align: middle;\n",
              "    }\n",
              "\n",
              "    .dataframe tbody tr th {\n",
              "        vertical-align: top;\n",
              "    }\n",
              "\n",
              "    .dataframe thead th {\n",
              "        text-align: right;\n",
              "    }\n",
              "</style>\n",
              "<table border=\"1\" class=\"dataframe\">\n",
              "  <thead>\n",
              "    <tr style=\"text-align: right;\">\n",
              "      <th></th>\n",
              "      <th>titre</th>\n",
              "      <th>année</th>\n",
              "      <th>certificate</th>\n",
              "      <th>genre</th>\n",
              "      <th>durée</th>\n",
              "      <th>metascore</th>\n",
              "      <th>stars</th>\n",
              "      <th>votes</th>\n",
              "      <th>description</th>\n",
              "      <th>id</th>\n",
              "    </tr>\n",
              "  </thead>\n",
              "  <tbody>\n",
              "    <tr>\n",
              "      <th>0</th>\n",
              "      <td>Godzilla vs. Kong</td>\n",
              "      <td>2021.0</td>\n",
              "      <td>PG-13</td>\n",
              "      <td>[Action, Sci-Fi, Thriller]</td>\n",
              "      <td>113.0</td>\n",
              "      <td>59.0</td>\n",
              "      <td>6.5</td>\n",
              "      <td>NaN</td>\n",
              "      <td>The epic next chapter in the cinematic Monster...</td>\n",
              "      <td>0</td>\n",
              "    </tr>\n",
              "    <tr>\n",
              "      <th>1</th>\n",
              "      <td>Black Widow</td>\n",
              "      <td>2021.0</td>\n",
              "      <td>PG-13</td>\n",
              "      <td>[Action, Adventure, Sci-Fi]</td>\n",
              "      <td>133.0</td>\n",
              "      <td>NaN</td>\n",
              "      <td>NaN</td>\n",
              "      <td>NaN</td>\n",
              "      <td>A film about Natasha Romanoff in her quests be...</td>\n",
              "      <td>1</td>\n",
              "    </tr>\n",
              "  </tbody>\n",
              "</table>\n",
              "</div>"
            ],
            "text/plain": [
              "               titre  ...  id\n",
              "0  Godzilla vs. Kong  ...   0\n",
              "1        Black Widow  ...   1\n",
              "\n",
              "[2 rows x 10 columns]"
            ]
          },
          "metadata": {
            "tags": []
          },
          "execution_count": 56
        }
      ]
    },
    {
      "cell_type": "markdown",
      "metadata": {
        "id": "84S3iwPzoimH"
      },
      "source": [
        "## Extract the Embeddings for movie description"
      ]
    },
    {
      "cell_type": "code",
      "metadata": {
        "colab": {
          "base_uri": "https://localhost:8080/"
        },
        "id": "VSIMCKGMlRDI",
        "outputId": "38ed296c-993f-4577-8050-eedae0943c3d"
      },
      "source": [
        "sentences=imdb_movies['description'].tolist()\n",
        "print(\"Number of Sentences in Movie Description \",len(sentences))"
      ],
      "execution_count": 57,
      "outputs": [
        {
          "output_type": "stream",
          "text": [
            "Number of Sentences in Movie Description  10000\n"
          ],
          "name": "stdout"
        }
      ]
    },
    {
      "cell_type": "code",
      "metadata": {
        "id": "DPUMXngNlYmo"
      },
      "source": [
        "embeddings=model.encode(sentences)\n",
        "faiss.normalize_L2(embeddings) "
      ],
      "execution_count": 58,
      "outputs": []
    },
    {
      "cell_type": "code",
      "metadata": {
        "colab": {
          "base_uri": "https://localhost:8080/"
        },
        "id": "0blxDpw2laoz",
        "outputId": "d91aca34-324e-4eac-d065-74cbcc104f42"
      },
      "source": [
        "print(\"Shape of the EMbeddings is \",embeddings.shape)"
      ],
      "execution_count": 59,
      "outputs": [
        {
          "output_type": "stream",
          "text": [
            "Shape of the EMbeddings is  (10000, 768)\n"
          ],
          "name": "stdout"
        }
      ]
    },
    {
      "cell_type": "code",
      "metadata": {
        "colab": {
          "base_uri": "https://localhost:8080/"
        },
        "id": "l9E9rAE0ovSx",
        "outputId": "e4bd1fc0-df84-402c-8235-0bba7bc493d2"
      },
      "source": [
        "## We get a 768 dimension vector using Roberta. So we will create FAISS index with dimaensions - 768\n",
        "\n",
        "dim=768\n",
        "ncentroids=50 ## This is a hyperparameter, and indicates number of clusters to be split into\n",
        "m=16 ## This is also a hyper parameter\n",
        "quantiser = faiss.IndexFlatL2(dim)\n",
        "index = faiss.IndexIVFPQ (quantiser, dim,ncentroids, m , 8)\n",
        "index.train(embeddings) ## This step, will do the clustering and create the clusters\n",
        "print(index.is_trained)\n",
        "faiss.write_index(index, \"trained.index\")"
      ],
      "execution_count": 60,
      "outputs": [
        {
          "output_type": "stream",
          "text": [
            "True\n"
          ],
          "name": "stdout"
        }
      ]
    },
    {
      "cell_type": "code",
      "metadata": {
        "colab": {
          "base_uri": "https://localhost:8080/"
        },
        "id": "I5SU_0FooyRW",
        "outputId": "ca0da5a6-a9e9-45b1-80ca-bdfa74bef90b"
      },
      "source": [
        "### We have to add the embeddings to the Trained Index.\n",
        "ids=imdb_movies['id'].tolist()\n",
        "ids=np.array(ids)\n",
        "index.add_with_ids(embeddings,ids)\n",
        "print(index.ntotal)\n"
      ],
      "execution_count": 61,
      "outputs": [
        {
          "output_type": "stream",
          "text": [
            "10000\n"
          ],
          "name": "stdout"
        }
      ]
    },
    {
      "cell_type": "code",
      "metadata": {
        "id": "F_QpwoKMoyZx"
      },
      "source": [
        "faiss.write_index(index,\"block.index\")"
      ],
      "execution_count": 62,
      "outputs": []
    },
    {
      "cell_type": "markdown",
      "metadata": {
        "id": "qlMWvndao4-W"
      },
      "source": [
        "## Let us use the FAISS index to search for similar movie plots"
      ]
    },
    {
      "cell_type": "code",
      "metadata": {
        "id": "Jy4eeu6eoydW"
      },
      "source": [
        "def searchFAISSIndex(data,id_col_name,query,index,nprobe,model,topk=20):\n",
        "    ## Convert the query into embeddings\n",
        "    query_embedding=model.encode([query])[0]\n",
        "    dim=query_embedding.shape[0]\n",
        "    query_embedding=query_embedding.reshape(1,dim)\n",
        "    faiss.normalize_L2(query_embedding)\n",
        "  \n",
        "    \n",
        "    index.nprobe=nprobe\n",
        "    \n",
        "    D,I=index.search(query_embedding,topk) \n",
        "    ids=[i for i in I][0]\n",
        "    L2_score=[d for d in D][0]\n",
        "    inner_product=[calculateInnerProduct(l2) for l2 in L2_score]\n",
        "    search_result=pd.DataFrame()\n",
        "    search_result[id_col_name]=ids\n",
        "    search_result['cosine_sim']=inner_product\n",
        "    search_result['L2_score']=L2_score\n",
        "    dat=data[data[id_col_name].isin(ids)]\n",
        "    dat=pd.merge(dat,search_result,on=id_col_name)\n",
        "    dat=dat.sort_values('cosine_sim',ascending=False)\n",
        "    return dat"
      ],
      "execution_count": 63,
      "outputs": []
    },
    {
      "cell_type": "code",
      "metadata": {
        "id": "HwSMMb85qzLT"
      },
      "source": [
        "def calculateInnerProduct(L2_score):\n",
        "    return (2-math.pow(L2_score,2))/2"
      ],
      "execution_count": 64,
      "outputs": []
    },
    {
      "cell_type": "code",
      "metadata": {
        "id": "O1LjbAqgpA6G"
      },
      "source": [
        "query=\"Princess in castle\"\n",
        "search_result=searchFAISSIndex(imdb_movies,\"id\",query,index,nprobe=10,model=model,topk=20)\n",
        "search_result=search_result[['id','description','titre','cosine_sim','L2_score']]"
      ],
      "execution_count": 66,
      "outputs": []
    },
    {
      "cell_type": "code",
      "metadata": {
        "colab": {
          "base_uri": "https://localhost:8080/",
          "height": 669
        },
        "id": "j92k7Y-WpA80",
        "outputId": "9a477ef6-622d-4c72-acd8-8d86888e82d5"
      },
      "source": [
        "search_result"
      ],
      "execution_count": 67,
      "outputs": [
        {
          "output_type": "execute_result",
          "data": {
            "text/html": [
              "<div>\n",
              "<style scoped>\n",
              "    .dataframe tbody tr th:only-of-type {\n",
              "        vertical-align: middle;\n",
              "    }\n",
              "\n",
              "    .dataframe tbody tr th {\n",
              "        vertical-align: top;\n",
              "    }\n",
              "\n",
              "    .dataframe thead th {\n",
              "        text-align: right;\n",
              "    }\n",
              "</style>\n",
              "<table border=\"1\" class=\"dataframe\">\n",
              "  <thead>\n",
              "    <tr style=\"text-align: right;\">\n",
              "      <th></th>\n",
              "      <th>id</th>\n",
              "      <th>description</th>\n",
              "      <th>titre</th>\n",
              "      <th>cosine_sim</th>\n",
              "      <th>L2_score</th>\n",
              "    </tr>\n",
              "  </thead>\n",
              "  <tbody>\n",
              "    <tr>\n",
              "      <th>8</th>\n",
              "      <td>3512</td>\n",
              "      <td>The early years of the reign of Elizabeth I of...</td>\n",
              "      <td>Elizabeth</td>\n",
              "      <td>0.585967</td>\n",
              "      <td>0.909981</td>\n",
              "    </tr>\n",
              "    <tr>\n",
              "      <th>3</th>\n",
              "      <td>1268</td>\n",
              "      <td>Reluctantly designated as the heir to the land...</td>\n",
              "      <td>Shrek the Third</td>\n",
              "      <td>0.532843</td>\n",
              "      <td>0.966599</td>\n",
              "    </tr>\n",
              "    <tr>\n",
              "      <th>1</th>\n",
              "      <td>672</td>\n",
              "      <td>When an unconfident young woman is cursed with...</td>\n",
              "      <td>Howl's Moving Castle</td>\n",
              "      <td>0.532425</td>\n",
              "      <td>0.967031</td>\n",
              "    </tr>\n",
              "    <tr>\n",
              "      <th>18</th>\n",
              "      <td>8799</td>\n",
              "      <td>Set in medieval Rajasthan, Queen Padmavati is ...</td>\n",
              "      <td>Padmaavat</td>\n",
              "      <td>0.526439</td>\n",
              "      <td>0.973202</td>\n",
              "    </tr>\n",
              "    <tr>\n",
              "      <th>6</th>\n",
              "      <td>1678</td>\n",
              "      <td>A prince cursed to spend his days as a hideous...</td>\n",
              "      <td>Beauty and the Beast</td>\n",
              "      <td>0.523838</td>\n",
              "      <td>0.975870</td>\n",
              "    </tr>\n",
              "    <tr>\n",
              "      <th>15</th>\n",
              "      <td>6675</td>\n",
              "      <td>An Albanian castle with bloodthirsty creatures...</td>\n",
              "      <td>Castle Freak</td>\n",
              "      <td>0.522766</td>\n",
              "      <td>0.976969</td>\n",
              "    </tr>\n",
              "    <tr>\n",
              "      <th>0</th>\n",
              "      <td>541</td>\n",
              "      <td>On an isolated island in Brittany at the end o...</td>\n",
              "      <td>Portrait of a Lady on Fire</td>\n",
              "      <td>0.522300</td>\n",
              "      <td>0.977446</td>\n",
              "    </tr>\n",
              "    <tr>\n",
              "      <th>9</th>\n",
              "      <td>3969</td>\n",
              "      <td>A Scottish lord becomes convinced by a trio of...</td>\n",
              "      <td>The Tragedy of Macbeth</td>\n",
              "      <td>0.519349</td>\n",
              "      <td>0.980460</td>\n",
              "    </tr>\n",
              "    <tr>\n",
              "      <th>7</th>\n",
              "      <td>2235</td>\n",
              "      <td>A bored and sheltered princess escapes her gua...</td>\n",
              "      <td>Roman Holiday</td>\n",
              "      <td>0.507908</td>\n",
              "      <td>0.992060</td>\n",
              "    </tr>\n",
              "    <tr>\n",
              "      <th>4</th>\n",
              "      <td>1289</td>\n",
              "      <td>A young maiden in a land called Andalasia, who...</td>\n",
              "      <td>Enchanted</td>\n",
              "      <td>0.500384</td>\n",
              "      <td>0.999616</td>\n",
              "    </tr>\n",
              "    <tr>\n",
              "      <th>12</th>\n",
              "      <td>4337</td>\n",
              "      <td>An evil queen steals control of a kingdom and ...</td>\n",
              "      <td>Mirror Mirror</td>\n",
              "      <td>0.499068</td>\n",
              "      <td>1.000931</td>\n",
              "    </tr>\n",
              "    <tr>\n",
              "      <th>13</th>\n",
              "      <td>4918</td>\n",
              "      <td>The story of Sir Thomas More, who stood up to ...</td>\n",
              "      <td>A Man for All Seasons</td>\n",
              "      <td>0.496148</td>\n",
              "      <td>1.003844</td>\n",
              "    </tr>\n",
              "    <tr>\n",
              "      <th>19</th>\n",
              "      <td>9939</td>\n",
              "      <td>The story of the marriage of England's King Ar...</td>\n",
              "      <td>Camelot</td>\n",
              "      <td>0.495262</td>\n",
              "      <td>1.004727</td>\n",
              "    </tr>\n",
              "    <tr>\n",
              "      <th>2</th>\n",
              "      <td>833</td>\n",
              "      <td>A female gunfighter returns to a frontier town...</td>\n",
              "      <td>The Quick and the Dead</td>\n",
              "      <td>0.487799</td>\n",
              "      <td>1.012127</td>\n",
              "    </tr>\n",
              "    <tr>\n",
              "      <th>10</th>\n",
              "      <td>4053</td>\n",
              "      <td>The sword-wielding warrior, Amethea, embarks o...</td>\n",
              "      <td>Barbarian Queen</td>\n",
              "      <td>0.487663</td>\n",
              "      <td>1.012262</td>\n",
              "    </tr>\n",
              "    <tr>\n",
              "      <th>16</th>\n",
              "      <td>6901</td>\n",
              "      <td>A power-hungry sorcerer curses a princess to l...</td>\n",
              "      <td>The Swan Princess</td>\n",
              "      <td>0.485054</td>\n",
              "      <td>1.014835</td>\n",
              "    </tr>\n",
              "    <tr>\n",
              "      <th>5</th>\n",
              "      <td>1578</td>\n",
              "      <td>A mermaid princess makes a Faustian bargain in...</td>\n",
              "      <td>The Little Mermaid</td>\n",
              "      <td>0.484519</td>\n",
              "      <td>1.015363</td>\n",
              "    </tr>\n",
              "    <tr>\n",
              "      <th>17</th>\n",
              "      <td>8424</td>\n",
              "      <td>During China's Tang dynasty the emperor has ta...</td>\n",
              "      <td>Curse of the Golden Flower</td>\n",
              "      <td>0.481148</td>\n",
              "      <td>1.018678</td>\n",
              "    </tr>\n",
              "    <tr>\n",
              "      <th>14</th>\n",
              "      <td>6137</td>\n",
              "      <td>Three fairy tale princesses find themselves en...</td>\n",
              "      <td>Charming</td>\n",
              "      <td>0.481043</td>\n",
              "      <td>1.018781</td>\n",
              "    </tr>\n",
              "    <tr>\n",
              "      <th>11</th>\n",
              "      <td>4098</td>\n",
              "      <td>After being snubbed by the royal family, a mal...</td>\n",
              "      <td>Sleeping Beauty</td>\n",
              "      <td>0.479646</td>\n",
              "      <td>1.020151</td>\n",
              "    </tr>\n",
              "  </tbody>\n",
              "</table>\n",
              "</div>"
            ],
            "text/plain": [
              "      id  ...  L2_score\n",
              "8   3512  ...  0.909981\n",
              "3   1268  ...  0.966599\n",
              "1    672  ...  0.967031\n",
              "18  8799  ...  0.973202\n",
              "6   1678  ...  0.975870\n",
              "15  6675  ...  0.976969\n",
              "0    541  ...  0.977446\n",
              "9   3969  ...  0.980460\n",
              "7   2235  ...  0.992060\n",
              "4   1289  ...  0.999616\n",
              "12  4337  ...  1.000931\n",
              "13  4918  ...  1.003844\n",
              "19  9939  ...  1.004727\n",
              "2    833  ...  1.012127\n",
              "10  4053  ...  1.012262\n",
              "16  6901  ...  1.014835\n",
              "5   1578  ...  1.015363\n",
              "17  8424  ...  1.018678\n",
              "14  6137  ...  1.018781\n",
              "11  4098  ...  1.020151\n",
              "\n",
              "[20 rows x 5 columns]"
            ]
          },
          "metadata": {
            "tags": []
          },
          "execution_count": 67
        }
      ]
    },
    {
      "cell_type": "code",
      "metadata": {
        "colab": {
          "base_uri": "https://localhost:8080/",
          "height": 669
        },
        "id": "29Q3uN-wpA_J",
        "outputId": "52491099-8d80-44c6-b8c9-76997be5d4f2"
      },
      "source": [
        "query=\"Former Football player  to train an  football team\"\n",
        "search_result=searchFAISSIndex(imdb_movies,\"id\",query,index,nprobe=10,model=model,topk=20)\n",
        "search_result=search_result[['id','description','titre','cosine_sim','L2_score']]\n",
        "search_result"
      ],
      "execution_count": 69,
      "outputs": [
        {
          "output_type": "execute_result",
          "data": {
            "text/html": [
              "<div>\n",
              "<style scoped>\n",
              "    .dataframe tbody tr th:only-of-type {\n",
              "        vertical-align: middle;\n",
              "    }\n",
              "\n",
              "    .dataframe tbody tr th {\n",
              "        vertical-align: top;\n",
              "    }\n",
              "\n",
              "    .dataframe thead th {\n",
              "        text-align: right;\n",
              "    }\n",
              "</style>\n",
              "<table border=\"1\" class=\"dataframe\">\n",
              "  <thead>\n",
              "    <tr style=\"text-align: right;\">\n",
              "      <th></th>\n",
              "      <th>id</th>\n",
              "      <th>description</th>\n",
              "      <th>titre</th>\n",
              "      <th>cosine_sim</th>\n",
              "      <th>L2_score</th>\n",
              "    </tr>\n",
              "  </thead>\n",
              "  <tbody>\n",
              "    <tr>\n",
              "      <th>8</th>\n",
              "      <td>3811</td>\n",
              "      <td>A rookie high school football coach has a hard...</td>\n",
              "      <td>Wildcats</td>\n",
              "      <td>0.594527</td>\n",
              "      <td>0.900526</td>\n",
              "    </tr>\n",
              "    <tr>\n",
              "      <th>16</th>\n",
              "      <td>7173</td>\n",
              "      <td>Jim White moves his family after losing his la...</td>\n",
              "      <td>McFarland, USA</td>\n",
              "      <td>0.573775</td>\n",
              "      <td>0.923283</td>\n",
              "    </tr>\n",
              "    <tr>\n",
              "      <th>18</th>\n",
              "      <td>8569</td>\n",
              "      <td>A failed businessman is hired by the army to t...</td>\n",
              "      <td>Renaissance Man</td>\n",
              "      <td>0.560202</td>\n",
              "      <td>0.937868</td>\n",
              "    </tr>\n",
              "    <tr>\n",
              "      <th>2</th>\n",
              "      <td>762</td>\n",
              "      <td>During a pro football strike, the owners hire ...</td>\n",
              "      <td>The Replacements</td>\n",
              "      <td>0.553604</td>\n",
              "      <td>0.944876</td>\n",
              "    </tr>\n",
              "    <tr>\n",
              "      <th>11</th>\n",
              "      <td>5349</td>\n",
              "      <td>A young Shaolin follower reunites with his dis...</td>\n",
              "      <td>Shaolin Soccer</td>\n",
              "      <td>0.548904</td>\n",
              "      <td>0.949838</td>\n",
              "    </tr>\n",
              "    <tr>\n",
              "      <th>7</th>\n",
              "      <td>3736</td>\n",
              "      <td>Dave Buznik is a businessman who is wrongly se...</td>\n",
              "      <td>Anger Management</td>\n",
              "      <td>0.547416</td>\n",
              "      <td>0.951403</td>\n",
              "    </tr>\n",
              "    <tr>\n",
              "      <th>1</th>\n",
              "      <td>432</td>\n",
              "      <td>Oakland A's general manager Billy Beane's succ...</td>\n",
              "      <td>Moneyball</td>\n",
              "      <td>0.532101</td>\n",
              "      <td>0.967367</td>\n",
              "    </tr>\n",
              "    <tr>\n",
              "      <th>17</th>\n",
              "      <td>8451</td>\n",
              "      <td>A college basketball coach is forced to break ...</td>\n",
              "      <td>Blue Chips</td>\n",
              "      <td>0.529386</td>\n",
              "      <td>0.970169</td>\n",
              "    </tr>\n",
              "    <tr>\n",
              "      <th>3</th>\n",
              "      <td>1405</td>\n",
              "      <td>The true story of a newly appointed African-Am...</td>\n",
              "      <td>Remember the Titans</td>\n",
              "      <td>0.521888</td>\n",
              "      <td>0.977867</td>\n",
              "    </tr>\n",
              "    <tr>\n",
              "      <th>19</th>\n",
              "      <td>9430</td>\n",
              "      <td>Haunted by his mysterious past, a devoted high...</td>\n",
              "      <td>12 Mighty Orphans</td>\n",
              "      <td>0.519530</td>\n",
              "      <td>0.980276</td>\n",
              "    </tr>\n",
              "    <tr>\n",
              "      <th>15</th>\n",
              "      <td>7021</td>\n",
              "      <td>A sports agent stages an unconventional recrui...</td>\n",
              "      <td>Million Dollar Arm</td>\n",
              "      <td>0.519183</td>\n",
              "      <td>0.980629</td>\n",
              "    </tr>\n",
              "    <tr>\n",
              "      <th>5</th>\n",
              "      <td>2790</td>\n",
              "      <td>A back-up quarterback is chosen to lead a Texa...</td>\n",
              "      <td>Varsity Blues</td>\n",
              "      <td>0.509870</td>\n",
              "      <td>0.990081</td>\n",
              "    </tr>\n",
              "    <tr>\n",
              "      <th>14</th>\n",
              "      <td>6557</td>\n",
              "      <td>A grizzled little league coach tries to turn h...</td>\n",
              "      <td>Bad News Bears</td>\n",
              "      <td>0.507521</td>\n",
              "      <td>0.992451</td>\n",
              "    </tr>\n",
              "    <tr>\n",
              "      <th>13</th>\n",
              "      <td>6414</td>\n",
              "      <td>A losing coach with an underdog football team ...</td>\n",
              "      <td>Facing the Giants</td>\n",
              "      <td>0.497319</td>\n",
              "      <td>1.002677</td>\n",
              "    </tr>\n",
              "    <tr>\n",
              "      <th>9</th>\n",
              "      <td>4563</td>\n",
              "      <td>A young hot shot driver is in the middle of a ...</td>\n",
              "      <td>Driven</td>\n",
              "      <td>0.495683</td>\n",
              "      <td>1.004307</td>\n",
              "    </tr>\n",
              "    <tr>\n",
              "      <th>0</th>\n",
              "      <td>102</td>\n",
              "      <td>A self-centered Minnesota lawyer is sentenced ...</td>\n",
              "      <td>The Mighty Ducks</td>\n",
              "      <td>0.491157</td>\n",
              "      <td>1.008804</td>\n",
              "    </tr>\n",
              "    <tr>\n",
              "      <th>4</th>\n",
              "      <td>2527</td>\n",
              "      <td>An aging, down-on-his-luck ex-minor leaguer co...</td>\n",
              "      <td>The Bad News Bears</td>\n",
              "      <td>0.487766</td>\n",
              "      <td>1.012160</td>\n",
              "    </tr>\n",
              "    <tr>\n",
              "      <th>6</th>\n",
              "      <td>3182</td>\n",
              "      <td>A coach with a checkered past and a local drun...</td>\n",
              "      <td>Hoosiers</td>\n",
              "      <td>0.485774</td>\n",
              "      <td>1.014126</td>\n",
              "    </tr>\n",
              "    <tr>\n",
              "      <th>12</th>\n",
              "      <td>5802</td>\n",
              "      <td>A Texas baseball coach makes the major league ...</td>\n",
              "      <td>The Rookie</td>\n",
              "      <td>0.482609</td>\n",
              "      <td>1.017242</td>\n",
              "    </tr>\n",
              "    <tr>\n",
              "      <th>10</th>\n",
              "      <td>5203</td>\n",
              "      <td>A New York City cosmetologist, mistakenly thou...</td>\n",
              "      <td>The Beautician and the Beast</td>\n",
              "      <td>0.480738</td>\n",
              "      <td>1.019080</td>\n",
              "    </tr>\n",
              "  </tbody>\n",
              "</table>\n",
              "</div>"
            ],
            "text/plain": [
              "      id  ...  L2_score\n",
              "8   3811  ...  0.900526\n",
              "16  7173  ...  0.923283\n",
              "18  8569  ...  0.937868\n",
              "2    762  ...  0.944876\n",
              "11  5349  ...  0.949838\n",
              "7   3736  ...  0.951403\n",
              "1    432  ...  0.967367\n",
              "17  8451  ...  0.970169\n",
              "3   1405  ...  0.977867\n",
              "19  9430  ...  0.980276\n",
              "15  7021  ...  0.980629\n",
              "5   2790  ...  0.990081\n",
              "14  6557  ...  0.992451\n",
              "13  6414  ...  1.002677\n",
              "9   4563  ...  1.004307\n",
              "0    102  ...  1.008804\n",
              "4   2527  ...  1.012160\n",
              "6   3182  ...  1.014126\n",
              "12  5802  ...  1.017242\n",
              "10  5203  ...  1.019080\n",
              "\n",
              "[20 rows x 5 columns]"
            ]
          },
          "metadata": {
            "tags": []
          },
          "execution_count": 69
        }
      ]
    },
    {
      "cell_type": "code",
      "metadata": {
        "id": "57DUAW4JpBFO"
      },
      "source": [
        ""
      ],
      "execution_count": null,
      "outputs": []
    },
    {
      "cell_type": "code",
      "metadata": {
        "id": "s-a1h1ddpBHF"
      },
      "source": [
        ""
      ],
      "execution_count": null,
      "outputs": []
    },
    {
      "cell_type": "code",
      "metadata": {
        "id": "NpNlpVz3pBJB"
      },
      "source": [
        ""
      ],
      "execution_count": null,
      "outputs": []
    }
  ]
}